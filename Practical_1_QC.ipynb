{
 "cells": [
  {
   "cell_type": "markdown",
   "metadata": {},
   "source": [
    "# Hail on Jupyter\n",
    "\n",
    "From https://jupyter.org:\n",
    "\n",
    "\"The Jupyter Notebook is an open-source web application that allows you to create and share documents that contain live code, equations, visualizations and narrative text. Uses include: data cleaning and transformation, numerical simulation, statistical modeling, data visualization, machine learning, and much more.\"\n",
    "\n",
    "In the last year, the Jupyter development team released Jupyter Lab, an integrated environment for data, code, and visualizations. If you've used R Studio, this is the closest thing that works in Python (and many other languages!).\n",
    "\n",
    "\n",
    "Part of what we think is so exciting about Hail is that it has coincided with a larger shift in the data science community.\n",
    "\n",
    "Three years ago, most computational biologists at Broad analyzed genetic data using command-line tools, and took advantage of research compute clusters by explicitly using scheduling frameworks like LSF or Sun Grid Engine.\n",
    "\n",
    "Now, they have the option to use Hail in interactive Python notebooks backed by thousands of cores on public compute clouds like [Google Cloud](https://cloud.google.com/), [Amazon Web Services](https://aws.amazon.com/), or [Microsoft Azure](https://azure.microsoft.com/)."
   ]
  },
  {
   "cell_type": "markdown",
   "metadata": {},
   "source": [
    "# Using Jupyter\n",
    "### Running cells\n",
    "Evaluate cells using SHIFT + ENTER. Select the next cell and run it"
   ]
  },
  {
   "cell_type": "code",
   "execution_count": 1,
   "metadata": {},
   "outputs": [
    {
     "name": "stdout",
     "output_type": "stream",
     "text": [
      "Hello, world\n"
     ]
    }
   ],
   "source": [
    "print('Hello, world')"
   ]
  },
  {
   "cell_type": "markdown",
   "metadata": {},
   "source": [
    "### Modes\n",
    "\n",
    "Jupyter has two modes, a **navigation mode** and an **editor mode**.\n",
    "\n",
    "#### Navigation mode:\n",
    "\n",
    " - <font color=\"blue\"><strong>BLUE</strong></font> cell borders\n",
    " - `UP` / `DOWN` move between cells\n",
    " - `ENTER` while a cell is selected will move to **editing mode**.\n",
    " - Many letters are keyboard shortcuts! This is a common trap.\n",
    " \n",
    "#### Editor mode:\n",
    "\n",
    " - <font color=\"green\"><strong>GREEN</strong></font> cell borders\n",
    " - `UP` / `DOWN`/ move within cells before moving between cells.\n",
    " - `ESC` will return to **navigation mode**.\n",
    " - `SHIFT + ENTER` will evaluate a cell and return to **navigation mode**."
   ]
  },
  {
   "cell_type": "markdown",
   "metadata": {},
   "source": [
    "### Cell types\n",
    "\n",
    "There are several types of cells in Jupyter notebooks. The two you will see here are **Markdown** (text) and **Code**."
   ]
  },
  {
   "cell_type": "code",
   "execution_count": 2,
   "metadata": {},
   "outputs": [],
   "source": [
    "# This is a code cell\n",
    "my_variable = 5"
   ]
  },
  {
   "cell_type": "markdown",
   "metadata": {},
   "source": [
    "**This is a markdown cell**, so even if something looks like code (as below), it won't get executed!\n",
    "\n",
    "my_variable += 1"
   ]
  },
  {
   "cell_type": "markdown",
   "metadata": {},
   "source": [
    "### Tips and tricks\n",
    "\n",
    "Keyboard shortcuts:\n",
    "\n",
    " - `SHIFT + ENTER` to evaluate a cell\n",
    " - `ESC` to return to navigation mode\n",
    " - `y` to turn a markdown cell into code\n",
    " - `m` to turn a code cell into markdown\n",
    " - `a` to add a new cell **above** the currently selected cell\n",
    " - `b` to add a new cell **below** the currently selected cell\n",
    " - `d, d` (repeated) to delete the currently selected cell\n",
    " - `TAB` to activate code completion\n",
    " \n",
    "To try this out, create a new cell below this one using `b`, and print `my_variable` by starting with `print(my` and pressing `TAB`!"
   ]
  },
  {
   "cell_type": "markdown",
   "metadata": {},
   "source": [
    "# Set up our Python environment"
   ]
  },
  {
   "cell_type": "markdown",
   "metadata": {},
   "source": [
    "In addition to Hail, we import a few methods from the Hail plotting library. We'll see examples soon!"
   ]
  },
  {
   "cell_type": "code",
   "execution_count": 3,
   "metadata": {},
   "outputs": [],
   "source": [
    "import hail as hl\n",
    "from hail.plot import output_notebook, show"
   ]
  },
  {
   "cell_type": "markdown",
   "metadata": {},
   "source": [
    "Now we initialize Hail and set up plotting to display inline in the notebook."
   ]
  },
  {
   "cell_type": "code",
   "execution_count": 4,
   "metadata": {},
   "outputs": [
    {
     "name": "stderr",
     "output_type": "stream",
     "text": [
      "Running on Apache Spark version 2.4.0\n",
      "SparkUI available at http://10.0.0.74:4042\n",
      "Welcome to\n",
      "     __  __     <>__\n",
      "    / /_/ /__  __/ /\n",
      "   / __  / _ `/ / /\n",
      "  /_/ /_/\\_,_/_/_/   version 0.2.35-577378849928\n",
      "LOGGING: writing to /Users/kumar/Dropbox (Partners HealthCare)/HailTeam/Workshops/BroadE/hail-20200417-1705-0.2.35-577378849928.log\n"
     ]
    },
    {
     "data": {
      "text/html": [
       "\n",
       "    <div class=\"bk-root\">\n",
       "        <a href=\"https://bokeh.pydata.org\" target=\"_blank\" class=\"bk-logo bk-logo-small bk-logo-notebook\"></a>\n",
       "        <span id=\"1001\">Loading BokehJS ...</span>\n",
       "    </div>"
      ]
     },
     "metadata": {},
     "output_type": "display_data"
    },
    {
     "data": {
      "application/javascript": [
       "\n",
       "(function(root) {\n",
       "  function now() {\n",
       "    return new Date();\n",
       "  }\n",
       "\n",
       "  var force = true;\n",
       "\n",
       "  if (typeof root._bokeh_onload_callbacks === \"undefined\" || force === true) {\n",
       "    root._bokeh_onload_callbacks = [];\n",
       "    root._bokeh_is_loading = undefined;\n",
       "  }\n",
       "\n",
       "  var JS_MIME_TYPE = 'application/javascript';\n",
       "  var HTML_MIME_TYPE = 'text/html';\n",
       "  var EXEC_MIME_TYPE = 'application/vnd.bokehjs_exec.v0+json';\n",
       "  var CLASS_NAME = 'output_bokeh rendered_html';\n",
       "\n",
       "  /**\n",
       "   * Render data to the DOM node\n",
       "   */\n",
       "  function render(props, node) {\n",
       "    var script = document.createElement(\"script\");\n",
       "    node.appendChild(script);\n",
       "  }\n",
       "\n",
       "  /**\n",
       "   * Handle when an output is cleared or removed\n",
       "   */\n",
       "  function handleClearOutput(event, handle) {\n",
       "    var cell = handle.cell;\n",
       "\n",
       "    var id = cell.output_area._bokeh_element_id;\n",
       "    var server_id = cell.output_area._bokeh_server_id;\n",
       "    // Clean up Bokeh references\n",
       "    if (id != null && id in Bokeh.index) {\n",
       "      Bokeh.index[id].model.document.clear();\n",
       "      delete Bokeh.index[id];\n",
       "    }\n",
       "\n",
       "    if (server_id !== undefined) {\n",
       "      // Clean up Bokeh references\n",
       "      var cmd = \"from bokeh.io.state import curstate; print(curstate().uuid_to_server['\" + server_id + \"'].get_sessions()[0].document.roots[0]._id)\";\n",
       "      cell.notebook.kernel.execute(cmd, {\n",
       "        iopub: {\n",
       "          output: function(msg) {\n",
       "            var id = msg.content.text.trim();\n",
       "            if (id in Bokeh.index) {\n",
       "              Bokeh.index[id].model.document.clear();\n",
       "              delete Bokeh.index[id];\n",
       "            }\n",
       "          }\n",
       "        }\n",
       "      });\n",
       "      // Destroy server and session\n",
       "      var cmd = \"import bokeh.io.notebook as ion; ion.destroy_server('\" + server_id + \"')\";\n",
       "      cell.notebook.kernel.execute(cmd);\n",
       "    }\n",
       "  }\n",
       "\n",
       "  /**\n",
       "   * Handle when a new output is added\n",
       "   */\n",
       "  function handleAddOutput(event, handle) {\n",
       "    var output_area = handle.output_area;\n",
       "    var output = handle.output;\n",
       "\n",
       "    // limit handleAddOutput to display_data with EXEC_MIME_TYPE content only\n",
       "    if ((output.output_type != \"display_data\") || (!output.data.hasOwnProperty(EXEC_MIME_TYPE))) {\n",
       "      return\n",
       "    }\n",
       "\n",
       "    var toinsert = output_area.element.find(\".\" + CLASS_NAME.split(' ')[0]);\n",
       "\n",
       "    if (output.metadata[EXEC_MIME_TYPE][\"id\"] !== undefined) {\n",
       "      toinsert[toinsert.length - 1].firstChild.textContent = output.data[JS_MIME_TYPE];\n",
       "      // store reference to embed id on output_area\n",
       "      output_area._bokeh_element_id = output.metadata[EXEC_MIME_TYPE][\"id\"];\n",
       "    }\n",
       "    if (output.metadata[EXEC_MIME_TYPE][\"server_id\"] !== undefined) {\n",
       "      var bk_div = document.createElement(\"div\");\n",
       "      bk_div.innerHTML = output.data[HTML_MIME_TYPE];\n",
       "      var script_attrs = bk_div.children[0].attributes;\n",
       "      for (var i = 0; i < script_attrs.length; i++) {\n",
       "        toinsert[toinsert.length - 1].firstChild.setAttribute(script_attrs[i].name, script_attrs[i].value);\n",
       "      }\n",
       "      // store reference to server id on output_area\n",
       "      output_area._bokeh_server_id = output.metadata[EXEC_MIME_TYPE][\"server_id\"];\n",
       "    }\n",
       "  }\n",
       "\n",
       "  function register_renderer(events, OutputArea) {\n",
       "\n",
       "    function append_mime(data, metadata, element) {\n",
       "      // create a DOM node to render to\n",
       "      var toinsert = this.create_output_subarea(\n",
       "        metadata,\n",
       "        CLASS_NAME,\n",
       "        EXEC_MIME_TYPE\n",
       "      );\n",
       "      this.keyboard_manager.register_events(toinsert);\n",
       "      // Render to node\n",
       "      var props = {data: data, metadata: metadata[EXEC_MIME_TYPE]};\n",
       "      render(props, toinsert[toinsert.length - 1]);\n",
       "      element.append(toinsert);\n",
       "      return toinsert\n",
       "    }\n",
       "\n",
       "    /* Handle when an output is cleared or removed */\n",
       "    events.on('clear_output.CodeCell', handleClearOutput);\n",
       "    events.on('delete.Cell', handleClearOutput);\n",
       "\n",
       "    /* Handle when a new output is added */\n",
       "    events.on('output_added.OutputArea', handleAddOutput);\n",
       "\n",
       "    /**\n",
       "     * Register the mime type and append_mime function with output_area\n",
       "     */\n",
       "    OutputArea.prototype.register_mime_type(EXEC_MIME_TYPE, append_mime, {\n",
       "      /* Is output safe? */\n",
       "      safe: true,\n",
       "      /* Index of renderer in `output_area.display_order` */\n",
       "      index: 0\n",
       "    });\n",
       "  }\n",
       "\n",
       "  // register the mime type if in Jupyter Notebook environment and previously unregistered\n",
       "  if (root.Jupyter !== undefined) {\n",
       "    var events = require('base/js/events');\n",
       "    var OutputArea = require('notebook/js/outputarea').OutputArea;\n",
       "\n",
       "    if (OutputArea.prototype.mime_types().indexOf(EXEC_MIME_TYPE) == -1) {\n",
       "      register_renderer(events, OutputArea);\n",
       "    }\n",
       "  }\n",
       "\n",
       "  \n",
       "  if (typeof (root._bokeh_timeout) === \"undefined\" || force === true) {\n",
       "    root._bokeh_timeout = Date.now() + 5000;\n",
       "    root._bokeh_failed_load = false;\n",
       "  }\n",
       "\n",
       "  var NB_LOAD_WARNING = {'data': {'text/html':\n",
       "     \"<div style='background-color: #fdd'>\\n\"+\n",
       "     \"<p>\\n\"+\n",
       "     \"BokehJS does not appear to have successfully loaded. If loading BokehJS from CDN, this \\n\"+\n",
       "     \"may be due to a slow or bad network connection. Possible fixes:\\n\"+\n",
       "     \"</p>\\n\"+\n",
       "     \"<ul>\\n\"+\n",
       "     \"<li>re-rerun `output_notebook()` to attempt to load from CDN again, or</li>\\n\"+\n",
       "     \"<li>use INLINE resources instead, as so:</li>\\n\"+\n",
       "     \"</ul>\\n\"+\n",
       "     \"<code>\\n\"+\n",
       "     \"from bokeh.resources import INLINE\\n\"+\n",
       "     \"output_notebook(resources=INLINE)\\n\"+\n",
       "     \"</code>\\n\"+\n",
       "     \"</div>\"}};\n",
       "\n",
       "  function display_loaded() {\n",
       "    var el = document.getElementById(\"1001\");\n",
       "    if (el != null) {\n",
       "      el.textContent = \"BokehJS is loading...\";\n",
       "    }\n",
       "    if (root.Bokeh !== undefined) {\n",
       "      if (el != null) {\n",
       "        el.textContent = \"BokehJS \" + root.Bokeh.version + \" successfully loaded.\";\n",
       "      }\n",
       "    } else if (Date.now() < root._bokeh_timeout) {\n",
       "      setTimeout(display_loaded, 100)\n",
       "    }\n",
       "  }\n",
       "\n",
       "\n",
       "  function run_callbacks() {\n",
       "    try {\n",
       "      root._bokeh_onload_callbacks.forEach(function(callback) {\n",
       "        if (callback != null)\n",
       "          callback();\n",
       "      });\n",
       "    } finally {\n",
       "      delete root._bokeh_onload_callbacks\n",
       "    }\n",
       "    console.debug(\"Bokeh: all callbacks have finished\");\n",
       "  }\n",
       "\n",
       "  function load_libs(css_urls, js_urls, callback) {\n",
       "    if (css_urls == null) css_urls = [];\n",
       "    if (js_urls == null) js_urls = [];\n",
       "\n",
       "    root._bokeh_onload_callbacks.push(callback);\n",
       "    if (root._bokeh_is_loading > 0) {\n",
       "      console.debug(\"Bokeh: BokehJS is being loaded, scheduling callback at\", now());\n",
       "      return null;\n",
       "    }\n",
       "    if (js_urls == null || js_urls.length === 0) {\n",
       "      run_callbacks();\n",
       "      return null;\n",
       "    }\n",
       "    console.debug(\"Bokeh: BokehJS not loaded, scheduling load and callback at\", now());\n",
       "    root._bokeh_is_loading = css_urls.length + js_urls.length;\n",
       "\n",
       "    function on_load() {\n",
       "      root._bokeh_is_loading--;\n",
       "      if (root._bokeh_is_loading === 0) {\n",
       "        console.debug(\"Bokeh: all BokehJS libraries/stylesheets loaded\");\n",
       "        run_callbacks()\n",
       "      }\n",
       "    }\n",
       "\n",
       "    function on_error() {\n",
       "      console.error(\"failed to load \" + url);\n",
       "    }\n",
       "\n",
       "    for (var i = 0; i < css_urls.length; i++) {\n",
       "      var url = css_urls[i];\n",
       "      const element = document.createElement(\"link\");\n",
       "      element.onload = on_load;\n",
       "      element.onerror = on_error;\n",
       "      element.rel = \"stylesheet\";\n",
       "      element.type = \"text/css\";\n",
       "      element.href = url;\n",
       "      console.debug(\"Bokeh: injecting link tag for BokehJS stylesheet: \", url);\n",
       "      document.body.appendChild(element);\n",
       "    }\n",
       "\n",
       "    for (var i = 0; i < js_urls.length; i++) {\n",
       "      var url = js_urls[i];\n",
       "      var element = document.createElement('script');\n",
       "      element.onload = on_load;\n",
       "      element.onerror = on_error;\n",
       "      element.async = false;\n",
       "      element.src = url;\n",
       "      console.debug(\"Bokeh: injecting script tag for BokehJS library: \", url);\n",
       "      document.head.appendChild(element);\n",
       "    }\n",
       "  };var element = document.getElementById(\"1001\");\n",
       "  if (element == null) {\n",
       "    console.error(\"Bokeh: ERROR: autoload.js configured with elementid '1001' but no matching script tag was found. \")\n",
       "    return false;\n",
       "  }\n",
       "\n",
       "  function inject_raw_css(css) {\n",
       "    const element = document.createElement(\"style\");\n",
       "    element.appendChild(document.createTextNode(css));\n",
       "    document.body.appendChild(element);\n",
       "  }\n",
       "\n",
       "  var js_urls = [\"https://cdn.pydata.org/bokeh/release/bokeh-1.2.0.min.js\", \"https://cdn.pydata.org/bokeh/release/bokeh-widgets-1.2.0.min.js\", \"https://cdn.pydata.org/bokeh/release/bokeh-tables-1.2.0.min.js\", \"https://cdn.pydata.org/bokeh/release/bokeh-gl-1.2.0.min.js\"];\n",
       "  var css_urls = [\"https://cdn.pydata.org/bokeh/release/bokeh-1.2.0.min.css\", \"https://cdn.pydata.org/bokeh/release/bokeh-widgets-1.2.0.min.css\", \"https://cdn.pydata.org/bokeh/release/bokeh-tables-1.2.0.min.css\"];\n",
       "\n",
       "  var inline_js = [\n",
       "    function(Bokeh) {\n",
       "      Bokeh.set_log_level(\"info\");\n",
       "    },\n",
       "    \n",
       "    function(Bokeh) {\n",
       "      \n",
       "    },\n",
       "    function(Bokeh) {} // ensure no trailing comma for IE\n",
       "  ];\n",
       "\n",
       "  function run_inline_js() {\n",
       "    \n",
       "    if ((root.Bokeh !== undefined) || (force === true)) {\n",
       "      for (var i = 0; i < inline_js.length; i++) {\n",
       "        inline_js[i].call(root, root.Bokeh);\n",
       "      }if (force === true) {\n",
       "        display_loaded();\n",
       "      }} else if (Date.now() < root._bokeh_timeout) {\n",
       "      setTimeout(run_inline_js, 100);\n",
       "    } else if (!root._bokeh_failed_load) {\n",
       "      console.log(\"Bokeh: BokehJS failed to load within specified timeout.\");\n",
       "      root._bokeh_failed_load = true;\n",
       "    } else if (force !== true) {\n",
       "      var cell = $(document.getElementById(\"1001\")).parents('.cell').data().cell;\n",
       "      cell.output_area.append_execute_result(NB_LOAD_WARNING)\n",
       "    }\n",
       "\n",
       "  }\n",
       "\n",
       "  if (root._bokeh_is_loading === 0) {\n",
       "    console.debug(\"Bokeh: BokehJS loaded, going straight to plotting\");\n",
       "    run_inline_js();\n",
       "  } else {\n",
       "    load_libs(css_urls, js_urls, function() {\n",
       "      console.debug(\"Bokeh: BokehJS plotting callback run at\", now());\n",
       "      run_inline_js();\n",
       "    });\n",
       "  }\n",
       "}(window));"
      ],
      "application/vnd.bokehjs_load.v0+json": "\n(function(root) {\n  function now() {\n    return new Date();\n  }\n\n  var force = true;\n\n  if (typeof root._bokeh_onload_callbacks === \"undefined\" || force === true) {\n    root._bokeh_onload_callbacks = [];\n    root._bokeh_is_loading = undefined;\n  }\n\n  \n\n  \n  if (typeof (root._bokeh_timeout) === \"undefined\" || force === true) {\n    root._bokeh_timeout = Date.now() + 5000;\n    root._bokeh_failed_load = false;\n  }\n\n  var NB_LOAD_WARNING = {'data': {'text/html':\n     \"<div style='background-color: #fdd'>\\n\"+\n     \"<p>\\n\"+\n     \"BokehJS does not appear to have successfully loaded. If loading BokehJS from CDN, this \\n\"+\n     \"may be due to a slow or bad network connection. Possible fixes:\\n\"+\n     \"</p>\\n\"+\n     \"<ul>\\n\"+\n     \"<li>re-rerun `output_notebook()` to attempt to load from CDN again, or</li>\\n\"+\n     \"<li>use INLINE resources instead, as so:</li>\\n\"+\n     \"</ul>\\n\"+\n     \"<code>\\n\"+\n     \"from bokeh.resources import INLINE\\n\"+\n     \"output_notebook(resources=INLINE)\\n\"+\n     \"</code>\\n\"+\n     \"</div>\"}};\n\n  function display_loaded() {\n    var el = document.getElementById(\"1001\");\n    if (el != null) {\n      el.textContent = \"BokehJS is loading...\";\n    }\n    if (root.Bokeh !== undefined) {\n      if (el != null) {\n        el.textContent = \"BokehJS \" + root.Bokeh.version + \" successfully loaded.\";\n      }\n    } else if (Date.now() < root._bokeh_timeout) {\n      setTimeout(display_loaded, 100)\n    }\n  }\n\n\n  function run_callbacks() {\n    try {\n      root._bokeh_onload_callbacks.forEach(function(callback) {\n        if (callback != null)\n          callback();\n      });\n    } finally {\n      delete root._bokeh_onload_callbacks\n    }\n    console.debug(\"Bokeh: all callbacks have finished\");\n  }\n\n  function load_libs(css_urls, js_urls, callback) {\n    if (css_urls == null) css_urls = [];\n    if (js_urls == null) js_urls = [];\n\n    root._bokeh_onload_callbacks.push(callback);\n    if (root._bokeh_is_loading > 0) {\n      console.debug(\"Bokeh: BokehJS is being loaded, scheduling callback at\", now());\n      return null;\n    }\n    if (js_urls == null || js_urls.length === 0) {\n      run_callbacks();\n      return null;\n    }\n    console.debug(\"Bokeh: BokehJS not loaded, scheduling load and callback at\", now());\n    root._bokeh_is_loading = css_urls.length + js_urls.length;\n\n    function on_load() {\n      root._bokeh_is_loading--;\n      if (root._bokeh_is_loading === 0) {\n        console.debug(\"Bokeh: all BokehJS libraries/stylesheets loaded\");\n        run_callbacks()\n      }\n    }\n\n    function on_error() {\n      console.error(\"failed to load \" + url);\n    }\n\n    for (var i = 0; i < css_urls.length; i++) {\n      var url = css_urls[i];\n      const element = document.createElement(\"link\");\n      element.onload = on_load;\n      element.onerror = on_error;\n      element.rel = \"stylesheet\";\n      element.type = \"text/css\";\n      element.href = url;\n      console.debug(\"Bokeh: injecting link tag for BokehJS stylesheet: \", url);\n      document.body.appendChild(element);\n    }\n\n    for (var i = 0; i < js_urls.length; i++) {\n      var url = js_urls[i];\n      var element = document.createElement('script');\n      element.onload = on_load;\n      element.onerror = on_error;\n      element.async = false;\n      element.src = url;\n      console.debug(\"Bokeh: injecting script tag for BokehJS library: \", url);\n      document.head.appendChild(element);\n    }\n  };var element = document.getElementById(\"1001\");\n  if (element == null) {\n    console.error(\"Bokeh: ERROR: autoload.js configured with elementid '1001' but no matching script tag was found. \")\n    return false;\n  }\n\n  function inject_raw_css(css) {\n    const element = document.createElement(\"style\");\n    element.appendChild(document.createTextNode(css));\n    document.body.appendChild(element);\n  }\n\n  var js_urls = [\"https://cdn.pydata.org/bokeh/release/bokeh-1.2.0.min.js\", \"https://cdn.pydata.org/bokeh/release/bokeh-widgets-1.2.0.min.js\", \"https://cdn.pydata.org/bokeh/release/bokeh-tables-1.2.0.min.js\", \"https://cdn.pydata.org/bokeh/release/bokeh-gl-1.2.0.min.js\"];\n  var css_urls = [\"https://cdn.pydata.org/bokeh/release/bokeh-1.2.0.min.css\", \"https://cdn.pydata.org/bokeh/release/bokeh-widgets-1.2.0.min.css\", \"https://cdn.pydata.org/bokeh/release/bokeh-tables-1.2.0.min.css\"];\n\n  var inline_js = [\n    function(Bokeh) {\n      Bokeh.set_log_level(\"info\");\n    },\n    \n    function(Bokeh) {\n      \n    },\n    function(Bokeh) {} // ensure no trailing comma for IE\n  ];\n\n  function run_inline_js() {\n    \n    if ((root.Bokeh !== undefined) || (force === true)) {\n      for (var i = 0; i < inline_js.length; i++) {\n        inline_js[i].call(root, root.Bokeh);\n      }if (force === true) {\n        display_loaded();\n      }} else if (Date.now() < root._bokeh_timeout) {\n      setTimeout(run_inline_js, 100);\n    } else if (!root._bokeh_failed_load) {\n      console.log(\"Bokeh: BokehJS failed to load within specified timeout.\");\n      root._bokeh_failed_load = true;\n    } else if (force !== true) {\n      var cell = $(document.getElementById(\"1001\")).parents('.cell').data().cell;\n      cell.output_area.append_execute_result(NB_LOAD_WARNING)\n    }\n\n  }\n\n  if (root._bokeh_is_loading === 0) {\n    console.debug(\"Bokeh: BokehJS loaded, going straight to plotting\");\n    run_inline_js();\n  } else {\n    load_libs(css_urls, js_urls, function() {\n      console.debug(\"Bokeh: BokehJS plotting callback run at\", now());\n      run_inline_js();\n    });\n  }\n}(window));"
     },
     "metadata": {},
     "output_type": "display_data"
    }
   ],
   "source": [
    "hl.init()\n",
    "output_notebook()"
   ]
  },
  {
   "cell_type": "markdown",
   "metadata": {},
   "source": [
    "The workshop materials are designed to work on a small (~20MB) downsampled chunk of the public 1000 Genomes dataset.\n"
   ]
  },
  {
   "cell_type": "markdown",
   "metadata": {},
   "source": [
    "It is possible to call command-line utilities from Jupyter by prefixing a line with a `!`:"
   ]
  },
  {
   "cell_type": "code",
   "execution_count": 5,
   "metadata": {},
   "outputs": [
    {
     "name": "stdout",
     "output_type": "stream",
     "text": [
      "1kg.fam\r\n",
      "\u001b[34m1kg.mt\u001b[m\u001b[m\r\n",
      "1kg.vcf.bgz\r\n",
      "1kg_annotations.txt\r\n",
      "Icon?\r\n",
      "ensembl_gene_annotations.txt\r\n",
      "\u001b[34mpca_scores.ht\u001b[m\u001b[m\r\n",
      "\u001b[34mpost_qc.mt\u001b[m\u001b[m\r\n",
      "true_pops.txt\r\n"
     ]
    }
   ],
   "source": [
    "! ls -1 resources/"
   ]
  },
  {
   "cell_type": "markdown",
   "metadata": {},
   "source": [
    "# Part 1: Explore genetic data with Hail\n",
    "\n",
    "#### Learning Objectives:\n",
    "\n",
    "- To be comfortable exploring Hail data structures.\n",
    "- To understand categories of functionality for performing QC."
   ]
  },
  {
   "cell_type": "markdown",
   "metadata": {},
   "source": [
    "### Import data from VCF\n",
    "\n",
    "The [Variant Call Format (VCF)](https://en.wikipedia.org/wiki/Variant_Call_Format) is a common file format for representing genetic data collected on multiple individuals (samples).\n",
    "\n",
    "Hail's [import_vcf](https://hail.is/docs/0.2/methods/impex.html#hail.methods.import_vcf) function can read this format.\n",
    "\n",
    "However, VCF is a text format that is easy for humans to read, but very inefficient to process on a computer. \n",
    "\n",
    "The first thing we do is import (`import_vcf`) and convert the `VCF` file into a Hail native file format. This is done by using the `write` method below. The resulting file is **much** faster to process because it is scalable and easily parallelizable.\n",
    "\n",
    "Let's read in a chunk of data, specifically from 1000 Genomes"
   ]
  },
  {
   "cell_type": "code",
   "execution_count": 6,
   "metadata": {},
   "outputs": [
    {
     "name": "stderr",
     "output_type": "stream",
     "text": [
      "2020-04-17 17:06:06 Hail: INFO: Coerced sorted dataset\n",
      "2020-04-17 17:06:22 Hail: INFO: wrote matrix table with 13033 rows and 343 columns in 4 partitions to resources/1kg.mt\n"
     ]
    }
   ],
   "source": [
    "hl.import_vcf('resources/1kg.vcf.bgz', min_partitions=4).write('resources/1kg.mt', overwrite=True)"
   ]
  },
  {
   "cell_type": "markdown",
   "metadata": {},
   "source": [
    "### Read 1KG into Hail\n",
    "\n",
    "We represent genetic data as a Hail [`MatrixTable`](https://hail.is/docs/0.2/overview/matrix_table.html), and name our variable `mt` to indicate this."
   ]
  },
  {
   "cell_type": "code",
   "execution_count": 7,
   "metadata": {},
   "outputs": [],
   "source": [
    "mt = hl.read_matrix_table('resources/1kg.mt')"
   ]
  },
  {
   "cell_type": "markdown",
   "metadata": {},
   "source": [
    "### What is a `MatrixTable`?\n",
    "\n",
    "Let's explore it!\n",
    "\n",
    "You can see:\n",
    " - **numeric** types:\n",
    "     - integers (`int32`, `int64`), e.g. `5`\n",
    "     - floating point numbers (`float32`, `float64`), e.g. `5.5` or `3e-8`\n",
    " - **strings** (`str`), e.g. `\"Foo\"`\n",
    " - **boolean** values  (`bool`) e.g. `True`\n",
    " - **collections**:\n",
    "     - arrays (`array`), e.g. `[1,1,2,3]`\n",
    "     - sets (`set`), e.g. `{1,3}`\n",
    "     - dictionaries (`dict`), e.g. `{'Foo': 5, 'Bar': 10}`\n",
    " - **genetic data types**:\n",
    "     - loci (`locus`), e.g. `[GRCh37] 1:10000` or `[GRCh38] chr1:10024`\n",
    "     - genotype calls (`call`), e.g. `0/2` or `1|0`"
   ]
  },
  {
   "cell_type": "code",
   "execution_count": 8,
   "metadata": {},
   "outputs": [
    {
     "data": {
      "application/vnd.jupyter.widget-view+json": {
       "model_id": "6ecbf60279c346e688dc7b3d804bed5f",
       "version_major": 2,
       "version_minor": 0
      },
      "text/plain": [
       "VBox(children=(HBox(children=(Button(description='globals', layout=Layout(height='30px', width='65px'), style=…"
      ]
     },
     "metadata": {},
     "output_type": "display_data"
    },
    {
     "data": {
      "application/vnd.jupyter.widget-view+json": {
       "model_id": "fdc2d704a5b44161a4b18c84271ffa1d",
       "version_major": 2,
       "version_minor": 0
      },
      "text/plain": [
       "Tab(children=(VBox(children=(HTML(value='<p><big>Global fields, with one value in the dataset.</big></p>\\n<p>C…"
      ]
     },
     "metadata": {},
     "output_type": "display_data"
    }
   ],
   "source": [
    "mt.describe(widget=True)"
   ]
  },
  {
   "cell_type": "markdown",
   "metadata": {},
   "source": [
    "### `show`\n",
    "\n",
    "You can show individual fields like the sample ID (`s`), "
   ]
  },
  {
   "cell_type": "code",
   "execution_count": 9,
   "metadata": {},
   "outputs": [
    {
     "data": {
      "text/html": [
       "<table><thead style=\"font-weight: bold;\"><tr><td>s</td></tr>\n",
       "<tr><td>str</td></tr>\n",
       "</thead><tbody><tr><td>&quot;HG00096&quot;</td></tr>\n",
       "<tr><td>&quot;HG00099&quot;</td></tr>\n",
       "<tr><td>&quot;HG00105&quot;</td></tr>\n",
       "<tr><td>&quot;HG00118&quot;</td></tr>\n",
       "<tr><td>&quot;HG00129&quot;</td></tr>\n",
       "<tr><td>&quot;HG00148&quot;</td></tr>\n",
       "<tr><td>&quot;HG00177&quot;</td></tr>\n",
       "<tr><td>&quot;HG00182&quot;</td></tr>\n",
       "<tr><td>&quot;HG00242&quot;</td></tr>\n",
       "<tr><td>&quot;HG00254&quot;</td></tr>\n",
       "<tr><td>&quot;HG00265&quot;</td></tr>\n",
       "<tr><td>&quot;HG00271&quot;</td></tr>\n",
       "<tr><td>&quot;HG00274&quot;</td></tr>\n",
       "<tr><td>&quot;HG00332&quot;</td></tr>\n",
       "<tr><td>&quot;HG00335&quot;</td></tr>\n",
       "<tr><td>&quot;HG00369&quot;</td></tr>\n",
       "<tr><td>&quot;HG00421&quot;</td></tr>\n",
       "<tr><td>&quot;HG00436&quot;</td></tr>\n",
       "<tr><td>&quot;HG00446&quot;</td></tr>\n",
       "<tr><td>&quot;HG00452&quot;</td></tr>\n",
       "<tr><td>&quot;HG00472&quot;</td></tr>\n",
       "<tr><td>&quot;HG00530&quot;</td></tr>\n",
       "<tr><td>&quot;HG00534&quot;</td></tr>\n",
       "<tr><td>&quot;HG00583&quot;</td></tr>\n",
       "</tbody></table><p style=\"background: #fdd; padding: 0.4em;\">showing top 24 rows</p>\n"
      ],
      "text/plain": [
       "+-----------+\n",
       "| s         |\n",
       "+-----------+\n",
       "| str       |\n",
       "+-----------+\n",
       "| \"HG00096\" |\n",
       "| \"HG00099\" |\n",
       "| \"HG00105\" |\n",
       "| \"HG00118\" |\n",
       "| \"HG00129\" |\n",
       "| \"HG00148\" |\n",
       "| \"HG00177\" |\n",
       "| \"HG00182\" |\n",
       "| \"HG00242\" |\n",
       "| \"HG00254\" |\n",
       "| \"HG00265\" |\n",
       "| \"HG00271\" |\n",
       "| \"HG00274\" |\n",
       "| \"HG00332\" |\n",
       "| \"HG00335\" |\n",
       "| \"HG00369\" |\n",
       "| \"HG00421\" |\n",
       "| \"HG00436\" |\n",
       "| \"HG00446\" |\n",
       "| \"HG00452\" |\n",
       "| \"HG00472\" |\n",
       "| \"HG00530\" |\n",
       "| \"HG00534\" |\n",
       "| \"HG00583\" |\n",
       "+-----------+\n",
       "showing top 24 rows"
      ]
     },
     "metadata": {},
     "output_type": "display_data"
    }
   ],
   "source": [
    "mt.s.show()"
   ]
  },
  {
   "cell_type": "markdown",
   "metadata": {},
   "source": [
    "the locus (`locus`)"
   ]
  },
  {
   "cell_type": "code",
   "execution_count": 10,
   "metadata": {},
   "outputs": [
    {
     "data": {
      "text/html": [
       "<table><thead style=\"font-weight: bold;\"><tr><td>locus</td><td>alleles</td></tr>\n",
       "<tr><td>locus&lt;GRCh37&gt;</td><td>array&lt;str&gt;</td></tr>\n",
       "</thead><tbody><tr><td>1:904165</td><td>[&quot;G&quot;,&quot;A&quot;]</td></tr>\n",
       "<tr><td>1:909917</td><td>[&quot;G&quot;,&quot;A&quot;]</td></tr>\n",
       "<tr><td>1:986963</td><td>[&quot;C&quot;,&quot;T&quot;]</td></tr>\n",
       "<tr><td>1:1509414</td><td>[&quot;AG&quot;,&quot;A&quot;]</td></tr>\n",
       "<tr><td>1:1563691</td><td>[&quot;T&quot;,&quot;G&quot;]</td></tr>\n",
       "<tr><td>1:1707740</td><td>[&quot;T&quot;,&quot;G&quot;]</td></tr>\n",
       "<tr><td>1:2044130</td><td>[&quot;GTT&quot;,&quot;G&quot;]</td></tr>\n",
       "<tr><td>1:2169908</td><td>[&quot;G&quot;,&quot;T&quot;]</td></tr>\n",
       "<tr><td>1:2252970</td><td>[&quot;C&quot;,&quot;T&quot;]</td></tr>\n",
       "<tr><td>1:2284195</td><td>[&quot;T&quot;,&quot;C&quot;]</td></tr>\n",
       "<tr><td>1:2686238</td><td>[&quot;A&quot;,&quot;T&quot;]</td></tr>\n",
       "<tr><td>1:2779043</td><td>[&quot;T&quot;,&quot;C&quot;]</td></tr>\n",
       "<tr><td>1:2944527</td><td>[&quot;G&quot;,&quot;A&quot;]</td></tr>\n",
       "<tr><td>1:3713237</td><td>[&quot;T&quot;,&quot;G&quot;]</td></tr>\n",
       "<tr><td>1:3761547</td><td>[&quot;C&quot;,&quot;A&quot;]</td></tr>\n",
       "<tr><td>1:3803755</td><td>[&quot;T&quot;,&quot;C&quot;]</td></tr>\n",
       "<tr><td>1:4121584</td><td>[&quot;A&quot;,&quot;G&quot;]</td></tr>\n",
       "<tr><td>1:4170048</td><td>[&quot;C&quot;,&quot;T&quot;]</td></tr>\n",
       "<tr><td>1:4180842</td><td>[&quot;C&quot;,&quot;T&quot;]</td></tr>\n",
       "<tr><td>1:6053630</td><td>[&quot;T&quot;,&quot;G&quot;]</td></tr>\n",
       "<tr><td>1:6279383</td><td>[&quot;G&quot;,&quot;C&quot;]</td></tr>\n",
       "<tr><td>1:7437415</td><td>[&quot;G&quot;,&quot;T&quot;]</td></tr>\n",
       "<tr><td>1:7569602</td><td>[&quot;C&quot;,&quot;T&quot;]</td></tr>\n",
       "<tr><td>1:7575666</td><td>[&quot;T&quot;,&quot;C&quot;]</td></tr>\n",
       "</tbody></table><p style=\"background: #fdd; padding: 0.4em;\">showing top 24 rows</p>\n"
      ],
      "text/plain": [
       "+---------------+-------------+\n",
       "| locus         | alleles     |\n",
       "+---------------+-------------+\n",
       "| locus<GRCh37> | array<str>  |\n",
       "+---------------+-------------+\n",
       "| 1:904165      | [\"G\",\"A\"]   |\n",
       "| 1:909917      | [\"G\",\"A\"]   |\n",
       "| 1:986963      | [\"C\",\"T\"]   |\n",
       "| 1:1509414     | [\"AG\",\"A\"]  |\n",
       "| 1:1563691     | [\"T\",\"G\"]   |\n",
       "| 1:1707740     | [\"T\",\"G\"]   |\n",
       "| 1:2044130     | [\"GTT\",\"G\"] |\n",
       "| 1:2169908     | [\"G\",\"T\"]   |\n",
       "| 1:2252970     | [\"C\",\"T\"]   |\n",
       "| 1:2284195     | [\"T\",\"C\"]   |\n",
       "| 1:2686238     | [\"A\",\"T\"]   |\n",
       "| 1:2779043     | [\"T\",\"C\"]   |\n",
       "| 1:2944527     | [\"G\",\"A\"]   |\n",
       "| 1:3713237     | [\"T\",\"G\"]   |\n",
       "| 1:3761547     | [\"C\",\"A\"]   |\n",
       "| 1:3803755     | [\"T\",\"C\"]   |\n",
       "| 1:4121584     | [\"A\",\"G\"]   |\n",
       "| 1:4170048     | [\"C\",\"T\"]   |\n",
       "| 1:4180842     | [\"C\",\"T\"]   |\n",
       "| 1:6053630     | [\"T\",\"G\"]   |\n",
       "| 1:6279383     | [\"G\",\"C\"]   |\n",
       "| 1:7437415     | [\"G\",\"T\"]   |\n",
       "| 1:7569602     | [\"C\",\"T\"]   |\n",
       "| 1:7575666     | [\"T\",\"C\"]   |\n",
       "+---------------+-------------+\n",
       "showing top 24 rows"
      ]
     },
     "metadata": {},
     "output_type": "display_data"
    }
   ],
   "source": [
    "mt.locus.show()"
   ]
  },
  {
   "cell_type": "markdown",
   "metadata": {},
   "source": [
    "or the called genotype (`GT`):"
   ]
  },
  {
   "cell_type": "code",
   "execution_count": 11,
   "metadata": {},
   "outputs": [
    {
     "data": {
      "text/html": [
       "<table><thead style=\"font-weight: bold;\"><tr><td>locus</td><td>alleles</td><td>HG00096.GT</td><td>HG00099.GT</td><td>HG00105.GT</td><td>HG00118.GT</td><td>HG00129.GT</td><td>HG00148.GT</td><td>HG00177.GT</td><td>HG00182.GT</td><td>HG00242.GT</td><td>HG00254.GT</td><td>HG00265.GT</td><td>HG00271.GT</td><td>HG00274.GT</td></tr>\n",
       "<tr><td>locus&lt;GRCh37&gt;</td><td>array&lt;str&gt;</td><td>call</td><td>call</td><td>call</td><td>call</td><td>call</td><td>call</td><td>call</td><td>call</td><td>call</td><td>call</td><td>call</td><td>call</td><td>call</td></tr>\n",
       "</thead><tbody><tr><td>1:904165</td><td>[&quot;G&quot;,&quot;A&quot;]</td><td>0/0</td><td>0/0</td><td>0/0</td><td>0/0</td><td>0/0</td><td>0/0</td><td>0/0</td><td>0/0</td><td>0/0</td><td>0/0</td><td>0/0</td><td>0/0</td><td>0/0</td></tr>\n",
       "<tr><td>1:909917</td><td>[&quot;G&quot;,&quot;A&quot;]</td><td>0/0</td><td>0/0</td><td>0/0</td><td>0/0</td><td>0/0</td><td>0/0</td><td>0/0</td><td>0/0</td><td>0/0</td><td>0/0</td><td>0/0</td><td>0/0</td><td>NA</td></tr>\n",
       "<tr><td>1:986963</td><td>[&quot;C&quot;,&quot;T&quot;]</td><td>0/0</td><td>0/0</td><td>0/0</td><td>0/0</td><td>NA</td><td>0/0</td><td>NA</td><td>0/0</td><td>0/0</td><td>0/0</td><td>0/0</td><td>0/0</td><td>NA</td></tr>\n",
       "<tr><td>1:1509414</td><td>[&quot;AG&quot;,&quot;A&quot;]</td><td>0/0</td><td>0/0</td><td>0/0</td><td>0/0</td><td>0/0</td><td>0/0</td><td>0/0</td><td>0/0</td><td>0/0</td><td>0/0</td><td>0/0</td><td>0/0</td><td>0/0</td></tr>\n",
       "<tr><td>1:1563691</td><td>[&quot;T&quot;,&quot;G&quot;]</td><td>NA</td><td>0/0</td><td>0/0</td><td>0/0</td><td>0/0</td><td>0/0</td><td>0/0</td><td>0/0</td><td>0/0</td><td>0/0</td><td>0/0</td><td>0/0</td><td>0/0</td></tr>\n",
       "<tr><td>1:1707740</td><td>[&quot;T&quot;,&quot;G&quot;]</td><td>0/1</td><td>0/1</td><td>0/1</td><td>0/0</td><td>0/0</td><td>0/1</td><td>0/1</td><td>0/1</td><td>0/0</td><td>0/1</td><td>0/0</td><td>0/0</td><td>0/0</td></tr>\n",
       "<tr><td>1:2044130</td><td>[&quot;GTT&quot;,&quot;G&quot;]</td><td>0/1</td><td>0/1</td><td>0/1</td><td>0/1</td><td>0/1</td><td>0/0</td><td>0/0</td><td>0/1</td><td>0/0</td><td>0/0</td><td>0/0</td><td>0/1</td><td>0/0</td></tr>\n",
       "<tr><td>1:2169908</td><td>[&quot;G&quot;,&quot;T&quot;]</td><td>0/0</td><td>0/0</td><td>0/1</td><td>0/0</td><td>0/0</td><td>0/0</td><td>0/0</td><td>0/0</td><td>0/0</td><td>0/0</td><td>NA</td><td>0/0</td><td>0/0</td></tr>\n",
       "<tr><td>1:2252970</td><td>[&quot;C&quot;,&quot;T&quot;]</td><td>0/0</td><td>NA</td><td>0/0</td><td>0/0</td><td>0/0</td><td>0/0</td><td>0/0</td><td>0/0</td><td>0/0</td><td>0/0</td><td>0/0</td><td>0/0</td><td>0/0</td></tr>\n",
       "<tr><td>1:2284195</td><td>[&quot;T&quot;,&quot;C&quot;]</td><td>1/1</td><td>0/1</td><td>0/1</td><td>0/1</td><td>0/0</td><td>1/1</td><td>0/0</td><td>0/0</td><td>0/0</td><td>0/1</td><td>0/0</td><td>0/1</td><td>0/1</td></tr>\n",
       "<tr><td>1:2686238</td><td>[&quot;A&quot;,&quot;T&quot;]</td><td>0/0</td><td>0/0</td><td>0/0</td><td>0/0</td><td>0/0</td><td>0/0</td><td>0/0</td><td>0/0</td><td>0/0</td><td>0/0</td><td>0/0</td><td>0/0</td><td>NA</td></tr>\n",
       "<tr><td>1:2779043</td><td>[&quot;T&quot;,&quot;C&quot;]</td><td>0/1</td><td>0/1</td><td>1/1</td><td>0/0</td><td>0/1</td><td>0/0</td><td>1/1</td><td>1/1</td><td>1/1</td><td>0/0</td><td>1/1</td><td>1/1</td><td>0/0</td></tr>\n",
       "<tr><td>1:2944527</td><td>[&quot;G&quot;,&quot;A&quot;]</td><td>0/0</td><td>0/1</td><td>0/1</td><td>0/1</td><td>0/0</td><td>0/0</td><td>1/1</td><td>0/0</td><td>0/0</td><td>0/1</td><td>0/0</td><td>0/1</td><td>0/0</td></tr>\n",
       "<tr><td>1:3713237</td><td>[&quot;T&quot;,&quot;G&quot;]</td><td>0/0</td><td>0/0</td><td>0/0</td><td>0/0</td><td>0/0</td><td>0/0</td><td>0/0</td><td>0/0</td><td>0/0</td><td>0/0</td><td>0/0</td><td>0/0</td><td>0/0</td></tr>\n",
       "<tr><td>1:3761547</td><td>[&quot;C&quot;,&quot;A&quot;]</td><td>0/0</td><td>0/0</td><td>0/0</td><td>0/0</td><td>0/0</td><td>0/0</td><td>0/0</td><td>0/0</td><td>0/0</td><td>0/0</td><td>0/0</td><td>0/0</td><td>0/0</td></tr>\n",
       "<tr><td>1:3803755</td><td>[&quot;T&quot;,&quot;C&quot;]</td><td>0/1</td><td>1/1</td><td>0/1</td><td>0/1</td><td>1/1</td><td>1/1</td><td>1/1</td><td>1/1</td><td>0/0</td><td>0/0</td><td>1/1</td><td>1/1</td><td>0/0</td></tr>\n",
       "<tr><td>1:4121584</td><td>[&quot;A&quot;,&quot;G&quot;]</td><td>0/1</td><td>0/0</td><td>0/0</td><td>0/0</td><td>0/0</td><td>0/0</td><td>1/1</td><td>0/0</td><td>0/0</td><td>0/1</td><td>0/0</td><td>0/1</td><td>0/0</td></tr>\n",
       "<tr><td>1:4170048</td><td>[&quot;C&quot;,&quot;T&quot;]</td><td>0/0</td><td>0/0</td><td>0/1</td><td>0/0</td><td>0/0</td><td>0/1</td><td>NA</td><td>1/1</td><td>0/0</td><td>0/1</td><td>0/0</td><td>0/0</td><td>1/1</td></tr>\n",
       "<tr><td>1:4180842</td><td>[&quot;C&quot;,&quot;T&quot;]</td><td>0/1</td><td>0/1</td><td>0/0</td><td>0/1</td><td>0/1</td><td>0/0</td><td>0/0</td><td>0/0</td><td>0/1</td><td>0/1</td><td>0/0</td><td>0/1</td><td>0/0</td></tr>\n",
       "<tr><td>1:6053630</td><td>[&quot;T&quot;,&quot;G&quot;]</td><td>0/0</td><td>1/1</td><td>0/0</td><td>0/0</td><td>0/1</td><td>0/1</td><td>0/1</td><td>NA</td><td>1/1</td><td>0/0</td><td>1/1</td><td>0/1</td><td>0/0</td></tr>\n",
       "<tr><td>1:6279383</td><td>[&quot;G&quot;,&quot;C&quot;]</td><td>0/0</td><td>0/0</td><td>0/0</td><td>0/0</td><td>0/0</td><td>0/0</td><td>0/0</td><td>0/0</td><td>0/0</td><td>0/0</td><td>0/0</td><td>0/0</td><td>0/0</td></tr>\n",
       "<tr><td>1:7437415</td><td>[&quot;G&quot;,&quot;T&quot;]</td><td>0/0</td><td>0/0</td><td>0/0</td><td>0/0</td><td>0/0</td><td>0/0</td><td>0/0</td><td>0/0</td><td>0/0</td><td>0/0</td><td>0/0</td><td>0/0</td><td>0/0</td></tr>\n",
       "<tr><td>1:7569602</td><td>[&quot;C&quot;,&quot;T&quot;]</td><td>1/1</td><td>0/1</td><td>0/0</td><td>1/1</td><td>1/1</td><td>1/1</td><td>NA</td><td>1/1</td><td>0/1</td><td>1/1</td><td>1/1</td><td>1/1</td><td>1/1</td></tr>\n",
       "<tr><td>1:7575666</td><td>[&quot;T&quot;,&quot;C&quot;]</td><td>0/0</td><td>0/0</td><td>0/0</td><td>0/1</td><td>0/0</td><td>0/1</td><td>0/0</td><td>1/1</td><td>1/1</td><td>0/1</td><td>1/1</td><td>1/1</td><td>NA</td></tr>\n",
       "</tbody></table><p style=\"background: #fdd; padding: 0.4em;\">showing top 24 rows</p>\n",
       "<p style=\"background: #fdd; padding: 0.4em;\">showing the first 13 of 343 columns</p>\n"
      ],
      "text/plain": [
       "+---------------+-------------+------------+------------+------------+------------+------------+------------+------------+------------+------------+------------+------------+\n",
       "| locus         | alleles     | HG00096.GT | HG00099.GT | HG00105.GT | HG00118.GT | HG00129.GT | HG00148.GT | HG00177.GT | HG00182.GT | HG00242.GT | HG00254.GT | HG00265.GT |\n",
       "+---------------+-------------+------------+------------+------------+------------+------------+------------+------------+------------+------------+------------+------------+\n",
       "| locus<GRCh37> | array<str>  | call       | call       | call       | call       | call       | call       | call       | call       | call       | call       | call       |\n",
       "+---------------+-------------+------------+------------+------------+------------+------------+------------+------------+------------+------------+------------+------------+\n",
       "| 1:904165      | [\"G\",\"A\"]   | 0/0        | 0/0        | 0/0        | 0/0        | 0/0        | 0/0        | 0/0        | 0/0        | 0/0        | 0/0        | 0/0        |\n",
       "| 1:909917      | [\"G\",\"A\"]   | 0/0        | 0/0        | 0/0        | 0/0        | 0/0        | 0/0        | 0/0        | 0/0        | 0/0        | 0/0        | 0/0        |\n",
       "| 1:986963      | [\"C\",\"T\"]   | 0/0        | 0/0        | 0/0        | 0/0        | NA         | 0/0        | NA         | 0/0        | 0/0        | 0/0        | 0/0        |\n",
       "| 1:1509414     | [\"AG\",\"A\"]  | 0/0        | 0/0        | 0/0        | 0/0        | 0/0        | 0/0        | 0/0        | 0/0        | 0/0        | 0/0        | 0/0        |\n",
       "| 1:1563691     | [\"T\",\"G\"]   | NA         | 0/0        | 0/0        | 0/0        | 0/0        | 0/0        | 0/0        | 0/0        | 0/0        | 0/0        | 0/0        |\n",
       "| 1:1707740     | [\"T\",\"G\"]   | 0/1        | 0/1        | 0/1        | 0/0        | 0/0        | 0/1        | 0/1        | 0/1        | 0/0        | 0/1        | 0/0        |\n",
       "| 1:2044130     | [\"GTT\",\"G\"] | 0/1        | 0/1        | 0/1        | 0/1        | 0/1        | 0/0        | 0/0        | 0/1        | 0/0        | 0/0        | 0/0        |\n",
       "| 1:2169908     | [\"G\",\"T\"]   | 0/0        | 0/0        | 0/1        | 0/0        | 0/0        | 0/0        | 0/0        | 0/0        | 0/0        | 0/0        | NA         |\n",
       "| 1:2252970     | [\"C\",\"T\"]   | 0/0        | NA         | 0/0        | 0/0        | 0/0        | 0/0        | 0/0        | 0/0        | 0/0        | 0/0        | 0/0        |\n",
       "| 1:2284195     | [\"T\",\"C\"]   | 1/1        | 0/1        | 0/1        | 0/1        | 0/0        | 1/1        | 0/0        | 0/0        | 0/0        | 0/1        | 0/0        |\n",
       "| 1:2686238     | [\"A\",\"T\"]   | 0/0        | 0/0        | 0/0        | 0/0        | 0/0        | 0/0        | 0/0        | 0/0        | 0/0        | 0/0        | 0/0        |\n",
       "| 1:2779043     | [\"T\",\"C\"]   | 0/1        | 0/1        | 1/1        | 0/0        | 0/1        | 0/0        | 1/1        | 1/1        | 1/1        | 0/0        | 1/1        |\n",
       "| 1:2944527     | [\"G\",\"A\"]   | 0/0        | 0/1        | 0/1        | 0/1        | 0/0        | 0/0        | 1/1        | 0/0        | 0/0        | 0/1        | 0/0        |\n",
       "| 1:3713237     | [\"T\",\"G\"]   | 0/0        | 0/0        | 0/0        | 0/0        | 0/0        | 0/0        | 0/0        | 0/0        | 0/0        | 0/0        | 0/0        |\n",
       "| 1:3761547     | [\"C\",\"A\"]   | 0/0        | 0/0        | 0/0        | 0/0        | 0/0        | 0/0        | 0/0        | 0/0        | 0/0        | 0/0        | 0/0        |\n",
       "| 1:3803755     | [\"T\",\"C\"]   | 0/1        | 1/1        | 0/1        | 0/1        | 1/1        | 1/1        | 1/1        | 1/1        | 0/0        | 0/0        | 1/1        |\n",
       "| 1:4121584     | [\"A\",\"G\"]   | 0/1        | 0/0        | 0/0        | 0/0        | 0/0        | 0/0        | 1/1        | 0/0        | 0/0        | 0/1        | 0/0        |\n",
       "| 1:4170048     | [\"C\",\"T\"]   | 0/0        | 0/0        | 0/1        | 0/0        | 0/0        | 0/1        | NA         | 1/1        | 0/0        | 0/1        | 0/0        |\n",
       "| 1:4180842     | [\"C\",\"T\"]   | 0/1        | 0/1        | 0/0        | 0/1        | 0/1        | 0/0        | 0/0        | 0/0        | 0/1        | 0/1        | 0/0        |\n",
       "| 1:6053630     | [\"T\",\"G\"]   | 0/0        | 1/1        | 0/0        | 0/0        | 0/1        | 0/1        | 0/1        | NA         | 1/1        | 0/0        | 1/1        |\n",
       "| 1:6279383     | [\"G\",\"C\"]   | 0/0        | 0/0        | 0/0        | 0/0        | 0/0        | 0/0        | 0/0        | 0/0        | 0/0        | 0/0        | 0/0        |\n",
       "| 1:7437415     | [\"G\",\"T\"]   | 0/0        | 0/0        | 0/0        | 0/0        | 0/0        | 0/0        | 0/0        | 0/0        | 0/0        | 0/0        | 0/0        |\n",
       "| 1:7569602     | [\"C\",\"T\"]   | 1/1        | 0/1        | 0/0        | 1/1        | 1/1        | 1/1        | NA         | 1/1        | 0/1        | 1/1        | 1/1        |\n",
       "| 1:7575666     | [\"T\",\"C\"]   | 0/0        | 0/0        | 0/0        | 0/1        | 0/0        | 0/1        | 0/0        | 1/1        | 1/1        | 0/1        | 1/1        |\n",
       "+---------------+-------------+------------+------------+------------+------------+------------+------------+------------+------------+------------+------------+------------+\n",
       "\n",
       "+------------+------------+\n",
       "| HG00271.GT | HG00274.GT |\n",
       "+------------+------------+\n",
       "| call       | call       |\n",
       "+------------+------------+\n",
       "| 0/0        | 0/0        |\n",
       "| 0/0        | NA         |\n",
       "| 0/0        | NA         |\n",
       "| 0/0        | 0/0        |\n",
       "| 0/0        | 0/0        |\n",
       "| 0/0        | 0/0        |\n",
       "| 0/1        | 0/0        |\n",
       "| 0/0        | 0/0        |\n",
       "| 0/0        | 0/0        |\n",
       "| 0/1        | 0/1        |\n",
       "| 0/0        | NA         |\n",
       "| 1/1        | 0/0        |\n",
       "| 0/1        | 0/0        |\n",
       "| 0/0        | 0/0        |\n",
       "| 0/0        | 0/0        |\n",
       "| 1/1        | 0/0        |\n",
       "| 0/1        | 0/0        |\n",
       "| 0/0        | 1/1        |\n",
       "| 0/1        | 0/0        |\n",
       "| 0/1        | 0/0        |\n",
       "| 0/0        | 0/0        |\n",
       "| 0/0        | 0/0        |\n",
       "| 1/1        | 1/1        |\n",
       "| 1/1        | NA         |\n",
       "+------------+------------+\n",
       "showing top 24 rows\n",
       "showing the first 13 of 343 columns"
      ]
     },
     "metadata": {},
     "output_type": "display_data"
    }
   ],
   "source": [
    "mt.GT.show()"
   ]
  },
  {
   "cell_type": "markdown",
   "metadata": {},
   "source": [
    "### `summarize`\n",
    "`summarize` Prints (potentially) useful information about any field or object:"
   ]
  },
  {
   "cell_type": "code",
   "execution_count": 12,
   "metadata": {},
   "outputs": [
    {
     "data": {
      "text/html": [
       "<p>4470319 records.</p><b>DP</b> (<i>int32</i>):<ul><table><tbody><tr><td>Non-missing</td><td>4399949 (98.43%)</td></tr><tr><td>Missing</td><td>70370 (1.57%)</td></tr><tr><td>Minimum</td><td>0</td></tr><tr><td>Maximum</td><td>150</td></tr><tr><td>Mean</td><td>7.26</td></tr><tr><td>Std Dev</td><td>4.40</td></tr></tbody></table></ul>"
      ],
      "text/plain": [
       "\n",
       "4470319 records.\n",
       "\n",
       "- DP (int32):\n",
       "  Non-missing: 4399949 (98.43%)\n",
       "      Missing: 70370 (1.57%)\n",
       "      Minimum: 0\n",
       "      Maximum: 150\n",
       "         Mean: 7.26\n",
       "      Std Dev: 4.40"
      ]
     },
     "metadata": {},
     "output_type": "display_data"
    }
   ],
   "source": [
    "mt.DP.summarize()"
   ]
  },
  {
   "cell_type": "code",
   "execution_count": 13,
   "metadata": {},
   "outputs": [
    {
     "data": {
      "text/html": [
       "<p>4470319 records.</p><b>AD</b> (<i>array&lt;int32&gt;</i>):<ul><table><tbody><tr><td>Non-missing</td><td>4399949 (98.43%)</td></tr><tr><td>Missing</td><td>70370 (1.57%)</td></tr><tr><td>Min Size</td><td>2</td></tr><tr><td>Max Size</td><td>2</td></tr><tr><td>Mean Size</td><td>2.00</td></tr></tbody></table><li><b>AD[&lt;elements&gt;]</b> (<i>int32</i>):<ul><table><tbody><tr><td>Non-missing</td><td>8799898 (100.00%)</td></tr><tr><td>Missing</td><td>0</td></tr><tr><td>Minimum</td><td>0</td></tr><tr><td>Maximum</td><td>150</td></tr><tr><td>Mean</td><td>3.63</td></tr><tr><td>Std Dev</td><td>4.34</td></tr></tbody></table></ul></li></ul>"
      ],
      "text/plain": [
       "\n",
       "4470319 records.\n",
       "\n",
       "- AD (array<int32>):\n",
       "  Non-missing: 4399949 (98.43%)\n",
       "      Missing: 70370 (1.57%)\n",
       "     Min Size: 2\n",
       "     Max Size: 2\n",
       "    Mean Size: 2.00\n",
       "\n",
       "  - AD[<elements>] (int32):\n",
       "    Non-missing: 8799898 (100.00%)\n",
       "        Missing: 0\n",
       "        Minimum: 0\n",
       "        Maximum: 150\n",
       "           Mean: 3.63\n",
       "        Std Dev: 4.34"
      ]
     },
     "metadata": {},
     "output_type": "display_data"
    }
   ],
   "source": [
    "mt.AD.summarize()"
   ]
  },
  {
   "cell_type": "markdown",
   "metadata": {},
   "source": [
    "### `count`\n",
    "\n",
    "`MatrixTable.count` returns a tuple with the number of rows (variants) and number of columns (samples)."
   ]
  },
  {
   "cell_type": "code",
   "execution_count": 14,
   "metadata": {},
   "outputs": [
    {
     "data": {
      "text/plain": [
       "(13033, 343)"
      ]
     },
     "execution_count": 14,
     "metadata": {},
     "output_type": "execute_result"
    }
   ],
   "source": [
    "mt.count()"
   ]
  },
  {
   "cell_type": "markdown",
   "metadata": {},
   "source": [
    "### <font color=\"brightred\"><strong>Exercise: </strong></font> explore other fields\n",
    "\n",
    "Using `show` and `summarize`, explore some of the other fields.\n",
    "\n",
    "To print fields inside the `info` structure, you must add another dot, e.g. `mt.info.AN`.\n",
    "\n",
    "1. When using `show()`, what do you notice being printed alongside some of the fields?\n",
    "\n",
    "2. Try replacing `show` with `take(5)`. How is that different?\n",
    "\n",
    "*Jupyter tips*: \n",
    "1. You can tab complete field names, e.g. `mt.info.<TAB>` to see a list of attributes + methods.\n",
    "2. The keyboard shortcut to add a new cell below the current one (while in navigation mode) is `b`."
   ]
  },
  {
   "cell_type": "code",
   "execution_count": null,
   "metadata": {},
   "outputs": [],
   "source": []
  },
  {
   "cell_type": "markdown",
   "metadata": {},
   "source": [
    "### Hail has functions built for genetics\n",
    "\n",
    "For example, `hl.summarize_variants` prints useful statistics about the genetic variants in the dataset. These are not part of the generic `summarize()` function, which must support all kinds of data, not just variant data!"
   ]
  },
  {
   "cell_type": "code",
   "execution_count": 15,
   "metadata": {},
   "outputs": [
    {
     "data": {
      "text/html": [
       "<p><b>Variant summary:</b></p><ul><li><p>Total variants: 13033</p></li><li><p>Alleles per variant:</p><table><thead style=\"font-weight: bold;\"><tr><th>Number of alleles</th><th>Count</th></tr></thead><tbody><tr><td>2</td><td>13033</td></tr></tbody></table></li><li><p>Counts by allele type:</p><table><thead style=\"font-weight: bold;\"><tr><th>Allele type</th><th>Count</th></tr></thead><tbody><tr><td>SNP</td><td>12800</td></tr><tr><td>Deletion</td><td>138</td></tr><tr><td>Insertion</td><td>95</td></tr></tbody></table></li><li><p>Transitions/Transversions:</p><table><thead style=\"font-weight: bold;\"><tr><th>Metric</th><th>Value</th></tr></thead><tbody><tr><td>Transitions</td><td>9840</td></tr><tr><td>Transversions</td><td>2960</td></tr><tr><td>Ratio</td><td>3.32</td></tr></tbody></table></li><li><p>Variants per contig:</p><table><thead style=\"font-weight: bold;\"><tr><th>Contig</th><th>Count</th></tr></thead><tbody><tr><td>1</td><td>1084</td></tr><tr><td>2</td><td>1038</td></tr><tr><td>3</td><td>882</td></tr><tr><td>4</td><td>788</td></tr><tr><td>5</td><td>791</td></tr><tr><td>6</td><td>824</td></tr><tr><td>7</td><td>671</td></tr><tr><td>8</td><td>633</td></tr><tr><td>9</td><td>510</td></tr><tr><td>10</td><td>647</td></tr><tr><td>11</td><td>677</td></tr><tr><td>12</td><td>679</td></tr><tr><td>13</td><td>415</td></tr><tr><td>14</td><td>417</td></tr><tr><td>15</td><td>414</td></tr><tr><td>16</td><td>443</td></tr><tr><td>17</td><td>429</td></tr><tr><td>18</td><td>368</td></tr><tr><td>19</td><td>396</td></tr><tr><td>20</td><td>353</td></tr><tr><td>21</td><td>187</td></tr><tr><td>X</td><td>387</td></tr></tbody></table></li></ul>"
      ],
      "text/plain": [
       "==============================\n",
       "Number of variants: 13033\n",
       "==============================\n",
       "Alleles per variant\n",
       "-------------------\n",
       "  2 alleles: 13033 variants\n",
       "==============================\n",
       "Variants per contig\n",
       "-------------------\n",
       "   1: 1084 variants\n",
       "   2: 1038 variants\n",
       "   3: 882 variants\n",
       "   4: 788 variants\n",
       "   5: 791 variants\n",
       "   6: 824 variants\n",
       "   7: 671 variants\n",
       "   8: 633 variants\n",
       "   9: 510 variants\n",
       "  10: 647 variants\n",
       "  11: 677 variants\n",
       "  12: 679 variants\n",
       "  13: 415 variants\n",
       "  14: 417 variants\n",
       "  15: 414 variants\n",
       "  16: 443 variants\n",
       "  17: 429 variants\n",
       "  18: 368 variants\n",
       "  19: 396 variants\n",
       "  20: 353 variants\n",
       "  21: 187 variants\n",
       "   X: 387 variants\n",
       "==============================\n",
       "Allele type distribution\n",
       "------------------------\n",
       "        SNP: 12800 alternate alleles (Ti: 9840, Tv: 2960, ratio: 3.32)\n",
       "   Deletion: 138 alternate alleles\n",
       "  Insertion: 95 alternate alleles\n",
       "=============================="
      ]
     },
     "metadata": {},
     "output_type": "display_data"
    }
   ],
   "source": [
    "hl.summarize_variants(mt)"
   ]
  },
  {
   "cell_type": "markdown",
   "metadata": {},
   "source": [
    "### Most of Hail's functionality is totally general-purpose!\n",
    "\n",
    "Functions like `summarize_variants` are built out of Hail's general-purpose data manipulation functionality. We can use Hail to ask arbitrary questions about the data, in addition to built-in library functions:"
   ]
  },
  {
   "cell_type": "code",
   "execution_count": 16,
   "metadata": {},
   "outputs": [
    {
     "data": {
      "text/plain": [
       "150"
      ]
     },
     "execution_count": 16,
     "metadata": {},
     "output_type": "execute_result"
    }
   ],
   "source": [
    "mt.aggregate_rows(hl.agg.count_where(mt.alleles == ['A', 'T']))"
   ]
  },
  {
   "cell_type": "markdown",
   "metadata": {},
   "source": [
    "\n",
    "Or if we had flight data:\n",
    "\n",
    "```\n",
    "data.aggregate(\n",
    "    hl.agg.count_where(data.arrival_city == 'Denver')\n",
    ")\n",
    "```"
   ]
  },
  {
   "cell_type": "markdown",
   "metadata": {},
   "source": [
    "The `counter` aggregator makes it possible to see distributions of categorical data, like alleles:"
   ]
  },
  {
   "cell_type": "code",
   "execution_count": 17,
   "metadata": {},
   "outputs": [
    {
     "data": {
      "text/plain": [
       "[(['A', 'AAAAAT'], 1),\n",
       " (['A', 'AAAAGAAAGAAAGAAAGAAAGAAAGAAAG'], 1),\n",
       " (['A', 'AAAAT'], 2),\n",
       " (['A', 'AAAGG'], 1),\n",
       " (['A', 'AATGTGAT'], 1),\n",
       " (['A', 'AC'], 4),\n",
       " (['A', 'ACT'], 1),\n",
       " (['A', 'AG'], 2),\n",
       " (['A', 'AT'], 6),\n",
       " (['A', 'ATTG'], 1),\n",
       " (['A', 'ATTT'], 1),\n",
       " (['A', 'ATTTCTTTCTTTCTTTCTTTCTTTCTTTC'], 1),\n",
       " (['A', 'C'], 526),\n",
       " (['A', 'G'], 2193),\n",
       " (['A', 'T'], 150),\n",
       " (['AAAAAG', 'A'], 1),\n",
       " (['AAAAC', 'A'], 1),\n",
       " (['AAAAT', 'A'], 1),\n",
       " (['AAAT', 'A'], 1),\n",
       " (['AAC', 'A'], 1),\n",
       " (['AAG', 'A'], 2),\n",
       " (['AAGCATC', 'A'], 1),\n",
       " (['AAT', 'A'], 1),\n",
       " (['AATATAG', 'A'], 1),\n",
       " (['AATG', 'A'], 1),\n",
       " (['AC', 'A'], 10),\n",
       " (['ACCTCAGTTCT', 'A'], 1),\n",
       " (['ACGTAG', 'A'], 1),\n",
       " (['ACT', 'A'], 3),\n",
       " (['ACTGT', 'A'], 1),\n",
       " (['AG', 'A'], 4),\n",
       " (['AGGTTTGCTGTATAGCCTCCATTAAAAAAATGAAGAGACCCAACTGATGCTTTAC', 'A'], 1),\n",
       " (['AGT', 'A'], 1),\n",
       " (['AT', 'A'], 4),\n",
       " (['ATAC', 'A'], 1),\n",
       " (['ATAGT', 'A'], 1),\n",
       " (['ATATATC', 'A'], 1),\n",
       " (['ATCT', 'A'], 1),\n",
       " (['ATG', 'A'], 1),\n",
       " (['ATGG', 'A'], 1),\n",
       " (['ATT', 'A'], 1),\n",
       " (['ATTGT', 'A'], 1),\n",
       " (['C', 'A'], 602),\n",
       " (['C', 'CA'], 6),\n",
       " (['C', 'CAA'], 1),\n",
       " (['C', 'CAT'], 1),\n",
       " (['C', 'CCA'], 1),\n",
       " (['C', 'CCTCTTCTCTTT'], 1),\n",
       " (['C', 'CGTA'], 1),\n",
       " (['C', 'CT'], 5),\n",
       " (['C', 'CTT'], 1),\n",
       " (['C', 'CTTG'], 1),\n",
       " (['C', 'G'], 225),\n",
       " (['C', 'T'], 2768),\n",
       " (['CA', 'C'], 6),\n",
       " (['CAACAAT', 'C'], 1),\n",
       " (['CAAT', 'C'], 1),\n",
       " (['CAG', 'C'], 1),\n",
       " (['CAT', 'C'], 1),\n",
       " (['CCA', 'C'], 2),\n",
       " (['CCACATTGGAGAT', 'C'], 1),\n",
       " (['CCAT', 'C'], 1),\n",
       " (['CCCGCTGCT', 'C'], 1),\n",
       " (['CCT', 'C'], 2),\n",
       " (['CG', 'C'], 1),\n",
       " (['CT', 'C'], 5),\n",
       " (['CTGTTT', 'C'], 1),\n",
       " (['CTT', 'C'], 2),\n",
       " (['CTTG', 'C'], 1),\n",
       " (['G', 'A'], 2775),\n",
       " (['G', 'C'], 190),\n",
       " (['G', 'GA'], 9),\n",
       " (['G', 'GC'], 2),\n",
       " (['G', 'GCT'], 1),\n",
       " (['G', 'GGAGT'], 1),\n",
       " (['G', 'GGGC'], 1),\n",
       " (['G', 'GGT'], 1),\n",
       " (['G', 'GT'], 10),\n",
       " (['G', 'GTT'], 2),\n",
       " (['G', 'T'], 567),\n",
       " (['GA', 'G'], 6),\n",
       " (['GAAGGAAGGAAGGAAGA', 'G'], 1),\n",
       " (['GAAT', 'G'], 1),\n",
       " (['GAC', 'G'], 1),\n",
       " (['GC', 'G'], 2),\n",
       " (['GCCAAGGCAATGCCTTGGTGGAGCTGGGGCCCATTTGGCCCACTGACCTGAGGAAAGCAGTTTTGTGAATT',\n",
       "   'G'],\n",
       "  1),\n",
       " (['GCCTT', 'G'], 1),\n",
       " (['GCTGGAACTCC', 'G'], 1),\n",
       " (['GGA', 'G'], 1),\n",
       " (['GGATGGAT', 'G'], 1),\n",
       " (['GGGTAGCT', 'G'], 1),\n",
       " (['GT', 'G'], 2),\n",
       " (['GTA', 'G'], 1),\n",
       " (['GTAAATA', 'G'], 1),\n",
       " (['GTT', 'G'], 1),\n",
       " (['GTTGT', 'G'], 1),\n",
       " (['T', 'A'], 154),\n",
       " (['T', 'C'], 2104),\n",
       " (['T', 'G'], 546),\n",
       " (['T', 'TA'], 9),\n",
       " (['T', 'TACAGATATGGGTAGATGG'], 1),\n",
       " (['T', 'TAG'], 1),\n",
       " (['T', 'TC'], 3),\n",
       " (['T', 'TCC'], 1),\n",
       " (['T', 'TG'], 8),\n",
       " (['T', 'TGA'], 1),\n",
       " (['T', 'TGC'], 1),\n",
       " (['T', 'TGTTC'], 1),\n",
       " (['T', 'TTA'], 2),\n",
       " (['TA', 'T'], 8),\n",
       " (['TAA', 'T'], 3),\n",
       " (['TAC', 'T'], 1),\n",
       " (['TC', 'T'], 4),\n",
       " (['TCCTTCCTTCCTCCCTACCTCCCTC', 'T'], 1),\n",
       " (['TCGTGA', 'T'], 1),\n",
       " (['TCTCTGCTCACTGCAAC', 'T'], 1),\n",
       " (['TG', 'T'], 7),\n",
       " (['TGA', 'T'], 2),\n",
       " (['TGAGACAAAGTCTCGCTCTATCGCCCAGGCTGGAGTGCAGTGGCATAATCTTGGCTCACTGCAACATCTGCCTCCCGGGTTCAAGCGATCCTCCTGCCTCAGCTCCCAAGTAGCTGGGATTACAGGTGCCCACTACCACACCCAGCTAA',\n",
       "   'T'],\n",
       "  1),\n",
       " (['TTAGTATCTA', 'T'], 1),\n",
       " (['TTC', 'T'], 1),\n",
       " (['TTG', 'T'], 3),\n",
       " (['TTGAC', 'T'], 1),\n",
       " (['TTTAAG', 'T'], 1),\n",
       " (['TTTACGCAGTCCTTTCCTAGATGAAGGGTGAGTTGCAAGG', 'T'], 1),\n",
       " (['TTTG', 'T'], 2),\n",
       " (['TTTGG', 'T'], 1),\n",
       " (['TTTTC', 'T'], 1),\n",
       " (['TTTTG', 'T'], 1),\n",
       " (['TTTTTG', 'T'], 1)]"
      ]
     },
     "execution_count": 17,
     "metadata": {},
     "output_type": "execute_result"
    }
   ],
   "source": [
    "mt.aggregate_rows(hl.array(hl.agg.counter(mt.alleles)))"
   ]
  },
  {
   "cell_type": "markdown",
   "metadata": {},
   "source": [
    "### Oops!\n",
    "\n",
    "The insertions and deletions in this dataset are drowning out the interesting counts of the 12 possible SNPs. We can `filter` to SNPs and sort to uncover some interesting biology:"
   ]
  },
  {
   "cell_type": "code",
   "execution_count": 18,
   "metadata": {},
   "outputs": [
    {
     "data": {
      "text/plain": [
       "[(['G', 'A'], 2775),\n",
       " (['C', 'T'], 2768),\n",
       " (['A', 'G'], 2193),\n",
       " (['T', 'C'], 2104),\n",
       " (['C', 'A'], 602),\n",
       " (['G', 'T'], 567),\n",
       " (['T', 'G'], 546),\n",
       " (['A', 'C'], 526),\n",
       " (['C', 'G'], 225),\n",
       " (['G', 'C'], 190),\n",
       " (['T', 'A'], 154),\n",
       " (['A', 'T'], 150)]"
      ]
     },
     "execution_count": 18,
     "metadata": {},
     "output_type": "execute_result"
    }
   ],
   "source": [
    "snp_counts = mt.aggregate_rows(\n",
    "    hl.array(\n",
    "        hl.agg.filter(\n",
    "            hl.is_snp(mt.alleles[0], mt.alleles[1]),\n",
    "            hl.agg.counter(mt.alleles))))\n",
    "sorted(snp_counts,\n",
    "       key=lambda x: -x[1])"
   ]
  },
  {
   "cell_type": "markdown",
   "metadata": {},
   "source": [
    "### <font color=\"brightred\"><strong>Question: </strong></font> Why do the counts come in pairs? Discuss with neighbors!"
   ]
  },
  {
   "cell_type": "code",
   "execution_count": null,
   "metadata": {},
   "outputs": [],
   "source": []
  },
  {
   "cell_type": "markdown",
   "metadata": {},
   "source": [
    "# Part 2: Annotation and quality control"
   ]
  },
  {
   "cell_type": "markdown",
   "metadata": {},
   "source": [
    "## Integrate sample information\n",
    "\n",
    "We're building toward a genome-wide association test in part 3, but we don't just need genetic data to do a GWAS -- we also need phenotype data! Luckily, our `hl.utils.get_1kg` function also downloaded some simulated phenotype data.\n",
    "\n",
    "This is a text file:"
   ]
  },
  {
   "cell_type": "code",
   "execution_count": 19,
   "metadata": {},
   "outputs": [
    {
     "name": "stdout",
     "output_type": "stream",
     "text": [
      "s\tpopulation\tsuper_population\tis_female\tpurple_hair\tcaffeine_consumption\tsix_toes\r\n",
      "HG00096\tGBR\tEUR\tfalse\tfalse\t5.0746e+01\tfalse\r\n",
      "HG00097\tGBR\tEUR\ttrue\tfalse\t5.0244e+01\tfalse\r\n",
      "HG00098\tGBR\tEUR\tfalse\tfalse\t6.3758e+01\tfalse\r\n",
      "HG00099\tGBR\tEUR\ttrue\tfalse\t5.3899e+01\tfalse\r\n",
      "HG00100\tGBR\tEUR\ttrue\tfalse\t4.1456e+01\tfalse\r\n",
      "HG00101\tGBR\tEUR\tfalse\tfalse\t5.4906e+01\tfalse\r\n",
      "HG00102\tGBR\tEUR\ttrue\tfalse\t3.8281e+01\tfalse\r\n",
      "HG00103\tGBR\tEUR\tfalse\tfalse\t3.8200e+01\tfalse\r\n",
      "HG00104\tGBR\tEUR\ttrue\tfalse\t5.1852e+01\tfalse\r\n"
     ]
    }
   ],
   "source": [
    "! head resources/1kg_annotations.txt"
   ]
  },
  {
   "cell_type": "markdown",
   "metadata": {},
   "source": [
    "We can import it as a [Hail Table](https://hail.is/docs/0.2/overview/table.html) with [hl.import_table](https://hail.is/docs/0.2/methods/impex.html?highlight=import_table#hail.methods.import_table).\n",
    "\n",
    "We call it \"sa\" for \"sample annotations\"."
   ]
  },
  {
   "cell_type": "code",
   "execution_count": 20,
   "metadata": {},
   "outputs": [
    {
     "name": "stderr",
     "output_type": "stream",
     "text": [
      "2020-04-17 17:06:48 Hail: INFO: Reading table to impute column types\n",
      "2020-04-17 17:06:48 Hail: INFO: Finished type imputation\n",
      "  Loading column 's' as type 'str' (imputed)\n",
      "  Loading column 'population' as type 'str' (imputed)\n",
      "  Loading column 'super_population' as type 'str' (imputed)\n",
      "  Loading column 'is_female' as type 'bool' (imputed)\n",
      "  Loading column 'purple_hair' as type 'bool' (imputed)\n",
      "  Loading column 'caffeine_consumption' as type 'float64' (imputed)\n",
      "  Loading column 'six_toes' as type 'bool' (imputed)\n"
     ]
    }
   ],
   "source": [
    "sa = hl.import_table('resources/1kg_annotations.txt', \n",
    "                      impute=True, \n",
    "                      key='s')"
   ]
  },
  {
   "cell_type": "markdown",
   "metadata": {},
   "source": [
    "While we can see the names and types of fields in the logging messages, we can also `show` this table:"
   ]
  },
  {
   "cell_type": "code",
   "execution_count": 21,
   "metadata": {},
   "outputs": [
    {
     "data": {
      "text/html": [
       "<table><thead style=\"font-weight: bold;\"><tr><td>s</td><td>population</td><td>super_population</td><td>is_female</td><td>purple_hair</td><td>caffeine_consumption</td><td>six_toes</td></tr>\n",
       "<tr><td>str</td><td>str</td><td>str</td><td>bool</td><td>bool</td><td>float64</td><td>bool</td></tr>\n",
       "</thead><tbody><tr><td>&quot;HG00096&quot;</td><td>&quot;GBR&quot;</td><td>&quot;EUR&quot;</td><td>false</td><td>false</td><td>5.07e+01</td><td>false</td></tr>\n",
       "<tr><td>&quot;HG00097&quot;</td><td>&quot;GBR&quot;</td><td>&quot;EUR&quot;</td><td>true</td><td>false</td><td>5.02e+01</td><td>false</td></tr>\n",
       "<tr><td>&quot;HG00098&quot;</td><td>&quot;GBR&quot;</td><td>&quot;EUR&quot;</td><td>false</td><td>false</td><td>6.38e+01</td><td>false</td></tr>\n",
       "<tr><td>&quot;HG00099&quot;</td><td>&quot;GBR&quot;</td><td>&quot;EUR&quot;</td><td>true</td><td>false</td><td>5.39e+01</td><td>false</td></tr>\n",
       "<tr><td>&quot;HG00100&quot;</td><td>&quot;GBR&quot;</td><td>&quot;EUR&quot;</td><td>true</td><td>false</td><td>4.15e+01</td><td>false</td></tr>\n",
       "<tr><td>&quot;HG00101&quot;</td><td>&quot;GBR&quot;</td><td>&quot;EUR&quot;</td><td>false</td><td>false</td><td>5.49e+01</td><td>false</td></tr>\n",
       "<tr><td>&quot;HG00102&quot;</td><td>&quot;GBR&quot;</td><td>&quot;EUR&quot;</td><td>true</td><td>false</td><td>3.83e+01</td><td>false</td></tr>\n",
       "<tr><td>&quot;HG00103&quot;</td><td>&quot;GBR&quot;</td><td>&quot;EUR&quot;</td><td>false</td><td>false</td><td>3.82e+01</td><td>false</td></tr>\n",
       "<tr><td>&quot;HG00104&quot;</td><td>&quot;GBR&quot;</td><td>&quot;EUR&quot;</td><td>true</td><td>false</td><td>5.19e+01</td><td>false</td></tr>\n",
       "<tr><td>&quot;HG00105&quot;</td><td>&quot;GBR&quot;</td><td>&quot;EUR&quot;</td><td>false</td><td>false</td><td>3.57e+01</td><td>false</td></tr>\n",
       "<tr><td>&quot;HG00106&quot;</td><td>&quot;GBR&quot;</td><td>&quot;EUR&quot;</td><td>true</td><td>false</td><td>4.82e+01</td><td>false</td></tr>\n",
       "<tr><td>&quot;HG00107&quot;</td><td>NA</td><td>NA</td><td>false</td><td>true</td><td>3.63e+01</td><td>true</td></tr>\n",
       "<tr><td>&quot;HG00108&quot;</td><td>&quot;GBR&quot;</td><td>&quot;EUR&quot;</td><td>false</td><td>false</td><td>4.73e+01</td><td>false</td></tr>\n",
       "<tr><td>&quot;HG00109&quot;</td><td>&quot;GBR&quot;</td><td>&quot;EUR&quot;</td><td>false</td><td>true</td><td>5.59e+01</td><td>false</td></tr>\n",
       "<tr><td>&quot;HG00110&quot;</td><td>&quot;GBR&quot;</td><td>&quot;EUR&quot;</td><td>true</td><td>false</td><td>4.48e+01</td><td>false</td></tr>\n",
       "<tr><td>&quot;HG00111&quot;</td><td>&quot;GBR&quot;</td><td>&quot;EUR&quot;</td><td>true</td><td>false</td><td>1.71e+01</td><td>false</td></tr>\n",
       "<tr><td>&quot;HG00112&quot;</td><td>&quot;GBR&quot;</td><td>&quot;EUR&quot;</td><td>false</td><td>false</td><td>4.57e+01</td><td>false</td></tr>\n",
       "<tr><td>&quot;HG00113&quot;</td><td>&quot;GBR&quot;</td><td>&quot;EUR&quot;</td><td>false</td><td>false</td><td>5.17e+01</td><td>false</td></tr>\n",
       "<tr><td>&quot;HG00114&quot;</td><td>&quot;GBR&quot;</td><td>&quot;EUR&quot;</td><td>false</td><td>false</td><td>4.14e+01</td><td>false</td></tr>\n",
       "<tr><td>&quot;HG00115&quot;</td><td>NA</td><td>NA</td><td>false</td><td>false</td><td>4.11e+01</td><td>false</td></tr>\n",
       "<tr><td>&quot;HG00116&quot;</td><td>NA</td><td>NA</td><td>false</td><td>false</td><td>5.58e+01</td><td>false</td></tr>\n",
       "<tr><td>&quot;HG00117&quot;</td><td>NA</td><td>NA</td><td>false</td><td>false</td><td>2.67e+01</td><td>false</td></tr>\n",
       "<tr><td>&quot;HG00118&quot;</td><td>&quot;GBR&quot;</td><td>&quot;EUR&quot;</td><td>true</td><td>false</td><td>4.51e+01</td><td>false</td></tr>\n",
       "<tr><td>&quot;HG00119&quot;</td><td>&quot;GBR&quot;</td><td>&quot;EUR&quot;</td><td>false</td><td>true</td><td>4.14e+01</td><td>false</td></tr>\n",
       "</tbody></table><p style=\"background: #fdd; padding: 0.4em;\">showing top 24 rows</p>\n"
      ],
      "text/plain": [
       "+-----------+------------+------------------+-----------+-------------+----------------------+----------+\n",
       "| s         | population | super_population | is_female | purple_hair | caffeine_consumption | six_toes |\n",
       "+-----------+------------+------------------+-----------+-------------+----------------------+----------+\n",
       "| str       | str        | str              |      bool |        bool |              float64 |     bool |\n",
       "+-----------+------------+------------------+-----------+-------------+----------------------+----------+\n",
       "| \"HG00096\" | \"GBR\"      | \"EUR\"            |     false |       false |             5.07e+01 |    false |\n",
       "| \"HG00097\" | \"GBR\"      | \"EUR\"            |      true |       false |             5.02e+01 |    false |\n",
       "| \"HG00098\" | \"GBR\"      | \"EUR\"            |     false |       false |             6.38e+01 |    false |\n",
       "| \"HG00099\" | \"GBR\"      | \"EUR\"            |      true |       false |             5.39e+01 |    false |\n",
       "| \"HG00100\" | \"GBR\"      | \"EUR\"            |      true |       false |             4.15e+01 |    false |\n",
       "| \"HG00101\" | \"GBR\"      | \"EUR\"            |     false |       false |             5.49e+01 |    false |\n",
       "| \"HG00102\" | \"GBR\"      | \"EUR\"            |      true |       false |             3.83e+01 |    false |\n",
       "| \"HG00103\" | \"GBR\"      | \"EUR\"            |     false |       false |             3.82e+01 |    false |\n",
       "| \"HG00104\" | \"GBR\"      | \"EUR\"            |      true |       false |             5.19e+01 |    false |\n",
       "| \"HG00105\" | \"GBR\"      | \"EUR\"            |     false |       false |             3.57e+01 |    false |\n",
       "| \"HG00106\" | \"GBR\"      | \"EUR\"            |      true |       false |             4.82e+01 |    false |\n",
       "| \"HG00107\" | NA         | NA               |     false |        true |             3.63e+01 |     true |\n",
       "| \"HG00108\" | \"GBR\"      | \"EUR\"            |     false |       false |             4.73e+01 |    false |\n",
       "| \"HG00109\" | \"GBR\"      | \"EUR\"            |     false |        true |             5.59e+01 |    false |\n",
       "| \"HG00110\" | \"GBR\"      | \"EUR\"            |      true |       false |             4.48e+01 |    false |\n",
       "| \"HG00111\" | \"GBR\"      | \"EUR\"            |      true |       false |             1.71e+01 |    false |\n",
       "| \"HG00112\" | \"GBR\"      | \"EUR\"            |     false |       false |             4.57e+01 |    false |\n",
       "| \"HG00113\" | \"GBR\"      | \"EUR\"            |     false |       false |             5.17e+01 |    false |\n",
       "| \"HG00114\" | \"GBR\"      | \"EUR\"            |     false |       false |             4.14e+01 |    false |\n",
       "| \"HG00115\" | NA         | NA               |     false |       false |             4.11e+01 |    false |\n",
       "| \"HG00116\" | NA         | NA               |     false |       false |             5.58e+01 |    false |\n",
       "| \"HG00117\" | NA         | NA               |     false |       false |             2.67e+01 |    false |\n",
       "| \"HG00118\" | \"GBR\"      | \"EUR\"            |      true |       false |             4.51e+01 |    false |\n",
       "| \"HG00119\" | \"GBR\"      | \"EUR\"            |     false |        true |             4.14e+01 |    false |\n",
       "+-----------+------------+------------------+-----------+-------------+----------------------+----------+\n",
       "showing top 24 rows"
      ]
     },
     "metadata": {},
     "output_type": "display_data"
    }
   ],
   "source": [
    "sa.show()"
   ]
  },
  {
   "cell_type": "markdown",
   "metadata": {},
   "source": [
    "And we can `summarize` each field in `sa`:"
   ]
  },
  {
   "cell_type": "code",
   "execution_count": 22,
   "metadata": {},
   "outputs": [
    {
     "name": "stderr",
     "output_type": "stream",
     "text": [
      "2020-04-17 17:06:50 Hail: INFO: Coerced sorted dataset\n"
     ]
    },
    {
     "data": {
      "text/html": [
       "<p>3500 records.</p><ul><li><b>s</b> (<i>str</i>):<ul><table><tbody><tr><td>Non-missing</td><td>3500 (100.00%)</td></tr><tr><td>Missing</td><td>0</td></tr><tr><td>Min Size</td><td>7</td></tr><tr><td>Max Size</td><td>7</td></tr><tr><td>Mean Size</td><td>7.00</td></tr><tr><td>Sample Values</td><td>[&#x27;HG00096&#x27;, &#x27;HG00097&#x27;, &#x27;HG00098&#x27;, &#x27;HG00099&#x27;, &#x27;HG00100&#x27;]</td></tr></tbody></table></ul></li><li><b>population</b> (<i>str</i>):<ul><table><tbody><tr><td>Non-missing</td><td>2819 (80.54%)</td></tr><tr><td>Missing</td><td>681 (19.46%)</td></tr><tr><td>Min Size</td><td>3</td></tr><tr><td>Max Size</td><td>3</td></tr><tr><td>Mean Size</td><td>3.00</td></tr><tr><td>Sample Values</td><td>[&#x27;GBR&#x27;, &#x27;GBR&#x27;, &#x27;GBR&#x27;, &#x27;GBR&#x27;, &#x27;GBR&#x27;]</td></tr></tbody></table></ul></li><li><b>super_population</b> (<i>str</i>):<ul><table><tbody><tr><td>Non-missing</td><td>2819 (80.54%)</td></tr><tr><td>Missing</td><td>681 (19.46%)</td></tr><tr><td>Min Size</td><td>3</td></tr><tr><td>Max Size</td><td>3</td></tr><tr><td>Mean Size</td><td>3.00</td></tr><tr><td>Sample Values</td><td>[&#x27;EUR&#x27;, &#x27;EUR&#x27;, &#x27;EUR&#x27;, &#x27;EUR&#x27;, &#x27;EUR&#x27;]</td></tr></tbody></table></ul></li><li><b>is_female</b> (<i>bool</i>):<ul><table><tbody><tr><td>Non-missing</td><td>3500 (100.00%)</td></tr><tr><td>Missing</td><td>0</td></tr><tr><td>Counts</td><td>{False: 1740, True: 1760}</td></tr></tbody></table></ul></li><li><b>purple_hair</b> (<i>bool</i>):<ul><table><tbody><tr><td>Non-missing</td><td>3500 (100.00%)</td></tr><tr><td>Missing</td><td>0</td></tr><tr><td>Counts</td><td>{False: 2813, True: 687}</td></tr></tbody></table></ul></li><li><b>caffeine_consumption</b> (<i>float64</i>):<ul><table><tbody><tr><td>Non-missing</td><td>3500 (100.00%)</td></tr><tr><td>Missing</td><td>0</td></tr><tr><td>Minimum</td><td>14.11</td></tr><tr><td>Maximum</td><td>93.59</td></tr><tr><td>Mean</td><td>46.15</td></tr><tr><td>Std Dev</td><td>10.59</td></tr></tbody></table></ul></li><li><b>six_toes</b> (<i>bool</i>):<ul><table><tbody><tr><td>Non-missing</td><td>3500 (100.00%)</td></tr><tr><td>Missing</td><td>0</td></tr><tr><td>Counts</td><td>{False: 3425, True: 75}</td></tr></tbody></table></ul></li></ul>"
      ],
      "text/plain": [
       "\n",
       "3500 records.\n",
       "\n",
       "  - s (str):\n",
       "      Non-missing: 3500 (100.00%)\n",
       "          Missing: 0\n",
       "         Min Size: 7\n",
       "         Max Size: 7\n",
       "        Mean Size: 7.00\n",
       "    Sample Values: ['HG00096', 'HG00097', 'HG00098', 'HG00099', 'HG00100']\n",
       "\n",
       "  - population (str):\n",
       "      Non-missing: 2819 (80.54%)\n",
       "          Missing: 681 (19.46%)\n",
       "         Min Size: 3\n",
       "         Max Size: 3\n",
       "        Mean Size: 3.00\n",
       "    Sample Values: ['GBR', 'GBR', 'GBR', 'GBR', 'GBR']\n",
       "\n",
       "  - super_population (str):\n",
       "      Non-missing: 2819 (80.54%)\n",
       "          Missing: 681 (19.46%)\n",
       "         Min Size: 3\n",
       "         Max Size: 3\n",
       "        Mean Size: 3.00\n",
       "    Sample Values: ['EUR', 'EUR', 'EUR', 'EUR', 'EUR']\n",
       "\n",
       "  - is_female (bool):\n",
       "    Non-missing: 3500 (100.00%)\n",
       "        Missing: 0\n",
       "         Counts: {False: 1740, True: 1760}\n",
       "\n",
       "  - purple_hair (bool):\n",
       "    Non-missing: 3500 (100.00%)\n",
       "        Missing: 0\n",
       "         Counts: {False: 2813, True: 687}\n",
       "\n",
       "  - caffeine_consumption (float64):\n",
       "    Non-missing: 3500 (100.00%)\n",
       "        Missing: 0\n",
       "        Minimum: 14.11\n",
       "        Maximum: 93.59\n",
       "           Mean: 46.15\n",
       "        Std Dev: 10.59\n",
       "\n",
       "  - six_toes (bool):\n",
       "    Non-missing: 3500 (100.00%)\n",
       "        Missing: 0\n",
       "         Counts: {False: 3425, True: 75}"
      ]
     },
     "metadata": {},
     "output_type": "display_data"
    }
   ],
   "source": [
    "sa.summarize()"
   ]
  },
  {
   "cell_type": "markdown",
   "metadata": {},
   "source": [
    "## Add sample metadata into our 1KG `MatrixTable`\n",
    "\n",
    "It just takes one line:"
   ]
  },
  {
   "cell_type": "code",
   "execution_count": 23,
   "metadata": {},
   "outputs": [],
   "source": [
    "mt = mt.annotate_cols(pheno = sa[mt.s])"
   ]
  },
  {
   "cell_type": "markdown",
   "metadata": {},
   "source": [
    "### What's going on here?\n",
    "\n",
    "Understanding what's going on here is a bit more difficult. To understand, we need to understand a few pieces:\n",
    "\n",
    "#### 1. `annotate` methods\n",
    "\n",
    "In Hail, `annotate` methods refer to **adding new fields**. \n",
    "\n",
    " - `MatrixTable`'s `annotate_cols` adds new column (**sample**) fields.\n",
    " - `MatrixTable`'s `annotate_rows` adds new row (**variant**) fields.\n",
    " - `MatrixTable`'s `annotate_entries` adds new entry (**genotype**) fields.\n",
    " - `Table`'s `annotate` adds new row fields.\n",
    "\n",
    "In the above cell, we are adding a new column (**sample**) field called \"pheno\". This field should be the values in our table `sa` associated with the sample ID `s` in our `MatrixTable` - that is, this is performing a **join**.\n",
    "\n",
    "Python uses square brackets to look up values in dictionaries:\n",
    "\n",
    "    d = {'foo': 5, 'bar': 10}\n",
    "    d['foo']\n",
    "\n",
    "You should think of this in much the same way - for each column of `mt`, we are looking up the fields in `sa` using the sample ID `s`.\n",
    "\n",
    "Let's look at where does this go into the `MatrixTable`"
   ]
  },
  {
   "cell_type": "code",
   "execution_count": 24,
   "metadata": {},
   "outputs": [
    {
     "data": {
      "application/vnd.jupyter.widget-view+json": {
       "model_id": "79b6d4a2915544c785f53cb4aa929d5f",
       "version_major": 2,
       "version_minor": 0
      },
      "text/plain": [
       "VBox(children=(HBox(children=(Button(description='globals', layout=Layout(height='30px', width='65px'), style=…"
      ]
     },
     "metadata": {},
     "output_type": "display_data"
    },
    {
     "data": {
      "application/vnd.jupyter.widget-view+json": {
       "model_id": "e24dc72d01924f48b28301c5805f411b",
       "version_major": 2,
       "version_minor": 0
      },
      "text/plain": [
       "Tab(children=(VBox(children=(HTML(value='<p><big>Global fields, with one value in the dataset.</big></p>\\n<p>C…"
      ]
     },
     "metadata": {},
     "output_type": "display_data"
    }
   ],
   "source": [
    "mt.describe(widget=True)"
   ]
  },
  {
   "cell_type": "markdown",
   "metadata": {},
   "source": [
    "## Query the phenotype fields"
   ]
  },
  {
   "cell_type": "markdown",
   "metadata": {},
   "source": [
    "What’s the fraction of samples with `purple_hair`?"
   ]
  },
  {
   "cell_type": "code",
   "execution_count": 25,
   "metadata": {},
   "outputs": [
    {
     "data": {
      "text/plain": [
       "0.1457725947521866"
      ]
     },
     "execution_count": 25,
     "metadata": {},
     "output_type": "execute_result"
    }
   ],
   "source": [
    "mt.aggregate_cols(hl.agg.fraction(mt.pheno.purple_hair))"
   ]
  },
  {
   "cell_type": "markdown",
   "metadata": {},
   "source": [
    "How many people are in each self-reported major ancestry group?"
   ]
  },
  {
   "cell_type": "code",
   "execution_count": 26,
   "metadata": {},
   "outputs": [
    {
     "data": {
      "text/plain": [
       "{None: 56, 'AFR': 76, 'EAS': 75, 'AMR': 33, 'SAS': 62, 'EUR': 41}"
      ]
     },
     "execution_count": 26,
     "metadata": {},
     "output_type": "execute_result"
    }
   ],
   "source": [
    "mt.aggregate_cols(hl.agg.counter(mt.pheno.super_population))"
   ]
  },
  {
   "cell_type": "markdown",
   "metadata": {},
   "source": [
    "### <font color=\"brightred\"><strong>Exercise: </strong></font> Query some of these column fields using `mt.aggregate_cols`.\n",
    "\n",
    "Some useful aggregators:\n",
    " - `hl.agg.counter`\n",
    " - `hl.agg.stats` (min, max, mean, etc)\n",
    " - `hl.agg.count_where`\n",
    " - `hl.agg.fraction`\n",
    "\n",
    "\n",
    "To get started: What is the maximum value of `caffeine_consumption`? How many total samples have `purple_hair` (we calculated the `fraction` above)?\n",
    "\n",
    "You can also explore the **row** an **entry** fields using `mt.aggregate_rows` and `mt.aggregate_entries`."
   ]
  },
  {
   "cell_type": "code",
   "execution_count": null,
   "metadata": {},
   "outputs": [],
   "source": []
  },
  {
   "cell_type": "markdown",
   "metadata": {},
   "source": [
    "## Sample QC\n",
    "\n",
    "We'll start with examples of sample QC.\n",
    "\n",
    "Hail has the function [hl.sample_qc](https://hail.is/docs/0.2/methods/genetics.html#hail.methods.sample_qc) to compute a list of useful statistics about samples from sequencing data. This function adds a new column field, `sample_qc`, with the computed statistics.\n",
    "\n",
    "**Click the link** above to see the documentation, which lists the fields and their descriptions."
   ]
  },
  {
   "cell_type": "code",
   "execution_count": 27,
   "metadata": {},
   "outputs": [],
   "source": [
    "mt = hl.sample_qc(mt)"
   ]
  },
  {
   "cell_type": "code",
   "execution_count": 28,
   "metadata": {},
   "outputs": [
    {
     "data": {
      "application/vnd.jupyter.widget-view+json": {
       "model_id": "4842e22bc92646e3b5ac22f481902724",
       "version_major": 2,
       "version_minor": 0
      },
      "text/plain": [
       "VBox(children=(HBox(children=(Button(description='globals', layout=Layout(height='30px', width='65px'), style=…"
      ]
     },
     "metadata": {},
     "output_type": "display_data"
    },
    {
     "data": {
      "application/vnd.jupyter.widget-view+json": {
       "model_id": "961a6c5f0b0a42738b7e2da2244e514e",
       "version_major": 2,
       "version_minor": 0
      },
      "text/plain": [
       "Tab(children=(VBox(children=(HTML(value='<p><big>Global fields, with one value in the dataset.</big></p>\\n<p>C…"
      ]
     },
     "metadata": {},
     "output_type": "display_data"
    }
   ],
   "source": [
    "mt.describe(widget=True)"
   ]
  },
  {
   "cell_type": "markdown",
   "metadata": {},
   "source": [
    "Hail includes a plotting library built on [bokeh](https://bokeh.pydata.org/en/latest/index.html) that makes it easy to visualize fields of Hail tables and matrix tables.\n",
    "\n",
    "Let's visualize the distribution of `Mean DP` (`DP` = Read Depth) to `Call Rate`:"
   ]
  },
  {
   "cell_type": "code",
   "execution_count": 29,
   "metadata": {},
   "outputs": [
    {
     "data": {
      "text/html": [
       "\n",
       "\n",
       "\n",
       "\n",
       "\n",
       "\n",
       "  <div class=\"bk-root\" id=\"e8a8c495-d390-4101-bf59-d8509829b12c\" data-root-id=\"1002\"></div>\n"
      ]
     },
     "metadata": {},
     "output_type": "display_data"
    },
    {
     "data": {
      "application/javascript": [
       "(function(root) {\n",
       "  function embed_document(root) {\n",
       "    \n",
       "  var docs_json = {\"fd6b5ce8-48a0-46b4-bfb9-8cdecad5424f\":{\"roots\":{\"references\":[{\"attributes\":{\"below\":[{\"id\":\"1012\",\"type\":\"LinearAxis\"}],\"center\":[{\"id\":\"1016\",\"type\":\"Grid\"},{\"id\":\"1021\",\"type\":\"Grid\"}],\"left\":[{\"id\":\"1017\",\"type\":\"LinearAxis\"}],\"plot_height\":800,\"plot_width\":800,\"renderers\":[{\"id\":\"1041\",\"type\":\"GlyphRenderer\"}],\"title\":null,\"toolbar\":{\"id\":\"1028\",\"type\":\"Toolbar\"},\"x_range\":{\"id\":\"1004\",\"type\":\"DataRange1d\"},\"x_scale\":{\"id\":\"1008\",\"type\":\"LinearScale\"},\"y_range\":{\"id\":\"1006\",\"type\":\"DataRange1d\"},\"y_scale\":{\"id\":\"1010\",\"type\":\"LinearScale\"}},\"id\":\"1002\",\"subtype\":\"Figure\",\"type\":\"Plot\"},{\"attributes\":{},\"id\":\"1025\",\"type\":\"SaveTool\"},{\"attributes\":{\"callback\":null},\"id\":\"1006\",\"type\":\"DataRange1d\"},{\"attributes\":{},\"id\":\"1023\",\"type\":\"WheelZoomTool\"},{\"attributes\":{\"bottom_units\":\"screen\",\"fill_alpha\":{\"value\":0.5},\"fill_color\":{\"value\":\"lightgrey\"},\"left_units\":\"screen\",\"level\":\"overlay\",\"line_alpha\":{\"value\":1.0},\"line_color\":{\"value\":\"black\"},\"line_dash\":[4,4],\"line_width\":{\"value\":2},\"render_mode\":\"css\",\"right_units\":\"screen\",\"top_units\":\"screen\"},\"id\":\"1050\",\"type\":\"BoxAnnotation\"},{\"attributes\":{},\"id\":\"1008\",\"type\":\"LinearScale\"},{\"attributes\":{\"fill_alpha\":{\"value\":0.1},\"fill_color\":{\"value\":\"#1f77b4\"},\"line_alpha\":{\"value\":0.1},\"line_color\":{\"value\":\"#1f77b4\"},\"size\":{\"units\":\"screen\",\"value\":8},\"x\":{\"field\":\"x\"},\"y\":{\"field\":\"y\"}},\"id\":\"1040\",\"type\":\"Circle\"},{\"attributes\":{},\"id\":\"1044\",\"type\":\"BasicTickFormatter\"},{\"attributes\":{},\"id\":\"1049\",\"type\":\"UnionRenderers\"},{\"attributes\":{},\"id\":\"1026\",\"type\":\"ResetTool\"},{\"attributes\":{\"callback\":null,\"tooltips\":[[\"x\",\"@x\"],[\"y\",\"@y\"],[\"ID\",\"@ID\"]]},\"id\":\"1036\",\"type\":\"HoverTool\"},{\"attributes\":{},\"id\":\"1013\",\"type\":\"BasicTicker\"},{\"attributes\":{\"axis_label\":\"Mean DP\",\"formatter\":{\"id\":\"1044\",\"type\":\"BasicTickFormatter\"},\"ticker\":{\"id\":\"1013\",\"type\":\"BasicTicker\"}},\"id\":\"1012\",\"type\":\"LinearAxis\"},{\"attributes\":{},\"id\":\"1022\",\"type\":\"PanTool\"},{\"attributes\":{\"axis_label\":\"Call Rate\",\"formatter\":{\"id\":\"1046\",\"type\":\"BasicTickFormatter\"},\"ticker\":{\"id\":\"1018\",\"type\":\"BasicTicker\"}},\"id\":\"1017\",\"type\":\"LinearAxis\"},{\"attributes\":{\"overlay\":{\"id\":\"1050\",\"type\":\"BoxAnnotation\"}},\"id\":\"1024\",\"type\":\"BoxZoomTool\"},{\"attributes\":{},\"id\":\"1046\",\"type\":\"BasicTickFormatter\"},{\"attributes\":{\"callback\":null,\"data\":{\"ID\":[\"NA18853\",\"NA18534\",\"NA19456\",\"HG00436\",\"NA18630\",\"HG00590\",\"NA20800\",\"HG02224\",\"NA19448\",\"HG00607\",\"HG00177\",\"HG00182\",\"HG00864\",\"NA20851\",\"HG00530\",\"HG00265\",\"HG00242\",\"NA19076\",\"HG03449\",\"NA19786\",\"NA20877\",\"NA18516\",\"HG00274\",\"HG00702\",\"NA20858\",\"NA19321\",\"HG00619\",\"NA19311\",\"HG00657\",\"NA18619\",\"HG04054\",\"HG00663\",\"NA21091\",\"NA19660\",\"HG02152\",\"HG01498\",\"HG00704\",\"HG00369\",\"HG01174\",\"HG02165\",\"HG00534\",\"HG00705\",\"NA19761\",\"HG00096\",\"HG00656\",\"HG03556\",\"HG02154\",\"HG02397\",\"HG01965\",\"NA19239\",\"NA19657\",\"HG01958\",\"NA19240\",\"HG01915\",\"HG03973\",\"HG01491\",\"NA12878\",\"HG02054\",\"HG03380\",\"NA19756\",\"HG01334\",\"NA18565\",\"NA19384\",\"NA19451\",\"HG04059\",\"NA19655\",\"NA19466\",\"HG03352\",\"NA19238\",\"HG01572\",\"HG02298\",\"HG04063\",\"HG02130\",\"HG04099\",\"HG03905\",\"HG01052\",\"HG02186\",\"HG03690\",\"NA18631\",\"NA19317\",\"NA20869\",\"NA19399\",\"NA20900\",\"HG02131\",\"NA19379\",\"NA20798\",\"NA19059\",\"HG01790\",\"HG03850\",\"NA19404\",\"HG03897\",\"NA19701\",\"HG03491\",\"NA18541\",\"HG01070\",\"HG02870\",\"HG01443\",\"HG02351\",\"HG03247\",\"NA20826\",\"NA19679\",\"NA18517\",\"NA19060\",\"HG02236\",\"NA19685\",\"HG03686\",\"HG02318\",\"HG04140\",\"HG01848\",\"NA20529\",\"NA20906\",\"HG01850\",\"HG02814\",\"HG02511\",\"NA19455\",\"NA19113\",\"HG03351\",\"HG01164\",\"HG02384\",\"NA19670\",\"HG03937\",\"HG03871\",\"HG02232\",\"HG00332\",\"HG01857\",\"HG02409\",\"HG03922\",\"HG02345\",\"HG02840\",\"NA18861\",\"NA21114\",\"NA18616\",\"NA19063\",\"HG01849\",\"HG02580\",\"HG02386\",\"HG02682\",\"NA12273\",\"NA19720\",\"HG01537\",\"HG02116\",\"HG01806\",\"NA19446\",\"HG00105\",\"HG01256\",\"NA18874\",\"NA20898\",\"NA18916\",\"HG03367\",\"NA18865\",\"NA21113\",\"HG02390\",\"HG00254\",\"HG01799\",\"NA20888\",\"HG03837\",\"HG01795\",\"NA19661\",\"HG01863\",\"HG00632\",\"NA21111\",\"NA19037\",\"HG00129\",\"HG01623\",\"HG02373\",\"HG03224\",\"HG02259\",\"HG01396\",\"NA20351\",\"NA18873\",\"HG03267\",\"HG02651\",\"HG02690\",\"HG02087\",\"HG03755\",\"HG02521\",\"HG03974\",\"HG01248\",\"HG01630\",\"HG02561\",\"HG03873\",\"HG03074\",\"NA18740\",\"HG03241\",\"HG00881\",\"HG02629\",\"NA20799\",\"HG02086\",\"NA19087\",\"HG00452\",\"HG01924\",\"HG01864\",\"NA20864\",\"HG00099\",\"HG03055\",\"HG03105\",\"NA21133\",\"NA12546\",\"NA21118\",\"HG02595\",\"NA20757\",\"NA11918\",\"HG01284\",\"HG03458\",\"HG02574\",\"HG02558\",\"HG02497\",\"HG02760\",\"NA12760\",\"NA20517\",\"HG04209\",\"HG03259\",\"NA19185\",\"NA21112\",\"HG00148\",\"HG01348\",\"HG00446\",\"HG00598\",\"NA19086\",\"HG04003\",\"HG02699\",\"NA21116\",\"HG01783\",\"HG01241\",\"HG02881\",\"NA19314\",\"HG04210\",\"HG03511\",\"HG00271\",\"HG02661\",\"NA19118\",\"HG00421\",\"HG02798\",\"NA19678\",\"HG02768\",\"HG02722\",\"NA18975\",\"HG01275\",\"HG00623\",\"HG02688\",\"HG02462\",\"NA12045\",\"NA20587\",\"NA12414\",\"HG00335\",\"HG02024\",\"HG00472\",\"HG02611\",\"HG01870\",\"HG00118\",\"NA07347\",\"NA18525\",\"HG01970\",\"NA18623\",\"HG01874\",\"HG02419\",\"HG02078\",\"HG02010\",\"NA18960\",\"NA21125\",\"HG01991\",\"HG02811\",\"HG01075\",\"HG02025\",\"HG02026\",\"HG03684\",\"HG01784\",\"HG00733\",\"HG00731\",\"HG00732\"],\"index\":[0,1,2,3,4,5,6,7,8,9,10,11,12,13,14,15,16,17,18,19,20,21,22,23,24,25,26,27,28,29,30,31,32,33,34,35,36,37,38,39,40,41,42,43,44,45,46,47,48,49,50,51,52,53,54,55,56,57,58,59,60,61,62,63,64,65,66,67,68,69,70,71,72,73,74,75,76,77,78,79,80,81,82,83,84,85,86,87,88,89,90,91,92,93,94,95,96,97,98,99,100,101,102,103,104,105,106,107,108,109,110,111,112,113,114,115,116,117,118,119,120,121,122,123,124,125,126,127,128,129,130,131,132,133,134,135,136,137,138,139,140,141,142,143,144,145,146,147,148,149,150,151,152,153,154,155,156,157,158,159,160,161,162,163,164,165,166,167,168,169,170,171,172,173,174,175,176,177,178,179,180,181,182,183,184,185,186,187,188,189,190,191,192,193,194,195,196,197,198,199,200,201,202,203,204,205,206,207,208,209,210,211,212,213,214,215,216,217,218,219,220,221,222,223,224,225,226,227,228,229,230,231,232,233,234,235,236,237,238,239,240,241,242,243,244,245,246,247,248,249,250,251,252,253,254,255,256,257,258,259,260,261,262,263,264,265,266,267,268,269],\"x\":{\"__ndarray__\":\"rtn8fVBsB0CkzlNi39MHQJnNfrSUUwhAF4FMOPBYCECTdgiWBJsJQMK8LdNgbQpAxnpF4jjICkBIyrX+XboKQDjg8YcDHgtA5In2ZN5oC0AwhcwN3eULQMwrBOgJhwxAY3yQ+o37DEDZxMWEIM0MQFUPg0ioNg1AxKOzIt+3DUAU5A9StwMPQLeuDt3J0w5AHbkwp+ogD0D/TiRoOfQPQND93M/93A9AKMinDuccEECYiU6j8VMQQDtic0ScehBArlgYHAmCEEBIPWASV9UQQJvoNU+vwxBAyoMNgPD5EEAACJXhnQwRQENK2EHCNxFAFWirTe5+EUBDb7DTjV0RQGMEqfVSdhFAfCf0aZOgEUDMwp/uiJkRQPjc1ao5oBFAUxuMrsqyEUCupWA49uQRQPjhGEJF/xFAbbtaipPxEUDSqL2cxfsRQO+vdsDLNxJA0dc9mGhIEkB/DwCzlz4SQD1hhdiCRhJAlvdqi1xnEkDNIwZOr0cSQDc8LHMzmRJAQYf8eCeNEkClX4a5I8gSQJ76rDIpwxJATSIO1TezEkAl8c51TxITQBu2lKDKCBNAMFz/D3AOE0C2iVsQ7TITQHsUrkfhFhNApYqS8EpfE0BWvfr4oHATQAW106GRwRNAe+cDMYfrE0BIFnqcQ8wTQKKOnlK23hNAEhybS8YFFEBrNC3eTiQUQBri6ExQAhRAREREREQ0FEAERtKFcz0UQAoN0dbtNxRABBD1YAVRFECdtEbPey4UQIReOls9QRRALkPp24d8FEC2VCbavYgUQD5dyJnLmhRA9VjmOs7PFEC8ZlBgS6oUQKdSEWq5oBRAZmGL9Z3sFECQ+qFLZ/oUQAvqOfT59RRAhjscp5HpFEDV/NM17OwUQHq/3kVTNhVAczXA8yMYFUCw2LmypysVQKD8i05EbRVAIS1FRrVqFUDS2ZLyH4UVQBDTvmKZqxVAr7e0NvnkFUAAVOn5JzYWQHlgPTlQQhZAb1RJUnhcFkCyEMCpoWgWQLGKSotHmhZAQwnCK3rBFkCRy8aWg7IWQGjiLK67lxZAbbWH0XO8FkDbkG3f2dsWQKMD6t3C4BZAyG6oJOQJF0BFhvpPx/8WQGZgWTTODRdAw5muhX1jF0A07epBmqIXQHdYR4B7fxdAaYQGdqdxF0CCw+qbbIMXQKBxbk53xBdAX2sKMROzF0CWMiUmntkXQA/f6Wl26hdAf/swoeUFGEDD9Shcj+4XQKGK6/A23hdAJBfnS3PfF0BAgWPl2PUXQMsekGD7LhhA9ALF0JEaGECtF58YFm4YQKooGMyDhBhA0HfCj4auGEAtYFcSy9MYQLTpMGxZ4BhA6otyl6e+GECH0KMQJx8ZQLpw0kbNEBlA9AbhLJUEGUBOdwrZcnoZQOCMZuf9jBlAsQ2CU5mwGUA022t0h6MZQL9cpMHbrRlA+SUBI4ztGUADDDDAAAMaQDPWntf/5hlA1Ss5guEvGkBqn1TZzikaQIwJvrlyXxpA/F3/MZJiGkAbGC1QTGAaQEwbQj+32BpAnDi+34MKG0A4hpRopjEbQOnbX5kodBtAFM72vg93G0DcvtsOPZcbQFxNzCYsmxtAlRTuYwzLG0AHPkCwP9QbQHcu3x+c+RtAcGdQaS0rHEArxZ4qljIcQI0IFCMlSxxAHoD7qp5yHEB7YUcPQKscQMkR8Z5QwhxAVGEIYXHGHEBJ/3ltWdscQK1ewP3FDh1Axb2zSTZCHUAFQqQC8z0dQI6gesYuHh1ABztPj65FHUCW90TOemsdQIf/9lROUB1A1RpY9yyjHUB5gyenHoAdQB/+/McMrh1AR8pssfOLHUCmXM6gTtkdQI3EzAXsCx5AATylgfMFHkCY4oZj/DgeQL06i+2XUR5AtUiV+BuzHkBdu4QaXe8eQCY7H1ZS+h5AQXL3mSzdHkC/aZMHuCsfQMFTrCdbZR9Ab/ge4I1RH0AlqTHW4oUfQNgQIwQ6lR9A0Jpm89+MH0BQ+WsMXMQfQJ5lgb326x9AhQOhFhz2H0DFcfuq2vAfQAX6qCp1DiBAHdtGpn4oIEDqqJiUU0MgQBk1/G2KQSBAZiB2ldAsIEDVa2DdYlkgQGZFUaBzTSBAMSSH7rVgIECIwzz0lHggQBqWP6lcaCBAUwZ/EYiGIECADbIoLHwgQKqZIRkWpSBAJU0XTijAIEBFDYq+3AMhQORKUUMJFCFAgqtoZ0oPIUAgvhvKoBwhQNi96PbOLSFAvPgySS5TIUDVIWf43W4hQCFtDYRlmCFA1MNlrqPCIUBkw/iXiMshQCt2g1O36iFAKA31mqEAIkDPbKx8t/0hQE2RPo4NDyJAc3KjOUMYIkBnfYSP2RMiQPSGQpHVJCJAfTsdnRYxIkD5Hj6jvWMiQJ5zcWtmeyJADLPWFlG1IkCJRqDvg7EiQIfThwc1yyJASEGxd7DFIkDO+nlqO/kiQIJ4P9SJLCNATxSV7ucfI0AD6QyTAScjQH9CBsqNUSNADNfPuhicI0DgPNaE0agjQH5MAV6nFyRAQkLTgmJHJED5wEX5wEUkQAgE5x3QeSRA1xTB3zXFJEBzjjq5oe4kQC8Zi4GfGyVAxQhviK5nJUBHc4YwgnwlQKBNA9o0oCVAXUJPOc7rJUDLwp5dl1omQGSNv9pUqCZAk0K5o0XaJkDELS63lhwnQHoP/g0bTydAkWxKJal3J0CDyXotdCUoQE/gnqQQ6ihAHTMB+y0OKUDHoQ7YBkQpQAHZcW1+YSlAJZTgKDewKUDzvmZqvX0qQF728VEYpytAZ0Ssboj7LECO6M4nedotQFHpvR3JFy5AymAJ/2Q7L0A4zYJfvpEwQI6SgZ6c+TBAcp6A1j8jNEA5SWaZFhY3QOTa/MLGHDtA\",\"dtype\":\"float64\",\"shape\":[270]},\"y\":{\"__ndarray__\":\"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\",\"dtype\":\"float64\",\"shape\":[270]}},\"selected\":{\"id\":\"1048\",\"type\":\"Selection\"},\"selection_policy\":{\"id\":\"1049\",\"type\":\"UnionRenderers\"}},\"id\":\"1037\",\"type\":\"ColumnDataSource\"},{\"attributes\":{\"dimension\":1,\"ticker\":{\"id\":\"1018\",\"type\":\"BasicTicker\"}},\"id\":\"1021\",\"type\":\"Grid\"},{\"attributes\":{\"callback\":null},\"id\":\"1004\",\"type\":\"DataRange1d\"},{\"attributes\":{\"ticker\":{\"id\":\"1013\",\"type\":\"BasicTicker\"}},\"id\":\"1016\",\"type\":\"Grid\"},{\"attributes\":{\"active_drag\":\"auto\",\"active_inspect\":\"auto\",\"active_multi\":null,\"active_scroll\":\"auto\",\"active_tap\":\"auto\",\"tools\":[{\"id\":\"1022\",\"type\":\"PanTool\"},{\"id\":\"1023\",\"type\":\"WheelZoomTool\"},{\"id\":\"1024\",\"type\":\"BoxZoomTool\"},{\"id\":\"1025\",\"type\":\"SaveTool\"},{\"id\":\"1026\",\"type\":\"ResetTool\"},{\"id\":\"1027\",\"type\":\"HelpTool\"},{\"id\":\"1036\",\"type\":\"HoverTool\"}]},\"id\":\"1028\",\"type\":\"Toolbar\"},{\"attributes\":{},\"id\":\"1027\",\"type\":\"HelpTool\"},{\"attributes\":{},\"id\":\"1018\",\"type\":\"BasicTicker\"},{\"attributes\":{\"source\":{\"id\":\"1037\",\"type\":\"ColumnDataSource\"}},\"id\":\"1042\",\"type\":\"CDSView\"},{\"attributes\":{},\"id\":\"1010\",\"type\":\"LinearScale\"},{\"attributes\":{\"data_source\":{\"id\":\"1037\",\"type\":\"ColumnDataSource\"},\"glyph\":{\"id\":\"1039\",\"type\":\"Circle\"},\"hover_glyph\":null,\"muted_glyph\":null,\"nonselection_glyph\":{\"id\":\"1040\",\"type\":\"Circle\"},\"selection_glyph\":null,\"view\":{\"id\":\"1042\",\"type\":\"CDSView\"}},\"id\":\"1041\",\"type\":\"GlyphRenderer\"},{\"attributes\":{},\"id\":\"1048\",\"type\":\"Selection\"},{\"attributes\":{\"fill_color\":{\"value\":\"#1f77b4\"},\"line_color\":{\"value\":\"#1f77b4\"},\"size\":{\"units\":\"screen\",\"value\":8},\"x\":{\"field\":\"x\"},\"y\":{\"field\":\"y\"}},\"id\":\"1039\",\"type\":\"Circle\"}],\"root_ids\":[\"1002\"]},\"title\":\"Bokeh Application\",\"version\":\"1.2.0\"}};\n",
       "  var render_items = [{\"docid\":\"fd6b5ce8-48a0-46b4-bfb9-8cdecad5424f\",\"roots\":{\"1002\":\"e8a8c495-d390-4101-bf59-d8509829b12c\"}}];\n",
       "  root.Bokeh.embed.embed_items_notebook(docs_json, render_items);\n",
       "\n",
       "  }\n",
       "  if (root.Bokeh !== undefined) {\n",
       "    embed_document(root);\n",
       "  } else {\n",
       "    var attempts = 0;\n",
       "    var timer = setInterval(function(root) {\n",
       "      if (root.Bokeh !== undefined) {\n",
       "        embed_document(root);\n",
       "        clearInterval(timer);\n",
       "      }\n",
       "      attempts++;\n",
       "      if (attempts > 100) {\n",
       "        console.log(\"Bokeh: ERROR: Unable to run BokehJS code because BokehJS library is missing\");\n",
       "        clearInterval(timer);\n",
       "      }\n",
       "    }, 10, root)\n",
       "  }\n",
       "})(window);"
      ],
      "application/vnd.bokehjs_exec.v0+json": ""
     },
     "metadata": {
      "application/vnd.bokehjs_exec.v0+json": {
       "id": "1002"
      }
     },
     "output_type": "display_data"
    }
   ],
   "source": [
    "p = hl.plot.scatter(x=mt.sample_qc.dp_stats.mean,\n",
    "                    y=mt.sample_qc.call_rate,\n",
    "                    xlabel='Mean DP',\n",
    "                    ylabel='Call Rate',\n",
    "                    hover_fields={'ID': mt.s},\n",
    "                    size=8)\n",
    "show(p)"
   ]
  },
  {
   "cell_type": "markdown",
   "metadata": {},
   "source": [
    "### <font color=\"brightred\"><strong>Exercise: </strong></font> Plot some other fields!\n",
    "\n",
    "Modify the cell above. Feel free to try `hl.plot.histogram` or `hl.plot.cdf` (which take a single numeric argument) as well."
   ]
  },
  {
   "cell_type": "code",
   "execution_count": null,
   "metadata": {},
   "outputs": [],
   "source": []
  },
  {
   "cell_type": "markdown",
   "metadata": {},
   "source": [
    "### Filter columns using generated QC statistics"
   ]
  },
  {
   "cell_type": "markdown",
   "metadata": {},
   "source": [
    "Before filtering samples, we should compute a raw sample count:"
   ]
  },
  {
   "cell_type": "code",
   "execution_count": 30,
   "metadata": {},
   "outputs": [
    {
     "data": {
      "text/plain": [
       "343"
      ]
     },
     "execution_count": 30,
     "metadata": {},
     "output_type": "execute_result"
    }
   ],
   "source": [
    "mt.count_cols()"
   ]
  },
  {
   "cell_type": "markdown",
   "metadata": {},
   "source": [
    "`filter_cols` removes entire columns from the matrix table. Here, we keep columns (samples) where the `call_rate` is over 95%:"
   ]
  },
  {
   "cell_type": "code",
   "execution_count": 31,
   "metadata": {},
   "outputs": [],
   "source": [
    "mt = mt.filter_cols(mt.sample_qc.call_rate >= 0.95)\n"
   ]
  },
  {
   "cell_type": "markdown",
   "metadata": {},
   "source": [
    "We can compute a final sample count:"
   ]
  },
  {
   "cell_type": "code",
   "execution_count": 32,
   "metadata": {},
   "outputs": [
    {
     "data": {
      "text/plain": [
       "323"
      ]
     },
     "execution_count": 32,
     "metadata": {},
     "output_type": "execute_result"
    }
   ],
   "source": [
    "mt.count_cols()"
   ]
  },
  {
   "cell_type": "markdown",
   "metadata": {},
   "source": [
    "## Variant QC\n",
    "\n",
    "Hail has the function [hl.variant_qc](https://hail.is/docs/0.2/methods/genetics.html#hail.methods.variant_qc) to compute a list of useful statistics about **variants** from sequencing data.\n",
    "\n",
    "Once again, **Click the link** above to see the documentation!"
   ]
  },
  {
   "cell_type": "code",
   "execution_count": 33,
   "metadata": {},
   "outputs": [],
   "source": [
    "mt = hl.variant_qc(mt)"
   ]
  },
  {
   "cell_type": "code",
   "execution_count": 34,
   "metadata": {},
   "outputs": [
    {
     "data": {
      "application/vnd.jupyter.widget-view+json": {
       "model_id": "97c6ad0104d140aca270ebcd1c77becd",
       "version_major": 2,
       "version_minor": 0
      },
      "text/plain": [
       "VBox(children=(HBox(children=(Button(description='globals', layout=Layout(height='30px', width='65px'), style=…"
      ]
     },
     "metadata": {},
     "output_type": "display_data"
    },
    {
     "data": {
      "application/vnd.jupyter.widget-view+json": {
       "model_id": "1deda7f94c934db9b0405897f9eee65d",
       "version_major": 2,
       "version_minor": 0
      },
      "text/plain": [
       "Tab(children=(VBox(children=(HTML(value='<p><big>Global fields, with one value in the dataset.</big></p>\\n<p>C…"
      ]
     },
     "metadata": {},
     "output_type": "display_data"
    }
   ],
   "source": [
    "mt.describe(widget=True)"
   ]
  },
  {
   "cell_type": "markdown",
   "metadata": {},
   "source": [
    "We can `show()` the computed information:"
   ]
  },
  {
   "cell_type": "code",
   "execution_count": 35,
   "metadata": {},
   "outputs": [
    {
     "data": {
      "text/html": [
       "<table><thead style=\"font-weight: bold;\"><tr><td>locus</td><td>alleles</td><td>variant_qc.dp_stats.mean</td><td>variant_qc.dp_stats.stdev</td><td>variant_qc.dp_stats.min</td><td>variant_qc.dp_stats.max</td><td>variant_qc.gq_stats.mean</td><td>variant_qc.gq_stats.stdev</td><td>variant_qc.gq_stats.min</td><td>variant_qc.gq_stats.max</td><td>variant_qc.AC</td><td>variant_qc.AF</td><td>variant_qc.AN</td><td>variant_qc.homozygote_count</td><td>variant_qc.call_rate</td><td>variant_qc.n_called</td><td>variant_qc.n_not_called</td><td>variant_qc.n_filtered</td><td>variant_qc.n_het</td><td>variant_qc.n_non_ref</td><td>variant_qc.het_freq_hwe</td><td>variant_qc.p_value_hwe</td></tr>\n",
       "<tr><td>locus&lt;GRCh37&gt;</td><td>array&lt;str&gt;</td><td>float64</td><td>float64</td><td>float64</td><td>float64</td><td>float64</td><td>float64</td><td>float64</td><td>float64</td><td>array&lt;int32&gt;</td><td>array&lt;float64&gt;</td><td>int32</td><td>array&lt;int32&gt;</td><td>float64</td><td>int64</td><td>int64</td><td>int64</td><td>int64</td><td>int64</td><td>float64</td><td>float64</td></tr>\n",
       "</thead><tbody><tr><td>1:904165</td><td>[&quot;G&quot;,&quot;A&quot;]</td><td>7.53e+00</td><td>4.00e+00</td><td>1.00e+00</td><td>2.20e+01</td><td>2.91e+01</td><td>2.34e+01</td><td>3.00e+00</td><td>9.90e+01</td><td>[556,86]</td><td>[8.66e-01,1.34e-01]</td><td>642</td><td>[250,15]</td><td>9.94e-01</td><td>321</td><td>2</td><td>0</td><td>56</td><td>71</td><td>2.32e-01</td><td>3.99e-05</td></tr>\n",
       "<tr><td>1:909917</td><td>[&quot;G&quot;,&quot;A&quot;]</td><td>6.46e+00</td><td>3.93e+00</td><td>1.00e+00</td><td>2.30e+01</td><td>1.96e+01</td><td>1.22e+01</td><td>3.00e+00</td><td>6.80e+01</td><td>[623,5]</td><td>[9.92e-01,7.96e-03]</td><td>628</td><td>[310,1]</td><td>9.72e-01</td><td>314</td><td>9</td><td>0</td><td>3</td><td>4</td><td>1.58e-02</td><td>7.97e-03</td></tr>\n",
       "<tr><td>1:986963</td><td>[&quot;C&quot;,&quot;T&quot;]</td><td>5.99e+00</td><td>4.25e+00</td><td>1.00e+00</td><td>3.30e+01</td><td>1.87e+01</td><td>1.30e+01</td><td>2.00e+00</td><td>9.90e+01</td><td>[601,1]</td><td>[9.98e-01,1.66e-03]</td><td>602</td><td>[300,0]</td><td>9.32e-01</td><td>301</td><td>22</td><td>0</td><td>1</td><td>1</td><td>3.32e-03</td><td>5.00e-01</td></tr>\n",
       "<tr><td>1:1509414</td><td>[&quot;AG&quot;,&quot;A&quot;]</td><td>6.35e+00</td><td>3.67e+00</td><td>1.00e+00</td><td>2.30e+01</td><td>1.80e+01</td><td>1.15e+01</td><td>0.00e+00</td><td>8.80e+01</td><td>[627,3]</td><td>[9.95e-01,4.76e-03]</td><td>630</td><td>[312,0]</td><td>9.75e-01</td><td>315</td><td>8</td><td>0</td><td>3</td><td>3</td><td>9.49e-03</td><td>5.02e-01</td></tr>\n",
       "<tr><td>1:1563691</td><td>[&quot;T&quot;,&quot;G&quot;]</td><td>6.84e+00</td><td>4.30e+00</td><td>1.00e+00</td><td>2.00e+01</td><td>1.87e+01</td><td>1.31e+01</td><td>0.00e+00</td><td>9.90e+01</td><td>[612,10]</td><td>[9.84e-01,1.61e-02]</td><td>622</td><td>[303,2]</td><td>9.63e-01</td><td>311</td><td>12</td><td>0</td><td>6</td><td>8</td><td>3.17e-02</td><td>8.13e-04</td></tr>\n",
       "<tr><td>1:1707740</td><td>[&quot;T&quot;,&quot;G&quot;]</td><td>8.22e+00</td><td>4.39e+00</td><td>1.00e+00</td><td>2.60e+01</td><td>3.57e+01</td><td>2.72e+01</td><td>3.00e+00</td><td>9.90e+01</td><td>[527,117]</td><td>[8.18e-01,1.82e-01]</td><td>644</td><td>[221,16]</td><td>9.97e-01</td><td>322</td><td>1</td><td>0</td><td>85</td><td>101</td><td>2.98e-01</td><td>4.85e-02</td></tr>\n",
       "<tr><td>1:2044130</td><td>[&quot;GTT&quot;,&quot;G&quot;]</td><td>6.43e+00</td><td>3.60e+00</td><td>1.00e+00</td><td>2.30e+01</td><td>3.94e+01</td><td>3.11e+01</td><td>0.00e+00</td><td>9.90e+01</td><td>[533,111]</td><td>[8.28e-01,1.72e-01]</td><td>644</td><td>[211,0]</td><td>9.97e-01</td><td>322</td><td>1</td><td>0</td><td>111</td><td>111</td><td>2.86e-01</td><td>1.19e-05</td></tr>\n",
       "<tr><td>1:2169908</td><td>[&quot;G&quot;,&quot;T&quot;]</td><td>7.39e+00</td><td>4.49e+00</td><td>1.00e+00</td><td>2.80e+01</td><td>2.21e+01</td><td>1.36e+01</td><td>3.00e+00</td><td>8.40e+01</td><td>[626,2]</td><td>[9.97e-01,3.18e-03]</td><td>628</td><td>[312,0]</td><td>9.72e-01</td><td>314</td><td>9</td><td>0</td><td>2</td><td>2</td><td>6.36e-03</td><td>5.01e-01</td></tr>\n",
       "<tr><td>1:2252970</td><td>[&quot;C&quot;,&quot;T&quot;]</td><td>6.79e+00</td><td>4.55e+00</td><td>1.00e+00</td><td>2.80e+01</td><td>2.03e+01</td><td>1.47e+01</td><td>2.00e+00</td><td>9.90e+01</td><td>[618,2]</td><td>[9.97e-01,3.23e-03]</td><td>620</td><td>[308,0]</td><td>9.60e-01</td><td>310</td><td>13</td><td>0</td><td>2</td><td>2</td><td>6.44e-03</td><td>5.01e-01</td></tr>\n",
       "<tr><td>1:2284195</td><td>[&quot;T&quot;,&quot;C&quot;]</td><td>7.75e+00</td><td>4.19e+00</td><td>1.00e+00</td><td>2.20e+01</td><td>3.68e+01</td><td>2.93e+01</td><td>0.00e+00</td><td>9.90e+01</td><td>[441,195]</td><td>[6.93e-01,3.07e-01]</td><td>636</td><td>[160,37]</td><td>9.85e-01</td><td>318</td><td>5</td><td>0</td><td>121</td><td>158</td><td>4.26e-01</td><td>5.61e-02</td></tr>\n",
       "<tr><td>1:2686238</td><td>[&quot;A&quot;,&quot;T&quot;]</td><td>3.81e+00</td><td>2.57e+00</td><td>1.00e+00</td><td>1.80e+01</td><td>2.07e+01</td><td>1.44e+01</td><td>1.00e+00</td><td>9.90e+01</td><td>[634,4]</td><td>[9.94e-01,6.27e-03]</td><td>638</td><td>[316,1]</td><td>9.88e-01</td><td>319</td><td>4</td><td>0</td><td>2</td><td>3</td><td>1.25e-02</td><td>4.71e-03</td></tr>\n",
       "<tr><td>1:2779043</td><td>[&quot;T&quot;,&quot;C&quot;]</td><td>5.35e+00</td><td>2.94e+00</td><td>1.00e+00</td><td>1.50e+01</td><td>2.54e+01</td><td>2.31e+01</td><td>0.00e+00</td><td>9.90e+01</td><td>[177,451]</td><td>[2.82e-01,7.18e-01]</td><td>628</td><td>[38,175]</td><td>9.72e-01</td><td>314</td><td>9</td><td>0</td><td>101</td><td>276</td><td>4.05e-01</td><td>3.43e-04</td></tr>\n",
       "<tr><td>1:2944527</td><td>[&quot;G&quot;,&quot;A&quot;]</td><td>7.82e+00</td><td>4.76e+00</td><td>1.00e+00</td><td>3.10e+01</td><td>3.69e+01</td><td>3.03e+01</td><td>2.00e+00</td><td>9.90e+01</td><td>[500,136]</td><td>[7.86e-01,2.14e-01]</td><td>636</td><td>[196,14]</td><td>9.85e-01</td><td>318</td><td>5</td><td>0</td><td>108</td><td>122</td><td>3.37e-01</td><td>9.34e-01</td></tr>\n",
       "<tr><td>1:3713237</td><td>[&quot;T&quot;,&quot;G&quot;]</td><td>5.40e+00</td><td>3.57e+00</td><td>1.00e+00</td><td>2.30e+01</td><td>2.09e+01</td><td>1.57e+01</td><td>0.00e+00</td><td>9.90e+01</td><td>[603,43]</td><td>[9.33e-01,6.66e-02]</td><td>646</td><td>[281,1]</td><td>1.00e+00</td><td>323</td><td>0</td><td>0</td><td>41</td><td>42</td><td>1.24e-01</td><td>8.20e-01</td></tr>\n",
       "<tr><td>1:3761547</td><td>[&quot;C&quot;,&quot;A&quot;]</td><td>6.80e+00</td><td>3.78e+00</td><td>1.00e+00</td><td>2.40e+01</td><td>2.80e+01</td><td>1.68e+01</td><td>3.00e+00</td><td>9.90e+01</td><td>[638,6]</td><td>[9.91e-01,9.32e-03]</td><td>644</td><td>[316,0]</td><td>9.97e-01</td><td>322</td><td>1</td><td>0</td><td>6</td><td>6</td><td>1.85e-02</td><td>5.12e-01</td></tr>\n",
       "<tr><td>1:3803755</td><td>[&quot;T&quot;,&quot;C&quot;]</td><td>7.30e+00</td><td>3.64e+00</td><td>1.00e+00</td><td>2.20e+01</td><td>3.67e+01</td><td>2.79e+01</td><td>0.00e+00</td><td>9.90e+01</td><td>[206,440]</td><td>[3.19e-01,6.81e-01]</td><td>646</td><td>[47,164]</td><td>1.00e+00</td><td>323</td><td>0</td><td>0</td><td>112</td><td>276</td><td>4.35e-01</td><td>2.53e-04</td></tr>\n",
       "<tr><td>1:4121584</td><td>[&quot;A&quot;,&quot;G&quot;]</td><td>7.14e+00</td><td>4.57e+00</td><td>1.00e+00</td><td>3.00e+01</td><td>3.55e+01</td><td>2.85e+01</td><td>3.00e+00</td><td>9.90e+01</td><td>[437,203]</td><td>[6.83e-01,3.17e-01]</td><td>640</td><td>[173,56]</td><td>9.91e-01</td><td>320</td><td>3</td><td>0</td><td>91</td><td>147</td><td>4.34e-01</td><td>9.73e-10</td></tr>\n",
       "<tr><td>1:4170048</td><td>[&quot;C&quot;,&quot;T&quot;]</td><td>6.86e+00</td><td>4.18e+00</td><td>1.00e+00</td><td>3.00e+01</td><td>3.35e+01</td><td>2.83e+01</td><td>0.00e+00</td><td>9.90e+01</td><td>[470,170]</td><td>[7.34e-01,2.66e-01]</td><td>640</td><td>[181,31]</td><td>9.91e-01</td><td>320</td><td>3</td><td>0</td><td>108</td><td>139</td><td>3.91e-01</td><td>1.80e-02</td></tr>\n",
       "<tr><td>1:4180842</td><td>[&quot;C&quot;,&quot;T&quot;]</td><td>6.71e+00</td><td>3.96e+00</td><td>1.00e+00</td><td>2.60e+01</td><td>3.37e+01</td><td>2.94e+01</td><td>0.00e+00</td><td>9.90e+01</td><td>[467,175]</td><td>[7.27e-01,2.73e-01]</td><td>642</td><td>[179,33]</td><td>9.94e-01</td><td>321</td><td>2</td><td>0</td><td>109</td><td>142</td><td>3.97e-01</td><td>9.15e-03</td></tr>\n",
       "<tr><td>1:6053630</td><td>[&quot;T&quot;,&quot;G&quot;]</td><td>6.22e+00</td><td>4.01e+00</td><td>1.00e+00</td><td>3.10e+01</td><td>3.30e+01</td><td>2.93e+01</td><td>0.00e+00</td><td>9.90e+01</td><td>[367,259]</td><td>[5.86e-01,4.14e-01]</td><td>626</td><td>[126,72]</td><td>9.69e-01</td><td>313</td><td>10</td><td>0</td><td>115</td><td>187</td><td>4.86e-01</td><td>2.00e-05</td></tr>\n",
       "<tr><td>1:6279383</td><td>[&quot;G&quot;,&quot;C&quot;]</td><td>6.92e+00</td><td>3.97e+00</td><td>1.00e+00</td><td>2.60e+01</td><td>2.14e+01</td><td>1.27e+01</td><td>2.00e+00</td><td>9.90e+01</td><td>[641,3]</td><td>[9.95e-01,4.66e-03]</td><td>644</td><td>[319,0]</td><td>9.97e-01</td><td>322</td><td>1</td><td>0</td><td>3</td><td>3</td><td>9.29e-03</td><td>5.02e-01</td></tr>\n",
       "<tr><td>1:7437415</td><td>[&quot;G&quot;,&quot;T&quot;]</td><td>7.09e+00</td><td>3.95e+00</td><td>1.00e+00</td><td>3.00e+01</td><td>2.11e+01</td><td>1.18e+01</td><td>3.00e+00</td><td>9.00e+01</td><td>[634,0]</td><td>[1.00e+00,0.00e+00]</td><td>634</td><td>[317,0]</td><td>9.81e-01</td><td>317</td><td>6</td><td>0</td><td>0</td><td>0</td><td>0.00e+00</td><td>5.00e-01</td></tr>\n",
       "<tr><td>1:7569602</td><td>[&quot;C&quot;,&quot;T&quot;]</td><td>7.44e+00</td><td>4.46e+00</td><td>1.00e+00</td><td>3.30e+01</td><td>4.15e+01</td><td>3.21e+01</td><td>3.00e+00</td><td>9.90e+01</td><td>[299,343]</td><td>[4.66e-01,5.34e-01]</td><td>642</td><td>[76,98]</td><td>9.94e-01</td><td>321</td><td>2</td><td>0</td><td>147</td><td>245</td><td>4.98e-01</td><td>1.62e-01</td></tr>\n",
       "<tr><td>1:7575666</td><td>[&quot;T&quot;,&quot;C&quot;]</td><td>6.53e+00</td><td>3.77e+00</td><td>1.00e+00</td><td>2.40e+01</td><td>2.73e+01</td><td>2.39e+01</td><td>2.00e+00</td><td>9.90e+01</td><td>[531,109]</td><td>[8.30e-01,1.70e-01]</td><td>640</td><td>[233,22]</td><td>9.91e-01</td><td>320</td><td>3</td><td>0</td><td>65</td><td>87</td><td>2.83e-01</td><td>2.14e-06</td></tr>\n",
       "</tbody></table><p style=\"background: #fdd; padding: 0.4em;\">showing top 24 rows</p>\n"
      ],
      "text/plain": [
       "+---------------+-------------+--------------------------+---------------------------+-------------------------+-------------------------+--------------------------+\n",
       "| locus         | alleles     | variant_qc.dp_stats.mean | variant_qc.dp_stats.stdev | variant_qc.dp_stats.min | variant_qc.dp_stats.max | variant_qc.gq_stats.mean |\n",
       "+---------------+-------------+--------------------------+---------------------------+-------------------------+-------------------------+--------------------------+\n",
       "| locus<GRCh37> | array<str>  |                  float64 |                   float64 |                 float64 |                 float64 |                  float64 |\n",
       "+---------------+-------------+--------------------------+---------------------------+-------------------------+-------------------------+--------------------------+\n",
       "| 1:904165      | [\"G\",\"A\"]   |                 7.53e+00 |                  4.00e+00 |                1.00e+00 |                2.20e+01 |                 2.91e+01 |\n",
       "| 1:909917      | [\"G\",\"A\"]   |                 6.46e+00 |                  3.93e+00 |                1.00e+00 |                2.30e+01 |                 1.96e+01 |\n",
       "| 1:986963      | [\"C\",\"T\"]   |                 5.99e+00 |                  4.25e+00 |                1.00e+00 |                3.30e+01 |                 1.87e+01 |\n",
       "| 1:1509414     | [\"AG\",\"A\"]  |                 6.35e+00 |                  3.67e+00 |                1.00e+00 |                2.30e+01 |                 1.80e+01 |\n",
       "| 1:1563691     | [\"T\",\"G\"]   |                 6.84e+00 |                  4.30e+00 |                1.00e+00 |                2.00e+01 |                 1.87e+01 |\n",
       "| 1:1707740     | [\"T\",\"G\"]   |                 8.22e+00 |                  4.39e+00 |                1.00e+00 |                2.60e+01 |                 3.57e+01 |\n",
       "| 1:2044130     | [\"GTT\",\"G\"] |                 6.43e+00 |                  3.60e+00 |                1.00e+00 |                2.30e+01 |                 3.94e+01 |\n",
       "| 1:2169908     | [\"G\",\"T\"]   |                 7.39e+00 |                  4.49e+00 |                1.00e+00 |                2.80e+01 |                 2.21e+01 |\n",
       "| 1:2252970     | [\"C\",\"T\"]   |                 6.79e+00 |                  4.55e+00 |                1.00e+00 |                2.80e+01 |                 2.03e+01 |\n",
       "| 1:2284195     | [\"T\",\"C\"]   |                 7.75e+00 |                  4.19e+00 |                1.00e+00 |                2.20e+01 |                 3.68e+01 |\n",
       "| 1:2686238     | [\"A\",\"T\"]   |                 3.81e+00 |                  2.57e+00 |                1.00e+00 |                1.80e+01 |                 2.07e+01 |\n",
       "| 1:2779043     | [\"T\",\"C\"]   |                 5.35e+00 |                  2.94e+00 |                1.00e+00 |                1.50e+01 |                 2.54e+01 |\n",
       "| 1:2944527     | [\"G\",\"A\"]   |                 7.82e+00 |                  4.76e+00 |                1.00e+00 |                3.10e+01 |                 3.69e+01 |\n",
       "| 1:3713237     | [\"T\",\"G\"]   |                 5.40e+00 |                  3.57e+00 |                1.00e+00 |                2.30e+01 |                 2.09e+01 |\n",
       "| 1:3761547     | [\"C\",\"A\"]   |                 6.80e+00 |                  3.78e+00 |                1.00e+00 |                2.40e+01 |                 2.80e+01 |\n",
       "| 1:3803755     | [\"T\",\"C\"]   |                 7.30e+00 |                  3.64e+00 |                1.00e+00 |                2.20e+01 |                 3.67e+01 |\n",
       "| 1:4121584     | [\"A\",\"G\"]   |                 7.14e+00 |                  4.57e+00 |                1.00e+00 |                3.00e+01 |                 3.55e+01 |\n",
       "| 1:4170048     | [\"C\",\"T\"]   |                 6.86e+00 |                  4.18e+00 |                1.00e+00 |                3.00e+01 |                 3.35e+01 |\n",
       "| 1:4180842     | [\"C\",\"T\"]   |                 6.71e+00 |                  3.96e+00 |                1.00e+00 |                2.60e+01 |                 3.37e+01 |\n",
       "| 1:6053630     | [\"T\",\"G\"]   |                 6.22e+00 |                  4.01e+00 |                1.00e+00 |                3.10e+01 |                 3.30e+01 |\n",
       "| 1:6279383     | [\"G\",\"C\"]   |                 6.92e+00 |                  3.97e+00 |                1.00e+00 |                2.60e+01 |                 2.14e+01 |\n",
       "| 1:7437415     | [\"G\",\"T\"]   |                 7.09e+00 |                  3.95e+00 |                1.00e+00 |                3.00e+01 |                 2.11e+01 |\n",
       "| 1:7569602     | [\"C\",\"T\"]   |                 7.44e+00 |                  4.46e+00 |                1.00e+00 |                3.30e+01 |                 4.15e+01 |\n",
       "| 1:7575666     | [\"T\",\"C\"]   |                 6.53e+00 |                  3.77e+00 |                1.00e+00 |                2.40e+01 |                 2.73e+01 |\n",
       "+---------------+-------------+--------------------------+---------------------------+-------------------------+-------------------------+--------------------------+\n",
       "\n",
       "+---------------------------+-------------------------+-------------------------+---------------+---------------------+---------------+-----------------------------+\n",
       "| variant_qc.gq_stats.stdev | variant_qc.gq_stats.min | variant_qc.gq_stats.max | variant_qc.AC | variant_qc.AF       | variant_qc.AN | variant_qc.homozygote_count |\n",
       "+---------------------------+-------------------------+-------------------------+---------------+---------------------+---------------+-----------------------------+\n",
       "|                   float64 |                 float64 |                 float64 | array<int32>  | array<float64>      |         int32 | array<int32>                |\n",
       "+---------------------------+-------------------------+-------------------------+---------------+---------------------+---------------+-----------------------------+\n",
       "|                  2.34e+01 |                3.00e+00 |                9.90e+01 | [556,86]      | [8.66e-01,1.34e-01] |           642 | [250,15]                    |\n",
       "|                  1.22e+01 |                3.00e+00 |                6.80e+01 | [623,5]       | [9.92e-01,7.96e-03] |           628 | [310,1]                     |\n",
       "|                  1.30e+01 |                2.00e+00 |                9.90e+01 | [601,1]       | [9.98e-01,1.66e-03] |           602 | [300,0]                     |\n",
       "|                  1.15e+01 |                0.00e+00 |                8.80e+01 | [627,3]       | [9.95e-01,4.76e-03] |           630 | [312,0]                     |\n",
       "|                  1.31e+01 |                0.00e+00 |                9.90e+01 | [612,10]      | [9.84e-01,1.61e-02] |           622 | [303,2]                     |\n",
       "|                  2.72e+01 |                3.00e+00 |                9.90e+01 | [527,117]     | [8.18e-01,1.82e-01] |           644 | [221,16]                    |\n",
       "|                  3.11e+01 |                0.00e+00 |                9.90e+01 | [533,111]     | [8.28e-01,1.72e-01] |           644 | [211,0]                     |\n",
       "|                  1.36e+01 |                3.00e+00 |                8.40e+01 | [626,2]       | [9.97e-01,3.18e-03] |           628 | [312,0]                     |\n",
       "|                  1.47e+01 |                2.00e+00 |                9.90e+01 | [618,2]       | [9.97e-01,3.23e-03] |           620 | [308,0]                     |\n",
       "|                  2.93e+01 |                0.00e+00 |                9.90e+01 | [441,195]     | [6.93e-01,3.07e-01] |           636 | [160,37]                    |\n",
       "|                  1.44e+01 |                1.00e+00 |                9.90e+01 | [634,4]       | [9.94e-01,6.27e-03] |           638 | [316,1]                     |\n",
       "|                  2.31e+01 |                0.00e+00 |                9.90e+01 | [177,451]     | [2.82e-01,7.18e-01] |           628 | [38,175]                    |\n",
       "|                  3.03e+01 |                2.00e+00 |                9.90e+01 | [500,136]     | [7.86e-01,2.14e-01] |           636 | [196,14]                    |\n",
       "|                  1.57e+01 |                0.00e+00 |                9.90e+01 | [603,43]      | [9.33e-01,6.66e-02] |           646 | [281,1]                     |\n",
       "|                  1.68e+01 |                3.00e+00 |                9.90e+01 | [638,6]       | [9.91e-01,9.32e-03] |           644 | [316,0]                     |\n",
       "|                  2.79e+01 |                0.00e+00 |                9.90e+01 | [206,440]     | [3.19e-01,6.81e-01] |           646 | [47,164]                    |\n",
       "|                  2.85e+01 |                3.00e+00 |                9.90e+01 | [437,203]     | [6.83e-01,3.17e-01] |           640 | [173,56]                    |\n",
       "|                  2.83e+01 |                0.00e+00 |                9.90e+01 | [470,170]     | [7.34e-01,2.66e-01] |           640 | [181,31]                    |\n",
       "|                  2.94e+01 |                0.00e+00 |                9.90e+01 | [467,175]     | [7.27e-01,2.73e-01] |           642 | [179,33]                    |\n",
       "|                  2.93e+01 |                0.00e+00 |                9.90e+01 | [367,259]     | [5.86e-01,4.14e-01] |           626 | [126,72]                    |\n",
       "|                  1.27e+01 |                2.00e+00 |                9.90e+01 | [641,3]       | [9.95e-01,4.66e-03] |           644 | [319,0]                     |\n",
       "|                  1.18e+01 |                3.00e+00 |                9.00e+01 | [634,0]       | [1.00e+00,0.00e+00] |           634 | [317,0]                     |\n",
       "|                  3.21e+01 |                3.00e+00 |                9.90e+01 | [299,343]     | [4.66e-01,5.34e-01] |           642 | [76,98]                     |\n",
       "|                  2.39e+01 |                2.00e+00 |                9.90e+01 | [531,109]     | [8.30e-01,1.70e-01] |           640 | [233,22]                    |\n",
       "+---------------------------+-------------------------+-------------------------+---------------+---------------------+---------------+-----------------------------+\n",
       "\n",
       "+----------------------+---------------------+-------------------------+-----------------------+------------------+----------------------+-------------------------+\n",
       "| variant_qc.call_rate | variant_qc.n_called | variant_qc.n_not_called | variant_qc.n_filtered | variant_qc.n_het | variant_qc.n_non_ref | variant_qc.het_freq_hwe |\n",
       "+----------------------+---------------------+-------------------------+-----------------------+------------------+----------------------+-------------------------+\n",
       "|              float64 |               int64 |                   int64 |                 int64 |            int64 |                int64 |                 float64 |\n",
       "+----------------------+---------------------+-------------------------+-----------------------+------------------+----------------------+-------------------------+\n",
       "|             9.94e-01 |                 321 |                       2 |                     0 |               56 |                   71 |                2.32e-01 |\n",
       "|             9.72e-01 |                 314 |                       9 |                     0 |                3 |                    4 |                1.58e-02 |\n",
       "|             9.32e-01 |                 301 |                      22 |                     0 |                1 |                    1 |                3.32e-03 |\n",
       "|             9.75e-01 |                 315 |                       8 |                     0 |                3 |                    3 |                9.49e-03 |\n",
       "|             9.63e-01 |                 311 |                      12 |                     0 |                6 |                    8 |                3.17e-02 |\n",
       "|             9.97e-01 |                 322 |                       1 |                     0 |               85 |                  101 |                2.98e-01 |\n",
       "|             9.97e-01 |                 322 |                       1 |                     0 |              111 |                  111 |                2.86e-01 |\n",
       "|             9.72e-01 |                 314 |                       9 |                     0 |                2 |                    2 |                6.36e-03 |\n",
       "|             9.60e-01 |                 310 |                      13 |                     0 |                2 |                    2 |                6.44e-03 |\n",
       "|             9.85e-01 |                 318 |                       5 |                     0 |              121 |                  158 |                4.26e-01 |\n",
       "|             9.88e-01 |                 319 |                       4 |                     0 |                2 |                    3 |                1.25e-02 |\n",
       "|             9.72e-01 |                 314 |                       9 |                     0 |              101 |                  276 |                4.05e-01 |\n",
       "|             9.85e-01 |                 318 |                       5 |                     0 |              108 |                  122 |                3.37e-01 |\n",
       "|             1.00e+00 |                 323 |                       0 |                     0 |               41 |                   42 |                1.24e-01 |\n",
       "|             9.97e-01 |                 322 |                       1 |                     0 |                6 |                    6 |                1.85e-02 |\n",
       "|             1.00e+00 |                 323 |                       0 |                     0 |              112 |                  276 |                4.35e-01 |\n",
       "|             9.91e-01 |                 320 |                       3 |                     0 |               91 |                  147 |                4.34e-01 |\n",
       "|             9.91e-01 |                 320 |                       3 |                     0 |              108 |                  139 |                3.91e-01 |\n",
       "|             9.94e-01 |                 321 |                       2 |                     0 |              109 |                  142 |                3.97e-01 |\n",
       "|             9.69e-01 |                 313 |                      10 |                     0 |              115 |                  187 |                4.86e-01 |\n",
       "|             9.97e-01 |                 322 |                       1 |                     0 |                3 |                    3 |                9.29e-03 |\n",
       "|             9.81e-01 |                 317 |                       6 |                     0 |                0 |                    0 |                0.00e+00 |\n",
       "|             9.94e-01 |                 321 |                       2 |                     0 |              147 |                  245 |                4.98e-01 |\n",
       "|             9.91e-01 |                 320 |                       3 |                     0 |               65 |                   87 |                2.83e-01 |\n",
       "+----------------------+---------------------+-------------------------+-----------------------+------------------+----------------------+-------------------------+\n",
       "\n",
       "+------------------------+\n",
       "| variant_qc.p_value_hwe |\n",
       "+------------------------+\n",
       "|                float64 |\n",
       "+------------------------+\n",
       "|               3.99e-05 |\n",
       "|               7.97e-03 |\n",
       "|               5.00e-01 |\n",
       "|               5.02e-01 |\n",
       "|               8.13e-04 |\n",
       "|               4.85e-02 |\n",
       "|               1.19e-05 |\n",
       "|               5.01e-01 |\n",
       "|               5.01e-01 |\n",
       "|               5.61e-02 |\n",
       "|               4.71e-03 |\n",
       "|               3.43e-04 |\n",
       "|               9.34e-01 |\n",
       "|               8.20e-01 |\n",
       "|               5.12e-01 |\n",
       "|               2.53e-04 |\n",
       "|               9.73e-10 |\n",
       "|               1.80e-02 |\n",
       "|               9.15e-03 |\n",
       "|               2.00e-05 |\n",
       "|               5.02e-01 |\n",
       "|               5.00e-01 |\n",
       "|               1.62e-01 |\n",
       "|               2.14e-06 |\n",
       "+------------------------+\n",
       "showing top 24 rows"
      ]
     },
     "metadata": {},
     "output_type": "display_data"
    }
   ],
   "source": [
    "mt.variant_qc.show()"
   ]
  },
  {
   "cell_type": "markdown",
   "metadata": {},
   "source": [
    "Metrics like `call_rate` are important for QC. Let's plot the cumulative density function of call rate per variant:"
   ]
  },
  {
   "cell_type": "code",
   "execution_count": 36,
   "metadata": {
    "scrolled": true
   },
   "outputs": [
    {
     "name": "stderr",
     "output_type": "stream",
     "text": [
      "BokehUserWarning: ColumnDataSource's columns must be of the same length. Current lengths: ('left', 36), ('right', 36), ('top', 39)\n",
      "BokehUserWarning: ColumnDataSource's columns must be of the same length. Current lengths: ('bottom', 39), ('left', 36), ('right', 36), ('top', 39)\n",
      "BokehUserWarning: ColumnDataSource's columns must be of the same length. Current lengths: ('x', 38), ('y', 41)\n"
     ]
    },
    {
     "data": {
      "text/html": [
       "\n",
       "\n",
       "\n",
       "\n",
       "\n",
       "\n",
       "  <div class=\"bk-root\" id=\"84a630f4-fe52-4720-8c0c-39f824eaa6a2\" data-root-id=\"1099\"></div>\n"
      ]
     },
     "metadata": {},
     "output_type": "display_data"
    },
    {
     "data": {
      "application/javascript": [
       "(function(root) {\n",
       "  function embed_document(root) {\n",
       "    \n",
       "  var docs_json = {\"04d88270-06a7-441e-aa4a-11b6bab7e5b6\":{\"roots\":{\"references\":[{\"attributes\":{\"background_fill_color\":{\"value\":\"#EEEEEE\"},\"below\":[{\"id\":\"1109\",\"type\":\"LinearAxis\"}],\"center\":[{\"id\":\"1113\",\"type\":\"Grid\"},{\"id\":\"1118\",\"type\":\"Grid\"}],\"left\":[{\"id\":\"1114\",\"type\":\"LinearAxis\"}],\"plot_height\":400,\"renderers\":[{\"id\":\"1133\",\"type\":\"GlyphRenderer\"},{\"id\":\"1138\",\"type\":\"GlyphRenderer\"}],\"title\":null,\"toolbar\":{\"id\":\"1123\",\"type\":\"Toolbar\"},\"x_range\":{\"id\":\"1101\",\"type\":\"DataRange1d\"},\"x_scale\":{\"id\":\"1105\",\"type\":\"LinearScale\"},\"y_range\":{\"id\":\"1103\",\"type\":\"DataRange1d\"},\"y_scale\":{\"id\":\"1107\",\"type\":\"LinearScale\"}},\"id\":\"1099\",\"subtype\":\"Figure\",\"type\":\"Plot\"},{\"attributes\":{\"callback\":null,\"data\":{\"bottom\":{\"__ndarray__\":\"MXdsPiYdFD8xd2w+Jh0kPzF3bD4mHTQ/MXdsPiYdRD/JsqJduSteP/2UB85vJGk/S+iedoGZcT8XBjoGy6B2P+Mj1ZUUqHs/2CC4Eq9XgD++r4XaU9uCP6Q+U6L4XoU/is0gap3ihz9wXO4xQmaKP1bru/nm6Yw/PHqJwYttjz+RhKtEmPiQPwRMkqhqOpI/dxN5DD18kz/q2l9wD76UP0MxFJyGg5g/tvj6/1jFmT8pwOFjKwebP4MWlo+izJ4/tNKxqyOooD+aYX9zyCujP4HwTDttr6U/2kYBZ+R0qT8znbWSWzqtP8b5NF/pf7A/Zuz1WHeksz8F37ZSBcm2P9H8UeJO0Ls/03tgUGSFwT+Ocngs6LTGP0Af4YPWP84/M5Oq9JjN1T9+Twk2mUjgP9J3TJPtGeg/\",\"dtype\":\"float64\",\"shape\":[39]},\"left\":{\"__ndarray__\":\"SiFy0BONyj8/kO4xq7jNP7gIZ6ojMdY/rnfjC7tc2T8ZCybwW4TjP+AinKmOxOg/WlpaWlpa6j/SPWYVt3PqP6CSrXfjC+s/LANUsvVu7D8bymsor6HsP4J0j1nF7ew/+lebFCIH7T9Qyda78YXtPz+Q7jGruO0/t3P67AfS7T+mOhJjwQTuPx4eHh4eHu4/lgEq2Xo37j8N5TWU11DuP4XIQU80au4//atNCpGD7j91j1nF7ZzuP+xyZYBKtu4/ZFZxO6fP7j/cOX32A+nuP1MdibFgAu8/ywCVbL0b7z9D5KAnGjXvP7rHrOJ2Tu8/Mqu4ndNn7z+qjsRYMIHvPyFy0BONmu8/mVXczumz7z8ROeiJRs3vP4gc9ESj5u8/\",\"dtype\":\"float64\",\"shape\":[36]},\"right\":{\"__ndarray__\":\"P5DuMau4zT+4CGeqIzHWP6534wu7XNk/GQsm8FuE4z/gIpypjsToP1paWlpaWuo/0j1mFbdz6j+gkq134wvrPywDVLL1buw/G8prKK+h7D+CdI9Zxe3sP/pXmxQiB+0/UMnWu/GF7T8/kO4xq7jtP7dz+uwH0u0/pjoSY8EE7j8eHh4eHh7uP5YBKtl6N+4/DeU1lNdQ7j+FyEFPNGruP/2rTQqRg+4/dY9Zxe2c7j/scmWASrbuP2RWcTunz+4/3Dl99gPp7j9THYmxYALvP8sAlWy9G+8/Q+SgJxo17z+6x6zidk7vPzKruJ3TZ+8/qo7EWDCB7z8hctATjZrvP5lV3M7ps+8/ETnoiUbN7z+IHPREo+bvPwAAAAAAAPA/\",\"dtype\":\"float64\",\"shape\":[36]},\"top\":{\"__ndarray__\":\"MXdsPiYdFD8xd2w+Jh0kPzF3bD4mHTQ/MXdsPiYdRD/JsqJduSteP/2UB85vJGk/S+iedoGZcT8XBjoGy6B2P+Mj1ZUUqHs/2CC4Eq9XgD++r4XaU9uCP6Q+U6L4XoU/is0gap3ihz9wXO4xQmaKP1bru/nm6Yw/PHqJwYttjz+RhKtEmPiQPwRMkqhqOpI/dxN5DD18kz/q2l9wD76UP0MxFJyGg5g/tvj6/1jFmT8pwOFjKwebP4MWlo+izJ4/tNKxqyOooD+aYX9zyCujP4HwTDttr6U/2kYBZ+R0qT8znbWSWzqtP8b5NF/pf7A/Zuz1WHeksz8F37ZSBcm2P9H8UeJO0Ls/03tgUGSFwT+Ocngs6LTGP0Af4YPWP84/M5Oq9JjN1T9+Twk2mUjgP9J3TJPtGeg/\",\"dtype\":\"float64\",\"shape\":[39]}},\"selected\":{\"id\":\"1153\",\"type\":\"Selection\"},\"selection_policy\":{\"id\":\"1154\",\"type\":\"UnionRenderers\"}},\"id\":\"1130\",\"type\":\"ColumnDataSource\"},{\"attributes\":{\"callback\":null},\"id\":\"1103\",\"type\":\"DataRange1d\"},{\"attributes\":{},\"id\":\"1122\",\"type\":\"SaveTool\"},{\"attributes\":{\"callback\":null},\"id\":\"1101\",\"type\":\"DataRange1d\"},{\"attributes\":{\"ticker\":{\"id\":\"1110\",\"type\":\"BasicTicker\"}},\"id\":\"1113\",\"type\":\"Grid\"},{\"attributes\":{\"callback\":null,\"mode\":\"vline\",\"tooltips\":[[\"value\",\"$x\"],[\"rank\",\"@top\"]]},\"id\":\"1128\",\"type\":\"HoverTool\"},{\"attributes\":{\"bottom\":{\"field\":\"bottom\"},\"fill_alpha\":{\"value\":0},\"fill_color\":{\"value\":\"#1f77b4\"},\"left\":{\"field\":\"left\"},\"line_alpha\":{\"value\":0},\"line_color\":{\"value\":\"#1f77b4\"},\"right\":{\"field\":\"right\"},\"top\":{\"field\":\"top\"}},\"id\":\"1131\",\"type\":\"Quad\"},{\"attributes\":{\"dimension\":1,\"ticker\":{\"id\":\"1115\",\"type\":\"BasicTicker\"}},\"id\":\"1118\",\"type\":\"Grid\"},{\"attributes\":{\"bottom\":{\"field\":\"bottom\"},\"fill_alpha\":{\"value\":0.1},\"fill_color\":{\"value\":\"#1f77b4\"},\"left\":{\"field\":\"left\"},\"line_alpha\":{\"value\":0.1},\"line_color\":{\"value\":\"#1f77b4\"},\"right\":{\"field\":\"right\"},\"top\":{\"field\":\"top\"}},\"id\":\"1132\",\"type\":\"Quad\"},{\"attributes\":{},\"id\":\"1156\",\"type\":\"UnionRenderers\"},{\"attributes\":{\"callback\":null,\"data\":{\"x\":[0.20743034055727555,0.23219814241486067,0.34674922600619196,0.39628482972136225,0.6099071207430341,0.7739938080495357,0.8235294117647058,0.826625386996904,0.8452012383900929,0.8885448916408669,0.8947368421052632,0.9040247678018576,0.9071207430340558,0.9226006191950464,0.9287925696594427,0.9318885448916409,0.9380804953560371,0.9411764705882353,0.9442724458204335,0.9473684210526315,0.9504643962848297,0.9535603715170279,0.9566563467492261,0.9597523219814241,0.9628482972136223,0.9659442724458205,0.9690402476780186,0.9721362229102167,0.9752321981424149,0.978328173374613,0.9814241486068112,0.9845201238390093,0.9876160990712074,0.9907120743034056,0.9938080495356038,0.9969040247678018,1.0,1.0],\"y\":{\"__ndarray__\":\"AAAAAAAAAAAxd2w+Jh0UPzF3bD4mHSQ/MXdsPiYdND8xd2w+Jh1EP8myol25K14//ZQHzm8kaT9L6J52gZlxPxcGOgbLoHY/4yPVlRSoez/YILgSr1eAP76vhdpT24I/pD5TovhehT+KzSBqneKHP3Bc7jFCZoo/Vuu7+ebpjD88eonBi22PP5GEq0SY+JA/BEySqGo6kj93E3kMPXyTP+raX3APvpQ/QzEUnIaDmD+2+Pr/WMWZPynA4WMrB5s/gxaWj6LMnj+00rGrI6igP5phf3PIK6M/gfBMO22vpT/aRgFn5HSpPzOdtZJbOq0/xvk0X+l/sD9m7PVYd6SzPwXftlIFybY/0fxR4k7Quz/Te2BQZIXBP45yeCzotMY/QB/hg9Y/zj8zk6r0mM3VP35PCTaZSOA/0ndMk+0Z6D8AAAAAAADwPw==\",\"dtype\":\"float64\",\"shape\":[41]}},\"selected\":{\"id\":\"1155\",\"type\":\"Selection\"},\"selection_policy\":{\"id\":\"1156\",\"type\":\"UnionRenderers\"}},\"id\":\"1135\",\"type\":\"ColumnDataSource\"},{\"attributes\":{\"data_source\":{\"id\":\"1130\",\"type\":\"ColumnDataSource\"},\"glyph\":{\"id\":\"1131\",\"type\":\"Quad\"},\"hover_glyph\":null,\"muted_glyph\":null,\"nonselection_glyph\":{\"id\":\"1132\",\"type\":\"Quad\"},\"selection_glyph\":null,\"view\":{\"id\":\"1134\",\"type\":\"CDSView\"}},\"id\":\"1133\",\"type\":\"GlyphRenderer\"},{\"attributes\":{},\"id\":\"1155\",\"type\":\"Selection\"},{\"attributes\":{\"line_width\":{\"value\":2},\"x\":{\"field\":\"x\"},\"y\":{\"field\":\"y\"}},\"id\":\"1136\",\"type\":\"Step\"},{\"attributes\":{\"source\":{\"id\":\"1130\",\"type\":\"ColumnDataSource\"}},\"id\":\"1134\",\"type\":\"CDSView\"},{\"attributes\":{\"dimensions\":\"width\"},\"id\":\"1120\",\"type\":\"WheelZoomTool\"},{\"attributes\":{\"data_source\":{\"id\":\"1135\",\"type\":\"ColumnDataSource\"},\"glyph\":{\"id\":\"1136\",\"type\":\"Step\"},\"hover_glyph\":null,\"muted_glyph\":null,\"nonselection_glyph\":{\"id\":\"1137\",\"type\":\"Step\"},\"selection_glyph\":null,\"view\":{\"id\":\"1139\",\"type\":\"CDSView\"}},\"id\":\"1138\",\"type\":\"GlyphRenderer\"},{\"attributes\":{\"line_alpha\":{\"value\":0.1},\"line_color\":{\"value\":\"#1f77b4\"},\"line_width\":{\"value\":2},\"x\":{\"field\":\"x\"},\"y\":{\"field\":\"y\"}},\"id\":\"1137\",\"type\":\"Step\"},{\"attributes\":{},\"id\":\"1110\",\"type\":\"BasicTicker\"},{\"attributes\":{},\"id\":\"1121\",\"type\":\"ResetTool\"},{\"attributes\":{\"source\":{\"id\":\"1135\",\"type\":\"ColumnDataSource\"}},\"id\":\"1139\",\"type\":\"CDSView\"},{\"attributes\":{},\"id\":\"1151\",\"type\":\"BasicTickFormatter\"},{\"attributes\":{\"formatter\":{\"id\":\"1149\",\"type\":\"BasicTickFormatter\"},\"ticker\":{\"id\":\"1110\",\"type\":\"BasicTicker\"}},\"id\":\"1109\",\"type\":\"LinearAxis\"},{\"attributes\":{\"axis_label\":\"Quantile\",\"formatter\":{\"id\":\"1151\",\"type\":\"BasicTickFormatter\"},\"ticker\":{\"id\":\"1115\",\"type\":\"BasicTicker\"}},\"id\":\"1114\",\"type\":\"LinearAxis\"},{\"attributes\":{},\"id\":\"1154\",\"type\":\"UnionRenderers\"},{\"attributes\":{\"dimensions\":\"width\"},\"id\":\"1119\",\"type\":\"PanTool\"},{\"attributes\":{},\"id\":\"1107\",\"type\":\"LinearScale\"},{\"attributes\":{},\"id\":\"1105\",\"type\":\"LinearScale\"},{\"attributes\":{},\"id\":\"1153\",\"type\":\"Selection\"},{\"attributes\":{},\"id\":\"1149\",\"type\":\"BasicTickFormatter\"},{\"attributes\":{\"active_drag\":\"auto\",\"active_inspect\":\"auto\",\"active_multi\":null,\"active_scroll\":{\"id\":\"1120\",\"type\":\"WheelZoomTool\"},\"active_tap\":\"auto\",\"tools\":[{\"id\":\"1119\",\"type\":\"PanTool\"},{\"id\":\"1120\",\"type\":\"WheelZoomTool\"},{\"id\":\"1121\",\"type\":\"ResetTool\"},{\"id\":\"1122\",\"type\":\"SaveTool\"},{\"id\":\"1128\",\"type\":\"HoverTool\"}]},\"id\":\"1123\",\"type\":\"Toolbar\"},{\"attributes\":{},\"id\":\"1115\",\"type\":\"BasicTicker\"}],\"root_ids\":[\"1099\"]},\"title\":\"Bokeh Application\",\"version\":\"1.2.0\"}};\n",
       "  var render_items = [{\"docid\":\"04d88270-06a7-441e-aa4a-11b6bab7e5b6\",\"roots\":{\"1099\":\"84a630f4-fe52-4720-8c0c-39f824eaa6a2\"}}];\n",
       "  root.Bokeh.embed.embed_items_notebook(docs_json, render_items);\n",
       "\n",
       "  }\n",
       "  if (root.Bokeh !== undefined) {\n",
       "    embed_document(root);\n",
       "  } else {\n",
       "    var attempts = 0;\n",
       "    var timer = setInterval(function(root) {\n",
       "      if (root.Bokeh !== undefined) {\n",
       "        embed_document(root);\n",
       "        clearInterval(timer);\n",
       "      }\n",
       "      attempts++;\n",
       "      if (attempts > 100) {\n",
       "        console.log(\"Bokeh: ERROR: Unable to run BokehJS code because BokehJS library is missing\");\n",
       "        clearInterval(timer);\n",
       "      }\n",
       "    }, 10, root)\n",
       "  }\n",
       "})(window);"
      ],
      "application/vnd.bokehjs_exec.v0+json": ""
     },
     "metadata": {
      "application/vnd.bokehjs_exec.v0+json": {
       "id": "1099"
      }
     },
     "output_type": "display_data"
    }
   ],
   "source": [
    "show(hl.plot.cdf(mt.variant_qc.call_rate))"
   ]
  },
  {
   "cell_type": "markdown",
   "metadata": {},
   "source": [
    "Before filtering variants, we should compute a raw variant count:"
   ]
  },
  {
   "cell_type": "code",
   "execution_count": 37,
   "metadata": {},
   "outputs": [
    {
     "data": {
      "text/plain": [
       "13033"
      ]
     },
     "execution_count": 37,
     "metadata": {},
     "output_type": "execute_result"
    }
   ],
   "source": [
    "# pre-qc variant count\n",
    "mt.count_rows()"
   ]
  },
  {
   "cell_type": "markdown",
   "metadata": {},
   "source": [
    "`filter_rows` removes entire rows of the matrix table. Here, we keep rows where the `call_rate` is over 95%:"
   ]
  },
  {
   "cell_type": "code",
   "execution_count": 38,
   "metadata": {},
   "outputs": [],
   "source": [
    "mt = mt.filter_rows(mt.variant_qc.call_rate > 0.95)"
   ]
  },
  {
   "cell_type": "markdown",
   "metadata": {},
   "source": [
    "After filtering, we can see more resolution of the top end of the call rate distribution:"
   ]
  },
  {
   "cell_type": "code",
   "execution_count": 39,
   "metadata": {
    "scrolled": true
   },
   "outputs": [
    {
     "data": {
      "text/html": [
       "\n",
       "\n",
       "\n",
       "\n",
       "\n",
       "\n",
       "  <div class=\"bk-root\" id=\"1bd0b74b-f58b-405b-b7b3-916b6f2dd086\" data-root-id=\"1211\"></div>\n"
      ]
     },
     "metadata": {},
     "output_type": "display_data"
    },
    {
     "data": {
      "application/javascript": [
       "(function(root) {\n",
       "  function embed_document(root) {\n",
       "    \n",
       "  var docs_json = {\"e1affeb9-b943-4fd6-ae20-24abb58a2834\":{\"roots\":{\"references\":[{\"attributes\":{\"background_fill_color\":{\"value\":\"#EEEEEE\"},\"below\":[{\"id\":\"1221\",\"type\":\"LinearAxis\"}],\"center\":[{\"id\":\"1225\",\"type\":\"Grid\"},{\"id\":\"1230\",\"type\":\"Grid\"}],\"left\":[{\"id\":\"1226\",\"type\":\"LinearAxis\"}],\"plot_height\":400,\"renderers\":[{\"id\":\"1245\",\"type\":\"GlyphRenderer\"},{\"id\":\"1250\",\"type\":\"GlyphRenderer\"}],\"title\":null,\"toolbar\":{\"id\":\"1235\",\"type\":\"Toolbar\"},\"x_range\":{\"id\":\"1213\",\"type\":\"DataRange1d\"},\"x_scale\":{\"id\":\"1217\",\"type\":\"LinearScale\"},\"y_range\":{\"id\":\"1215\",\"type\":\"DataRange1d\"},\"y_scale\":{\"id\":\"1219\",\"type\":\"LinearScale\"}},\"id\":\"1211\",\"subtype\":\"Figure\",\"type\":\"Plot\"},{\"attributes\":{},\"id\":\"1272\",\"type\":\"BasicTickFormatter\"},{\"attributes\":{},\"id\":\"1222\",\"type\":\"BasicTicker\"},{\"attributes\":{\"formatter\":{\"id\":\"1270\",\"type\":\"BasicTickFormatter\"},\"ticker\":{\"id\":\"1222\",\"type\":\"BasicTicker\"}},\"id\":\"1221\",\"type\":\"LinearAxis\"},{\"attributes\":{},\"id\":\"1233\",\"type\":\"ResetTool\"},{\"attributes\":{\"active_drag\":\"auto\",\"active_inspect\":\"auto\",\"active_multi\":null,\"active_scroll\":{\"id\":\"1232\",\"type\":\"WheelZoomTool\"},\"active_tap\":\"auto\",\"tools\":[{\"id\":\"1231\",\"type\":\"PanTool\"},{\"id\":\"1232\",\"type\":\"WheelZoomTool\"},{\"id\":\"1233\",\"type\":\"ResetTool\"},{\"id\":\"1234\",\"type\":\"SaveTool\"},{\"id\":\"1240\",\"type\":\"HoverTool\"}]},\"id\":\"1235\",\"type\":\"Toolbar\"},{\"attributes\":{\"bottom\":{\"field\":\"bottom\"},\"fill_alpha\":{\"value\":0.1},\"fill_color\":{\"value\":\"#1f77b4\"},\"left\":{\"field\":\"left\"},\"line_alpha\":{\"value\":0.1},\"line_color\":{\"value\":\"#1f77b4\"},\"right\":{\"field\":\"right\"},\"top\":{\"field\":\"top\"}},\"id\":\"1244\",\"type\":\"Quad\"},{\"attributes\":{},\"id\":\"1217\",\"type\":\"LinearScale\"},{\"attributes\":{},\"id\":\"1274\",\"type\":\"Selection\"},{\"attributes\":{},\"id\":\"1276\",\"type\":\"Selection\"},{\"attributes\":{\"callback\":null},\"id\":\"1215\",\"type\":\"DataRange1d\"},{\"attributes\":{\"data_source\":{\"id\":\"1242\",\"type\":\"ColumnDataSource\"},\"glyph\":{\"id\":\"1243\",\"type\":\"Quad\"},\"hover_glyph\":null,\"muted_glyph\":null,\"nonselection_glyph\":{\"id\":\"1244\",\"type\":\"Quad\"},\"selection_glyph\":null,\"view\":{\"id\":\"1246\",\"type\":\"CDSView\"}},\"id\":\"1245\",\"type\":\"GlyphRenderer\"},{\"attributes\":{\"callback\":null,\"data\":{\"x\":[0.9504643962848297,0.9535603715170279,0.9566563467492261,0.9597523219814241,0.9628482972136223,0.9659442724458205,0.9690402476780186,0.9721362229102167,0.9752321981424149,0.978328173374613,0.9814241486068112,0.9845201238390093,0.9876160990712074,0.9907120743034056,0.9938080495356038,0.9969040247678018,1.0,1.0],\"y\":{\"__ndarray__\":\"AAAAAAAAAAApSRilHgJfP9820vuWQXc/0jPxtNX2hT8dRjdeXbeNP2W4Qp/35pc/o8enAb5cnj8D8FccZFmkP7t9TNvJKao/PweRcHiisD9xExWMfc21PzWk6pGk6Lw/rX5Vja/Iwz/4kJs2N4nLP64o2WO+odQ/l8JRPimd3z9ZNCeazOHnPwAAAAAAAPA/\",\"dtype\":\"float64\",\"shape\":[18]}},\"selected\":{\"id\":\"1276\",\"type\":\"Selection\"},\"selection_policy\":{\"id\":\"1277\",\"type\":\"UnionRenderers\"}},\"id\":\"1247\",\"type\":\"ColumnDataSource\"},{\"attributes\":{\"dimension\":1,\"ticker\":{\"id\":\"1227\",\"type\":\"BasicTicker\"}},\"id\":\"1230\",\"type\":\"Grid\"},{\"attributes\":{\"callback\":null},\"id\":\"1213\",\"type\":\"DataRange1d\"},{\"attributes\":{\"line_alpha\":{\"value\":0.1},\"line_color\":{\"value\":\"#1f77b4\"},\"line_width\":{\"value\":2},\"x\":{\"field\":\"x\"},\"y\":{\"field\":\"y\"}},\"id\":\"1249\",\"type\":\"Step\"},{\"attributes\":{\"dimensions\":\"width\"},\"id\":\"1231\",\"type\":\"PanTool\"},{\"attributes\":{\"callback\":null,\"data\":{\"bottom\":{\"__ndarray__\":\"KUkYpR4CXz/fNtL7lkF3P9Iz8bTV9oU/HUY3Xl23jT9luEKf9+aXP6PHpwG+XJ4/A/BXHGRZpD+7fUzbySmqPz8HkXB4orA/cRMVjH3NtT81pOqRpOi8P61+VY2vyMM/+JCbNjeJyz+uKNljvqHUP5fCUT4pnd8/WTQnmszh5z8=\",\"dtype\":\"float64\",\"shape\":[16]},\"left\":{\"__ndarray__\":\"hchBTzRq7j/9q00KkYPuP3WPWcXtnO4/7HJlgEq27j9kVnE7p8/uP9w5ffYD6e4/Ux2JsWAC7z/LAJVsvRvvP0PkoCcaNe8/uses4nZO7z8yq7id02fvP6qOxFgwge8/IXLQE42a7z+ZVdzO6bPvPxE56IlGze8/iBz0RKPm7z8=\",\"dtype\":\"float64\",\"shape\":[16]},\"right\":{\"__ndarray__\":\"/atNCpGD7j91j1nF7ZzuP+xyZYBKtu4/ZFZxO6fP7j/cOX32A+nuP1MdibFgAu8/ywCVbL0b7z9D5KAnGjXvP7rHrOJ2Tu8/Mqu4ndNn7z+qjsRYMIHvPyFy0BONmu8/mVXczumz7z8ROeiJRs3vP4gc9ESj5u8/AAAAAAAA8D8=\",\"dtype\":\"float64\",\"shape\":[16]},\"top\":{\"__ndarray__\":\"KUkYpR4CXz/fNtL7lkF3P9Iz8bTV9oU/HUY3Xl23jT9luEKf9+aXP6PHpwG+XJ4/A/BXHGRZpD+7fUzbySmqPz8HkXB4orA/cRMVjH3NtT81pOqRpOi8P61+VY2vyMM/+JCbNjeJyz+uKNljvqHUP5fCUT4pnd8/WTQnmszh5z8=\",\"dtype\":\"float64\",\"shape\":[16]}},\"selected\":{\"id\":\"1274\",\"type\":\"Selection\"},\"selection_policy\":{\"id\":\"1275\",\"type\":\"UnionRenderers\"}},\"id\":\"1242\",\"type\":\"ColumnDataSource\"},{\"attributes\":{\"line_width\":{\"value\":2},\"x\":{\"field\":\"x\"},\"y\":{\"field\":\"y\"}},\"id\":\"1248\",\"type\":\"Step\"},{\"attributes\":{\"ticker\":{\"id\":\"1222\",\"type\":\"BasicTicker\"}},\"id\":\"1225\",\"type\":\"Grid\"},{\"attributes\":{\"axis_label\":\"Quantile\",\"formatter\":{\"id\":\"1272\",\"type\":\"BasicTickFormatter\"},\"ticker\":{\"id\":\"1227\",\"type\":\"BasicTicker\"}},\"id\":\"1226\",\"type\":\"LinearAxis\"},{\"attributes\":{},\"id\":\"1277\",\"type\":\"UnionRenderers\"},{\"attributes\":{\"data_source\":{\"id\":\"1247\",\"type\":\"ColumnDataSource\"},\"glyph\":{\"id\":\"1248\",\"type\":\"Step\"},\"hover_glyph\":null,\"muted_glyph\":null,\"nonselection_glyph\":{\"id\":\"1249\",\"type\":\"Step\"},\"selection_glyph\":null,\"view\":{\"id\":\"1251\",\"type\":\"CDSView\"}},\"id\":\"1250\",\"type\":\"GlyphRenderer\"},{\"attributes\":{\"source\":{\"id\":\"1247\",\"type\":\"ColumnDataSource\"}},\"id\":\"1251\",\"type\":\"CDSView\"},{\"attributes\":{\"dimensions\":\"width\"},\"id\":\"1232\",\"type\":\"WheelZoomTool\"},{\"attributes\":{},\"id\":\"1275\",\"type\":\"UnionRenderers\"},{\"attributes\":{},\"id\":\"1227\",\"type\":\"BasicTicker\"},{\"attributes\":{},\"id\":\"1219\",\"type\":\"LinearScale\"},{\"attributes\":{\"source\":{\"id\":\"1242\",\"type\":\"ColumnDataSource\"}},\"id\":\"1246\",\"type\":\"CDSView\"},{\"attributes\":{\"callback\":null,\"mode\":\"vline\",\"tooltips\":[[\"value\",\"$x\"],[\"rank\",\"@top\"]]},\"id\":\"1240\",\"type\":\"HoverTool\"},{\"attributes\":{},\"id\":\"1234\",\"type\":\"SaveTool\"},{\"attributes\":{\"bottom\":{\"field\":\"bottom\"},\"fill_alpha\":{\"value\":0},\"fill_color\":{\"value\":\"#1f77b4\"},\"left\":{\"field\":\"left\"},\"line_alpha\":{\"value\":0},\"line_color\":{\"value\":\"#1f77b4\"},\"right\":{\"field\":\"right\"},\"top\":{\"field\":\"top\"}},\"id\":\"1243\",\"type\":\"Quad\"},{\"attributes\":{},\"id\":\"1270\",\"type\":\"BasicTickFormatter\"}],\"root_ids\":[\"1211\"]},\"title\":\"Bokeh Application\",\"version\":\"1.2.0\"}};\n",
       "  var render_items = [{\"docid\":\"e1affeb9-b943-4fd6-ae20-24abb58a2834\",\"roots\":{\"1211\":\"1bd0b74b-f58b-405b-b7b3-916b6f2dd086\"}}];\n",
       "  root.Bokeh.embed.embed_items_notebook(docs_json, render_items);\n",
       "\n",
       "  }\n",
       "  if (root.Bokeh !== undefined) {\n",
       "    embed_document(root);\n",
       "  } else {\n",
       "    var attempts = 0;\n",
       "    var timer = setInterval(function(root) {\n",
       "      if (root.Bokeh !== undefined) {\n",
       "        embed_document(root);\n",
       "        clearInterval(timer);\n",
       "      }\n",
       "      attempts++;\n",
       "      if (attempts > 100) {\n",
       "        console.log(\"Bokeh: ERROR: Unable to run BokehJS code because BokehJS library is missing\");\n",
       "        clearInterval(timer);\n",
       "      }\n",
       "    }, 10, root)\n",
       "  }\n",
       "})(window);"
      ],
      "application/vnd.bokehjs_exec.v0+json": ""
     },
     "metadata": {
      "application/vnd.bokehjs_exec.v0+json": {
       "id": "1211"
      }
     },
     "output_type": "display_data"
    }
   ],
   "source": [
    "show(hl.plot.cdf(mt.variant_qc.call_rate))"
   ]
  },
  {
   "cell_type": "markdown",
   "metadata": {},
   "source": [
    "We can then compute the final sample and variant count:"
   ]
  },
  {
   "cell_type": "code",
   "execution_count": 40,
   "metadata": {},
   "outputs": [
    {
     "data": {
      "text/plain": [
       "(12681, 323)"
      ]
     },
     "execution_count": 40,
     "metadata": {},
     "output_type": "execute_result"
    }
   ],
   "source": [
    "mt.count()"
   ]
  },
  {
   "cell_type": "markdown",
   "metadata": {},
   "source": [
    "# Playing around for the Blog here"
   ]
  },
  {
   "cell_type": "code",
   "execution_count": 41,
   "metadata": {},
   "outputs": [],
   "source": [
    "result_mt = mt.annotate_rows(gt_counter=hl.agg.counter(mt.GT))\n",
    "\n"
   ]
  },
  {
   "cell_type": "code",
   "execution_count": 46,
   "metadata": {},
   "outputs": [
    {
     "ename": "TypeError",
     "evalue": "mean: parameter 'expr': expected expression of type float64, found <ArrayNumericExpression of type array<int32>>",
     "output_type": "error",
     "traceback": [
      "\u001b[0;31m---------------------------------------------------------------------------\u001b[0m",
      "\u001b[0;31mExpressionException\u001b[0m                       Traceback (most recent call last)",
      "\u001b[0;32m~/miniconda3/lib/python3.7/site-packages/hail/expr/expressions/expression_typecheck.py\u001b[0m in \u001b[0;36mcheck\u001b[0;34m(self, x, caller, param)\u001b[0m\n\u001b[1;32m     73\u001b[0m         \u001b[0;32mtry\u001b[0m\u001b[0;34m:\u001b[0m\u001b[0;34m\u001b[0m\u001b[0;34m\u001b[0m\u001b[0m\n\u001b[0;32m---> 74\u001b[0;31m             \u001b[0;32mreturn\u001b[0m \u001b[0mself\u001b[0m\u001b[0;34m.\u001b[0m\u001b[0mcoerce\u001b[0m\u001b[0;34m(\u001b[0m\u001b[0mto_expr\u001b[0m\u001b[0;34m(\u001b[0m\u001b[0mx\u001b[0m\u001b[0;34m)\u001b[0m\u001b[0;34m)\u001b[0m\u001b[0;34m\u001b[0m\u001b[0;34m\u001b[0m\u001b[0m\n\u001b[0m\u001b[1;32m     75\u001b[0m         \u001b[0;32mexcept\u001b[0m \u001b[0mExpressionException\u001b[0m \u001b[0;32mas\u001b[0m \u001b[0me\u001b[0m\u001b[0;34m:\u001b[0m\u001b[0;34m\u001b[0m\u001b[0;34m\u001b[0m\u001b[0m\n",
      "\u001b[0;32m~/miniconda3/lib/python3.7/site-packages/hail/expr/expressions/expression_typecheck.py\u001b[0m in \u001b[0;36mcoerce\u001b[0;34m(self, x)\u001b[0m\n\u001b[1;32m     58\u001b[0m         \u001b[0;32mif\u001b[0m \u001b[0;32mnot\u001b[0m \u001b[0mself\u001b[0m\u001b[0;34m.\u001b[0m\u001b[0mcan_coerce\u001b[0m\u001b[0;34m(\u001b[0m\u001b[0mx\u001b[0m\u001b[0;34m.\u001b[0m\u001b[0mdtype\u001b[0m\u001b[0;34m)\u001b[0m\u001b[0;34m:\u001b[0m\u001b[0;34m\u001b[0m\u001b[0;34m\u001b[0m\u001b[0m\n\u001b[0;32m---> 59\u001b[0;31m             \u001b[0;32mraise\u001b[0m \u001b[0mExpressionException\u001b[0m\u001b[0;34m(\u001b[0m\u001b[0;34mf\"cannot coerce type '{x.dtype}' to type '{self.str_t}'\"\u001b[0m\u001b[0;34m)\u001b[0m\u001b[0;34m\u001b[0m\u001b[0;34m\u001b[0m\u001b[0m\n\u001b[0m\u001b[1;32m     60\u001b[0m         \u001b[0;32mif\u001b[0m \u001b[0mself\u001b[0m\u001b[0;34m.\u001b[0m\u001b[0m_requires_conversion\u001b[0m\u001b[0;34m(\u001b[0m\u001b[0mx\u001b[0m\u001b[0;34m.\u001b[0m\u001b[0mdtype\u001b[0m\u001b[0;34m)\u001b[0m\u001b[0;34m:\u001b[0m\u001b[0;34m\u001b[0m\u001b[0;34m\u001b[0m\u001b[0m\n",
      "\u001b[0;31mExpressionException\u001b[0m: cannot coerce type 'array<int32>' to type 'float64'",
      "\nThe above exception was the direct cause of the following exception:\n",
      "\u001b[0;31mTypecheckFailure\u001b[0m                          Traceback (most recent call last)",
      "\u001b[0;32m~/miniconda3/lib/python3.7/site-packages/hail/typecheck/check.py\u001b[0m in \u001b[0;36mcheck_all\u001b[0;34m(f, args, kwargs, checks, is_method)\u001b[0m\n\u001b[1;32m    511\u001b[0m                         \u001b[0marg\u001b[0m \u001b[0;34m=\u001b[0m \u001b[0margs\u001b[0m\u001b[0;34m[\u001b[0m\u001b[0mi\u001b[0m\u001b[0;34m]\u001b[0m\u001b[0;34m\u001b[0m\u001b[0;34m\u001b[0m\u001b[0m\n\u001b[0;32m--> 512\u001b[0;31m                         \u001b[0margs_\u001b[0m\u001b[0;34m.\u001b[0m\u001b[0mappend\u001b[0m\u001b[0;34m(\u001b[0m\u001b[0mchecker\u001b[0m\u001b[0;34m.\u001b[0m\u001b[0mcheck\u001b[0m\u001b[0;34m(\u001b[0m\u001b[0marg\u001b[0m\u001b[0;34m,\u001b[0m \u001b[0mname\u001b[0m\u001b[0;34m,\u001b[0m \u001b[0marg_name\u001b[0m\u001b[0;34m)\u001b[0m\u001b[0;34m)\u001b[0m\u001b[0;34m\u001b[0m\u001b[0;34m\u001b[0m\u001b[0m\n\u001b[0m\u001b[1;32m    513\u001b[0m                     \u001b[0;31m# passed as keyword\u001b[0m\u001b[0;34m\u001b[0m\u001b[0;34m\u001b[0m\u001b[0;34m\u001b[0m\u001b[0m\n",
      "\u001b[0;32m~/miniconda3/lib/python3.7/site-packages/hail/expr/expressions/expression_typecheck.py\u001b[0m in \u001b[0;36mcheck\u001b[0;34m(self, x, caller, param)\u001b[0m\n\u001b[1;32m     75\u001b[0m         \u001b[0;32mexcept\u001b[0m \u001b[0mExpressionException\u001b[0m \u001b[0;32mas\u001b[0m \u001b[0me\u001b[0m\u001b[0;34m:\u001b[0m\u001b[0;34m\u001b[0m\u001b[0;34m\u001b[0m\u001b[0m\n\u001b[0;32m---> 76\u001b[0;31m             \u001b[0;32mraise\u001b[0m \u001b[0mTypecheckFailure\u001b[0m \u001b[0;32mfrom\u001b[0m \u001b[0me\u001b[0m\u001b[0;34m\u001b[0m\u001b[0;34m\u001b[0m\u001b[0m\n\u001b[0m\u001b[1;32m     77\u001b[0m \u001b[0;34m\u001b[0m\u001b[0m\n",
      "\u001b[0;31mTypecheckFailure\u001b[0m: ",
      "\nThe above exception was the direct cause of the following exception:\n",
      "\u001b[0;31mTypeError\u001b[0m                                 Traceback (most recent call last)",
      "\u001b[0;32m<ipython-input-46-3376ab8dbe2d>\u001b[0m in \u001b[0;36m<module>\u001b[0;34m\u001b[0m\n\u001b[0;32m----> 1\u001b[0;31m \u001b[0mresult_mt\u001b[0m \u001b[0;34m=\u001b[0m \u001b[0mmt\u001b[0m\u001b[0;34m.\u001b[0m\u001b[0mannotate_rows\u001b[0m\u001b[0;34m(\u001b[0m\u001b[0mmean_allele_depth\u001b[0m\u001b[0;34m=\u001b[0m\u001b[0mhl\u001b[0m\u001b[0;34m.\u001b[0m\u001b[0magg\u001b[0m\u001b[0;34m.\u001b[0m\u001b[0mmean\u001b[0m\u001b[0;34m(\u001b[0m\u001b[0mmt\u001b[0m\u001b[0;34m.\u001b[0m\u001b[0mAD\u001b[0m\u001b[0;34m)\u001b[0m\u001b[0;34m)\u001b[0m\u001b[0;34m\u001b[0m\u001b[0;34m\u001b[0m\u001b[0m\n\u001b[0m",
      "\u001b[0;32m<decorator-gen-1329>\u001b[0m in \u001b[0;36mmean\u001b[0;34m(expr)\u001b[0m\n",
      "\u001b[0;32m~/miniconda3/lib/python3.7/site-packages/hail/typecheck/check.py\u001b[0m in \u001b[0;36mwrapper\u001b[0;34m(__original_func, *args, **kwargs)\u001b[0m\n\u001b[1;32m    582\u001b[0m     \u001b[0;34m@\u001b[0m\u001b[0mdecorator\u001b[0m\u001b[0;34m\u001b[0m\u001b[0;34m\u001b[0m\u001b[0m\n\u001b[1;32m    583\u001b[0m     \u001b[0;32mdef\u001b[0m \u001b[0mwrapper\u001b[0m\u001b[0;34m(\u001b[0m\u001b[0m__original_func\u001b[0m\u001b[0;34m,\u001b[0m \u001b[0;34m*\u001b[0m\u001b[0margs\u001b[0m\u001b[0;34m,\u001b[0m \u001b[0;34m**\u001b[0m\u001b[0mkwargs\u001b[0m\u001b[0;34m)\u001b[0m\u001b[0;34m:\u001b[0m\u001b[0;34m\u001b[0m\u001b[0;34m\u001b[0m\u001b[0m\n\u001b[0;32m--> 584\u001b[0;31m         \u001b[0margs_\u001b[0m\u001b[0;34m,\u001b[0m \u001b[0mkwargs_\u001b[0m \u001b[0;34m=\u001b[0m \u001b[0mcheck_all\u001b[0m\u001b[0;34m(\u001b[0m\u001b[0m__original_func\u001b[0m\u001b[0;34m,\u001b[0m \u001b[0margs\u001b[0m\u001b[0;34m,\u001b[0m \u001b[0mkwargs\u001b[0m\u001b[0;34m,\u001b[0m \u001b[0mcheckers\u001b[0m\u001b[0;34m,\u001b[0m \u001b[0mis_method\u001b[0m\u001b[0;34m=\u001b[0m\u001b[0mis_method\u001b[0m\u001b[0;34m)\u001b[0m\u001b[0;34m\u001b[0m\u001b[0;34m\u001b[0m\u001b[0m\n\u001b[0m\u001b[1;32m    585\u001b[0m         \u001b[0;32mreturn\u001b[0m \u001b[0m__original_func\u001b[0m\u001b[0;34m(\u001b[0m\u001b[0;34m*\u001b[0m\u001b[0margs_\u001b[0m\u001b[0;34m,\u001b[0m \u001b[0;34m**\u001b[0m\u001b[0mkwargs_\u001b[0m\u001b[0;34m)\u001b[0m\u001b[0;34m\u001b[0m\u001b[0;34m\u001b[0m\u001b[0m\n\u001b[1;32m    586\u001b[0m \u001b[0;34m\u001b[0m\u001b[0m\n",
      "\u001b[0;32m~/miniconda3/lib/python3.7/site-packages/hail/typecheck/check.py\u001b[0m in \u001b[0;36mcheck_all\u001b[0;34m(f, args, kwargs, checks, is_method)\u001b[0m\n\u001b[1;32m    536\u001b[0m                     \u001b[0mexpected\u001b[0m\u001b[0;34m=\u001b[0m\u001b[0mchecker\u001b[0m\u001b[0;34m.\u001b[0m\u001b[0mexpects\u001b[0m\u001b[0;34m(\u001b[0m\u001b[0;34m)\u001b[0m\u001b[0;34m,\u001b[0m\u001b[0;34m\u001b[0m\u001b[0;34m\u001b[0m\u001b[0m\n\u001b[1;32m    537\u001b[0m                     \u001b[0mfound\u001b[0m\u001b[0;34m=\u001b[0m\u001b[0mchecker\u001b[0m\u001b[0;34m.\u001b[0m\u001b[0mformat\u001b[0m\u001b[0;34m(\u001b[0m\u001b[0marg\u001b[0m\u001b[0;34m)\u001b[0m\u001b[0;34m\u001b[0m\u001b[0;34m\u001b[0m\u001b[0m\n\u001b[0;32m--> 538\u001b[0;31m                 )) from e\n\u001b[0m\u001b[1;32m    539\u001b[0m         \u001b[0;32melif\u001b[0m \u001b[0mparam\u001b[0m\u001b[0;34m.\u001b[0m\u001b[0mkind\u001b[0m \u001b[0;34m==\u001b[0m \u001b[0mparam\u001b[0m\u001b[0;34m.\u001b[0m\u001b[0mVAR_POSITIONAL\u001b[0m\u001b[0;34m:\u001b[0m\u001b[0;34m\u001b[0m\u001b[0;34m\u001b[0m\u001b[0m\n\u001b[1;32m    540\u001b[0m             \u001b[0;31m# consume the rest of the positional arguments\u001b[0m\u001b[0;34m\u001b[0m\u001b[0;34m\u001b[0m\u001b[0;34m\u001b[0m\u001b[0m\n",
      "\u001b[0;31mTypeError\u001b[0m: mean: parameter 'expr': expected expression of type float64, found <ArrayNumericExpression of type array<int32>>"
     ]
    }
   ],
   "source": [
    "result_mt = mt.annotate_rows(mean_allele_depth=hl.agg.mean(mt.AD)) "
   ]
  },
  {
   "cell_type": "code",
   "execution_count": 45,
   "metadata": {},
   "outputs": [
    {
     "data": {
      "text/html": [
       "<table><thead style=\"font-weight: bold;\"><tr><td>locus</td><td>alleles</td><td>rsid</td><td>qual</td><td>filters</td><td>info.AC</td><td>info.AF</td><td>info.AN</td><td>info.BaseQRankSum</td><td>info.ClippingRankSum</td><td>info.DP</td><td>info.DS</td><td>info.FS</td><td>info.HaplotypeScore</td><td>info.InbreedingCoeff</td><td>info.MLEAC</td><td>info.MLEAF</td><td>info.MQ</td><td>info.MQ0</td><td>info.MQRankSum</td><td>info.QD</td><td>info.ReadPosRankSum</td><td>variant_qc.dp_stats.mean</td><td>variant_qc.dp_stats.stdev</td><td>variant_qc.dp_stats.min</td><td>variant_qc.dp_stats.max</td><td>variant_qc.gq_stats.mean</td><td>variant_qc.gq_stats.stdev</td><td>variant_qc.gq_stats.min</td><td>variant_qc.gq_stats.max</td><td>variant_qc.AC</td><td>variant_qc.AF</td><td>variant_qc.AN</td><td>variant_qc.homozygote_count</td><td>variant_qc.call_rate</td><td>variant_qc.n_called</td><td>variant_qc.n_not_called</td><td>variant_qc.n_filtered</td><td>variant_qc.n_het</td><td>variant_qc.n_non_ref</td><td>variant_qc.het_freq_hwe</td><td>variant_qc.p_value_hwe</td></tr>\n",
       "<tr><td>locus&lt;GRCh37&gt;</td><td>array&lt;str&gt;</td><td>str</td><td>float64</td><td>set&lt;str&gt;</td><td>array&lt;int32&gt;</td><td>array&lt;float64&gt;</td><td>int32</td><td>float64</td><td>float64</td><td>int32</td><td>bool</td><td>float64</td><td>float64</td><td>float64</td><td>array&lt;int32&gt;</td><td>array&lt;float64&gt;</td><td>float64</td><td>int32</td><td>float64</td><td>float64</td><td>float64</td><td>float64</td><td>float64</td><td>float64</td><td>float64</td><td>float64</td><td>float64</td><td>float64</td><td>float64</td><td>array&lt;int32&gt;</td><td>array&lt;float64&gt;</td><td>int32</td><td>array&lt;int32&gt;</td><td>float64</td><td>int64</td><td>int64</td><td>int64</td><td>int64</td><td>int64</td><td>float64</td><td>float64</td></tr>\n",
       "</thead><tbody><tr><td>1:904165</td><td>[&quot;G&quot;,&quot;A&quot;]</td><td>NA</td><td>5.23e+04</td><td>NA</td><td>[518]</td><td>[1.03e-01]</td><td>5020</td><td>-3.39e+00</td><td>-1.70e-01</td><td>17827</td><td>false</td><td>2.23e+00</td><td>NA</td><td>9.88e-02</td><td>[514]</td><td>[1.02e-01]</td><td>5.91e+01</td><td>0</td><td>1.45e+00</td><td>1.50e+01</td><td>6.29e+00</td><td>7.53e+00</td><td>4.00e+00</td><td>1.00e+00</td><td>2.20e+01</td><td>2.91e+01</td><td>2.34e+01</td><td>3.00e+00</td><td>9.90e+01</td><td>[556,86]</td><td>[8.66e-01,1.34e-01]</td><td>642</td><td>[250,15]</td><td>9.94e-01</td><td>321</td><td>2</td><td>0</td><td>56</td><td>71</td><td>2.32e-01</td><td>3.99e-05</td></tr>\n",
       "<tr><td>1:909917</td><td>[&quot;G&quot;,&quot;A&quot;]</td><td>NA</td><td>1.58e+03</td><td>NA</td><td>[18]</td><td>[3.73e-03]</td><td>4830</td><td>-1.48e+00</td><td>1.26e-01</td><td>14671</td><td>false</td><td>5.52e+00</td><td>NA</td><td>-5.00e-04</td><td>[15]</td><td>[3.11e-03]</td><td>5.91e+01</td><td>0</td><td>1.76e+00</td><td>1.37e+01</td><td>-1.43e+00</td><td>6.46e+00</td><td>3.93e+00</td><td>1.00e+00</td><td>2.30e+01</td><td>1.96e+01</td><td>1.22e+01</td><td>3.00e+00</td><td>6.80e+01</td><td>[623,5]</td><td>[9.92e-01,7.96e-03]</td><td>628</td><td>[310,1]</td><td>9.72e-01</td><td>314</td><td>9</td><td>0</td><td>3</td><td>4</td><td>1.58e-02</td><td>7.97e-03</td></tr>\n",
       "<tr><td>1:1509414</td><td>[&quot;AG&quot;,&quot;A&quot;]</td><td>NA</td><td>5.25e+01</td><td>NA</td><td>[23]</td><td>[4.65e-03]</td><td>4952</td><td>-8.26e+00</td><td>-6.83e+00</td><td>19926</td><td>false</td><td>6.75e+02</td><td>NA</td><td>-2.64e-02</td><td>[4]</td><td>[8.08e-04]</td><td>5.94e+01</td><td>0</td><td>-1.07e+01</td><td>3.00e-01</td><td>8.69e+00</td><td>6.35e+00</td><td>3.67e+00</td><td>1.00e+00</td><td>2.30e+01</td><td>1.80e+01</td><td>1.15e+01</td><td>0.00e+00</td><td>8.80e+01</td><td>[627,3]</td><td>[9.95e-01,4.76e-03]</td><td>630</td><td>[312,0]</td><td>9.75e-01</td><td>315</td><td>8</td><td>0</td><td>3</td><td>3</td><td>9.49e-03</td><td>5.02e-01</td></tr>\n",
       "<tr><td>1:1563691</td><td>[&quot;T&quot;,&quot;G&quot;]</td><td>NA</td><td>1.09e+03</td><td>NA</td><td>[64]</td><td>[1.30e-02]</td><td>4766</td><td>-3.87e+01</td><td>-5.39e+00</td><td>15357</td><td>false</td><td>1.90e+03</td><td>NA</td><td>2.70e-02</td><td>[22]</td><td>[4.62e-03]</td><td>5.90e+01</td><td>0</td><td>1.31e+00</td><td>5.05e+00</td><td>1.15e+00</td><td>6.84e+00</td><td>4.30e+00</td><td>1.00e+00</td><td>2.00e+01</td><td>1.87e+01</td><td>1.31e+01</td><td>0.00e+00</td><td>9.90e+01</td><td>[612,10]</td><td>[9.84e-01,1.61e-02]</td><td>622</td><td>[303,2]</td><td>9.63e-01</td><td>311</td><td>12</td><td>0</td><td>6</td><td>8</td><td>3.17e-02</td><td>8.13e-04</td></tr>\n",
       "<tr><td>1:1707740</td><td>[&quot;T&quot;,&quot;G&quot;]</td><td>NA</td><td>9.35e+04</td><td>NA</td><td>[997]</td><td>[1.98e-01]</td><td>5034</td><td>-4.04e+01</td><td>-2.87e-01</td><td>19902</td><td>false</td><td>3.31e+00</td><td>NA</td><td>3.87e-02</td><td>[983]</td><td>[1.95e-01]</td><td>5.83e+01</td><td>0</td><td>9.48e+00</td><td>1.36e+01</td><td>2.26e+00</td><td>8.22e+00</td><td>4.39e+00</td><td>1.00e+00</td><td>2.60e+01</td><td>3.57e+01</td><td>2.72e+01</td><td>3.00e+00</td><td>9.90e+01</td><td>[527,117]</td><td>[8.18e-01,1.82e-01]</td><td>644</td><td>[221,16]</td><td>9.97e-01</td><td>322</td><td>1</td><td>0</td><td>85</td><td>101</td><td>2.98e-01</td><td>4.85e-02</td></tr>\n",
       "<tr><td>1:2044130</td><td>[&quot;GTT&quot;,&quot;G&quot;]</td><td>NA</td><td>8.68e+04</td><td>NA</td><td>[882]</td><td>[1.76e-01]</td><td>5018</td><td>1.65e+01</td><td>-1.60e+01</td><td>15043</td><td>false</td><td>6.27e+02</td><td>NA</td><td>-2.05e-01</td><td>[883]</td><td>[1.76e-01]</td><td>5.72e+01</td><td>0</td><td>5.72e+00</td><td>7.82e+00</td><td>5.91e+00</td><td>6.43e+00</td><td>3.60e+00</td><td>1.00e+00</td><td>2.30e+01</td><td>3.94e+01</td><td>3.11e+01</td><td>0.00e+00</td><td>9.90e+01</td><td>[533,111]</td><td>[8.28e-01,1.72e-01]</td><td>644</td><td>[211,0]</td><td>9.97e-01</td><td>322</td><td>1</td><td>0</td><td>111</td><td>111</td><td>2.86e-01</td><td>1.19e-05</td></tr>\n",
       "<tr><td>1:2169908</td><td>[&quot;G&quot;,&quot;T&quot;]</td><td>NA</td><td>5.28e+02</td><td>NA</td><td>[11]</td><td>[2.24e-03]</td><td>4912</td><td>-4.06e+00</td><td>6.61e-01</td><td>16870</td><td>false</td><td>3.92e+00</td><td>NA</td><td>-5.60e-03</td><td>[7]</td><td>[1.43e-03]</td><td>5.89e+01</td><td>0</td><td>-3.12e-01</td><td>9.11e+00</td><td>-1.72e+00</td><td>7.39e+00</td><td>4.49e+00</td><td>1.00e+00</td><td>2.80e+01</td><td>2.21e+01</td><td>1.36e+01</td><td>3.00e+00</td><td>8.40e+01</td><td>[626,2]</td><td>[9.97e-01,3.18e-03]</td><td>628</td><td>[312,0]</td><td>9.72e-01</td><td>314</td><td>9</td><td>0</td><td>2</td><td>2</td><td>6.36e-03</td><td>5.01e-01</td></tr>\n",
       "<tr><td>1:2252970</td><td>[&quot;C&quot;,&quot;T&quot;]</td><td>NA</td><td>7.36e+02</td><td>NA</td><td>[6]</td><td>[1.28e-03]</td><td>4682</td><td>-1.22e+00</td><td>1.79e+00</td><td>14900</td><td>false</td><td>2.82e+00</td><td>NA</td><td>-8.20e-03</td><td>[6]</td><td>[1.28e-03]</td><td>5.87e+01</td><td>0</td><td>9.57e-01</td><td>1.02e+01</td><td>6.67e-01</td><td>6.79e+00</td><td>4.55e+00</td><td>1.00e+00</td><td>2.80e+01</td><td>2.03e+01</td><td>1.47e+01</td><td>2.00e+00</td><td>9.90e+01</td><td>[618,2]</td><td>[9.97e-01,3.23e-03]</td><td>620</td><td>[308,0]</td><td>9.60e-01</td><td>310</td><td>13</td><td>0</td><td>2</td><td>2</td><td>6.44e-03</td><td>5.01e-01</td></tr>\n",
       "<tr><td>1:2284195</td><td>[&quot;T&quot;,&quot;C&quot;]</td><td>NA</td><td>1.42e+05</td><td>NA</td><td>[1559]</td><td>[3.12e-01]</td><td>4990</td><td>-4.60e+01</td><td>3.50e-01</td><td>18176</td><td>false</td><td>2.95e+00</td><td>NA</td><td>9.25e-02</td><td>[1552]</td><td>[3.11e-01]</td><td>5.86e+01</td><td>0</td><td>1.61e+01</td><td>1.55e+01</td><td>-6.82e-01</td><td>7.75e+00</td><td>4.19e+00</td><td>1.00e+00</td><td>2.20e+01</td><td>3.68e+01</td><td>2.93e+01</td><td>0.00e+00</td><td>9.90e+01</td><td>[441,195]</td><td>[6.93e-01,3.07e-01]</td><td>636</td><td>[160,37]</td><td>9.85e-01</td><td>318</td><td>5</td><td>0</td><td>121</td><td>158</td><td>4.26e-01</td><td>5.61e-02</td></tr>\n",
       "<tr><td>1:2686238</td><td>[&quot;A&quot;,&quot;T&quot;]</td><td>NA</td><td>1.10e+03</td><td>NA</td><td>[40]</td><td>[8.01e-03]</td><td>4994</td><td>-3.32e+00</td><td>6.40e-01</td><td>7787</td><td>false</td><td>4.02e-01</td><td>NA</td><td>2.63e-01</td><td>[28]</td><td>[5.61e-03]</td><td>3.67e+01</td><td>0</td><td>2.34e+00</td><td>7.84e+00</td><td>9.40e-02</td><td>3.81e+00</td><td>2.57e+00</td><td>1.00e+00</td><td>1.80e+01</td><td>2.07e+01</td><td>1.44e+01</td><td>1.00e+00</td><td>9.90e+01</td><td>[634,4]</td><td>[9.94e-01,6.27e-03]</td><td>638</td><td>[316,1]</td><td>9.88e-01</td><td>319</td><td>4</td><td>0</td><td>2</td><td>3</td><td>1.25e-02</td><td>4.71e-03</td></tr>\n",
       "<tr><td>1:2779043</td><td>[&quot;T&quot;,&quot;C&quot;]</td><td>NA</td><td>2.89e+05</td><td>NA</td><td>[3532]</td><td>[7.26e-01]</td><td>4866</td><td>1.74e+01</td><td>2.13e+00</td><td>12878</td><td>false</td><td>2.55e+01</td><td>NA</td><td>1.44e-01</td><td>[3545]</td><td>[7.29e-01]</td><td>5.88e+01</td><td>0</td><td>-7.00e-02</td><td>2.52e+01</td><td>-1.80e+00</td><td>5.35e+00</td><td>2.94e+00</td><td>1.00e+00</td><td>1.50e+01</td><td>2.54e+01</td><td>2.31e+01</td><td>0.00e+00</td><td>9.90e+01</td><td>[177,451]</td><td>[2.82e-01,7.18e-01]</td><td>628</td><td>[38,175]</td><td>9.72e-01</td><td>314</td><td>9</td><td>0</td><td>101</td><td>276</td><td>4.05e-01</td><td>3.43e-04</td></tr>\n",
       "<tr><td>1:2944527</td><td>[&quot;G&quot;,&quot;A&quot;]</td><td>NA</td><td>1.24e+05</td><td>NA</td><td>[1206]</td><td>[2.45e-01]</td><td>4928</td><td>6.30e-02</td><td>-6.55e-01</td><td>17698</td><td>false</td><td>4.49e-01</td><td>NA</td><td>1.23e-01</td><td>[1192]</td><td>[2.42e-01]</td><td>5.82e+01</td><td>0</td><td>1.20e+01</td><td>1.75e+01</td><td>2.18e+01</td><td>7.82e+00</td><td>4.76e+00</td><td>1.00e+00</td><td>3.10e+01</td><td>3.69e+01</td><td>3.03e+01</td><td>2.00e+00</td><td>9.90e+01</td><td>[500,136]</td><td>[7.86e-01,2.14e-01]</td><td>636</td><td>[196,14]</td><td>9.85e-01</td><td>318</td><td>5</td><td>0</td><td>108</td><td>122</td><td>3.37e-01</td><td>9.34e-01</td></tr>\n",
       "<tr><td>1:3713237</td><td>[&quot;T&quot;,&quot;G&quot;]</td><td>NA</td><td>2.40e+03</td><td>NA</td><td>[320]</td><td>[6.30e-02]</td><td>5040</td><td>-5.51e+01</td><td>5.03e+00</td><td>11616</td><td>false</td><td>3.20e+03</td><td>NA</td><td>-1.26e-02</td><td>[205]</td><td>[4.10e-02]</td><td>5.83e+01</td><td>0</td><td>-6.18e+00</td><td>1.41e+00</td><td>1.08e+01</td><td>5.40e+00</td><td>3.57e+00</td><td>1.00e+00</td><td>2.30e+01</td><td>2.09e+01</td><td>1.57e+01</td><td>0.00e+00</td><td>9.90e+01</td><td>[603,43]</td><td>[9.33e-01,6.66e-02]</td><td>646</td><td>[281,1]</td><td>1.00e+00</td><td>323</td><td>0</td><td>0</td><td>41</td><td>42</td><td>1.24e-01</td><td>8.20e-01</td></tr>\n",
       "<tr><td>1:3761547</td><td>[&quot;C&quot;,&quot;A&quot;]</td><td>NA</td><td>1.61e+03</td><td>NA</td><td>[30]</td><td>[5.95e-03]</td><td>5044</td><td>-4.47e+00</td><td>-8.82e+00</td><td>16845</td><td>false</td><td>2.06e+00</td><td>NA</td><td>-4.70e-03</td><td>[28]</td><td>[5.55e-03]</td><td>5.70e+01</td><td>0</td><td>6.30e+00</td><td>7.99e+00</td><td>-1.75e+00</td><td>6.80e+00</td><td>3.78e+00</td><td>1.00e+00</td><td>2.40e+01</td><td>2.80e+01</td><td>1.68e+01</td><td>3.00e+00</td><td>9.90e+01</td><td>[638,6]</td><td>[9.91e-01,9.32e-03]</td><td>644</td><td>[316,0]</td><td>9.97e-01</td><td>322</td><td>1</td><td>0</td><td>6</td><td>6</td><td>1.85e-02</td><td>5.12e-01</td></tr>\n",
       "<tr><td>1:3803755</td><td>[&quot;T&quot;,&quot;C&quot;]</td><td>NA</td><td>3.84e+05</td><td>NA</td><td>[3368]</td><td>[6.73e-01]</td><td>5008</td><td>-5.38e+01</td><td>-6.84e+00</td><td>17687</td><td>false</td><td>9.58e+00</td><td>NA</td><td>8.12e-02</td><td>[3376]</td><td>[6.74e-01]</td><td>5.80e+01</td><td>0</td><td>2.63e+01</td><td>2.49e+01</td><td>-4.33e-01</td><td>7.30e+00</td><td>3.64e+00</td><td>1.00e+00</td><td>2.20e+01</td><td>3.67e+01</td><td>2.79e+01</td><td>0.00e+00</td><td>9.90e+01</td><td>[206,440]</td><td>[3.19e-01,6.81e-01]</td><td>646</td><td>[47,164]</td><td>1.00e+00</td><td>323</td><td>0</td><td>0</td><td>112</td><td>276</td><td>4.35e-01</td><td>2.53e-04</td></tr>\n",
       "<tr><td>1:4121584</td><td>[&quot;A&quot;,&quot;G&quot;]</td><td>NA</td><td>1.15e+05</td><td>NA</td><td>[1489]</td><td>[3.00e-01]</td><td>4962</td><td>-2.70e+01</td><td>-7.19e-01</td><td>16179</td><td>false</td><td>2.27e+01</td><td>NA</td><td>1.04e-01</td><td>[1465]</td><td>[2.95e-01]</td><td>5.86e+01</td><td>0</td><td>2.85e+00</td><td>1.43e+01</td><td>-4.91e+00</td><td>7.14e+00</td><td>4.57e+00</td><td>1.00e+00</td><td>3.00e+01</td><td>3.55e+01</td><td>2.85e+01</td><td>3.00e+00</td><td>9.90e+01</td><td>[437,203]</td><td>[6.83e-01,3.17e-01]</td><td>640</td><td>[173,56]</td><td>9.91e-01</td><td>320</td><td>3</td><td>0</td><td>91</td><td>147</td><td>4.34e-01</td><td>9.73e-10</td></tr>\n",
       "<tr><td>1:4170048</td><td>[&quot;C&quot;,&quot;T&quot;]</td><td>NA</td><td>1.20e+05</td><td>NA</td><td>[1323]</td><td>[2.66e-01]</td><td>4980</td><td>-1.25e+01</td><td>-1.03e+01</td><td>16375</td><td>false</td><td>4.37e+00</td><td>NA</td><td>1.30e-01</td><td>[1313]</td><td>[2.64e-01]</td><td>5.90e+01</td><td>0</td><td>7.41e+00</td><td>1.67e+01</td><td>1.06e+00</td><td>6.86e+00</td><td>4.18e+00</td><td>1.00e+00</td><td>3.00e+01</td><td>3.35e+01</td><td>2.83e+01</td><td>0.00e+00</td><td>9.90e+01</td><td>[470,170]</td><td>[7.34e-01,2.66e-01]</td><td>640</td><td>[181,31]</td><td>9.91e-01</td><td>320</td><td>3</td><td>0</td><td>108</td><td>139</td><td>3.91e-01</td><td>1.80e-02</td></tr>\n",
       "<tr><td>1:4180842</td><td>[&quot;C&quot;,&quot;T&quot;]</td><td>NA</td><td>1.38e+05</td><td>NA</td><td>[1429]</td><td>[2.86e-01]</td><td>4996</td><td>5.43e+01</td><td>-2.07e-01</td><td>15845</td><td>false</td><td>3.21e-01</td><td>NA</td><td>8.15e-02</td><td>[1430]</td><td>[2.86e-01]</td><td>5.92e+01</td><td>0</td><td>-1.48e+00</td><td>1.80e+01</td><td>-1.48e+00</td><td>6.71e+00</td><td>3.96e+00</td><td>1.00e+00</td><td>2.60e+01</td><td>3.37e+01</td><td>2.94e+01</td><td>0.00e+00</td><td>9.90e+01</td><td>[467,175]</td><td>[7.27e-01,2.73e-01]</td><td>642</td><td>[179,33]</td><td>9.94e-01</td><td>321</td><td>2</td><td>0</td><td>109</td><td>142</td><td>3.97e-01</td><td>9.15e-03</td></tr>\n",
       "<tr><td>1:6053630</td><td>[&quot;T&quot;,&quot;G&quot;]</td><td>NA</td><td>1.85e+05</td><td>NA</td><td>[1914]</td><td>[4.00e-01]</td><td>4780</td><td>3.02e+00</td><td>3.74e+00</td><td>13690</td><td>false</td><td>7.77e+00</td><td>NA</td><td>1.32e-01</td><td>[1923]</td><td>[4.02e-01]</td><td>5.90e+01</td><td>0</td><td>3.25e-01</td><td>2.28e+01</td><td>6.06e+00</td><td>6.22e+00</td><td>4.01e+00</td><td>1.00e+00</td><td>3.10e+01</td><td>3.30e+01</td><td>2.93e+01</td><td>0.00e+00</td><td>9.90e+01</td><td>[367,259]</td><td>[5.86e-01,4.14e-01]</td><td>626</td><td>[126,72]</td><td>9.69e-01</td><td>313</td><td>10</td><td>0</td><td>115</td><td>187</td><td>4.86e-01</td><td>2.00e-05</td></tr>\n",
       "<tr><td>1:6279383</td><td>[&quot;G&quot;,&quot;C&quot;]</td><td>NA</td><td>1.27e+03</td><td>NA</td><td>[16]</td><td>[3.20e-03]</td><td>5004</td><td>-4.32e+00</td><td>-1.24e+00</td><td>15942</td><td>false</td><td>3.28e+00</td><td>NA</td><td>-2.80e-02</td><td>[15]</td><td>[3.00e-03]</td><td>5.82e+01</td><td>0</td><td>2.58e-01</td><td>1.08e+01</td><td>1.47e+00</td><td>6.92e+00</td><td>3.97e+00</td><td>1.00e+00</td><td>2.60e+01</td><td>2.14e+01</td><td>1.27e+01</td><td>2.00e+00</td><td>9.90e+01</td><td>[641,3]</td><td>[9.95e-01,4.66e-03]</td><td>644</td><td>[319,0]</td><td>9.97e-01</td><td>322</td><td>1</td><td>0</td><td>3</td><td>3</td><td>9.29e-03</td><td>5.02e-01</td></tr>\n",
       "<tr><td>1:7437415</td><td>[&quot;G&quot;,&quot;T&quot;]</td><td>NA</td><td>1.82e+03</td><td>NA</td><td>[22]</td><td>[4.37e-03]</td><td>5032</td><td>-3.55e+00</td><td>9.82e-01</td><td>17190</td><td>false</td><td>1.70e+00</td><td>NA</td><td>-7.90e-03</td><td>[20]</td><td>[3.98e-03]</td><td>5.91e+01</td><td>0</td><td>2.92e+00</td><td>1.10e+01</td><td>-1.10e-02</td><td>7.09e+00</td><td>3.95e+00</td><td>1.00e+00</td><td>3.00e+01</td><td>2.11e+01</td><td>1.18e+01</td><td>3.00e+00</td><td>9.00e+01</td><td>[634,0]</td><td>[1.00e+00,0.00e+00]</td><td>634</td><td>[317,0]</td><td>9.81e-01</td><td>317</td><td>6</td><td>0</td><td>0</td><td>0</td><td>0.00e+00</td><td>5.00e-01</td></tr>\n",
       "<tr><td>1:7569602</td><td>[&quot;C&quot;,&quot;T&quot;]</td><td>NA</td><td>3.30e+05</td><td>NA</td><td>[2774]</td><td>[5.51e-01]</td><td>5036</td><td>1.44e+01</td><td>-4.17e-01</td><td>17990</td><td>false</td><td>7.68e+00</td><td>NA</td><td>7.57e-02</td><td>[2777]</td><td>[5.51e-01]</td><td>5.89e+01</td><td>0</td><td>6.00e+00</td><td>2.33e+01</td><td>-6.50e-01</td><td>7.44e+00</td><td>4.46e+00</td><td>1.00e+00</td><td>3.30e+01</td><td>4.15e+01</td><td>3.21e+01</td><td>3.00e+00</td><td>9.90e+01</td><td>[299,343]</td><td>[4.66e-01,5.34e-01]</td><td>642</td><td>[76,98]</td><td>9.94e-01</td><td>321</td><td>2</td><td>0</td><td>147</td><td>245</td><td>4.98e-01</td><td>1.62e-01</td></tr>\n",
       "<tr><td>1:7575666</td><td>[&quot;T&quot;,&quot;C&quot;]</td><td>NA</td><td>7.58e+04</td><td>NA</td><td>[921]</td><td>[1.86e-01]</td><td>4958</td><td>-6.43e+00</td><td>-9.38e+00</td><td>15282</td><td>false</td><td>1.51e+00</td><td>NA</td><td>1.65e-01</td><td>[897]</td><td>[1.81e-01]</td><td>5.88e+01</td><td>0</td><td>2.02e+01</td><td>1.62e+01</td><td>-2.22e+00</td><td>6.53e+00</td><td>3.77e+00</td><td>1.00e+00</td><td>2.40e+01</td><td>2.73e+01</td><td>2.39e+01</td><td>2.00e+00</td><td>9.90e+01</td><td>[531,109]</td><td>[8.30e-01,1.70e-01]</td><td>640</td><td>[233,22]</td><td>9.91e-01</td><td>320</td><td>3</td><td>0</td><td>65</td><td>87</td><td>2.83e-01</td><td>2.14e-06</td></tr>\n",
       "<tr><td>1:7811961</td><td>[&quot;A&quot;,&quot;G&quot;]</td><td>NA</td><td>1.08e+05</td><td>NA</td><td>[1188]</td><td>[2.35e-01]</td><td>5048</td><td>-5.44e+01</td><td>-4.24e+00</td><td>18921</td><td>false</td><td>1.77e+01</td><td>NA</td><td>9.02e-02</td><td>[1175]</td><td>[2.33e-01]</td><td>5.90e+01</td><td>0</td><td>7.54e+00</td><td>1.45e+01</td><td>1.54e+00</td><td>8.25e+00</td><td>4.79e+00</td><td>1.00e+00</td><td>4.00e+01</td><td>3.52e+01</td><td>2.74e+01</td><td>2.00e+00</td><td>9.90e+01</td><td>[504,140]</td><td>[7.83e-01,2.17e-01]</td><td>644</td><td>[209,27]</td><td>9.97e-01</td><td>322</td><td>1</td><td>0</td><td>86</td><td>113</td><td>3.41e-01</td><td>1.79e-04</td></tr>\n",
       "</tbody></table><p style=\"background: #fdd; padding: 0.4em;\">showing top 24 rows</p>\n"
      ],
      "text/plain": [
       "+---------------+-------------+------+----------+----------+--------------+----------------+---------+-------------------+----------------------+---------+---------+----------+\n",
       "| locus         | alleles     | rsid |     qual | filters  | info.AC      | info.AF        | info.AN | info.BaseQRankSum | info.ClippingRankSum | info.DP | info.DS |  info.FS |\n",
       "+---------------+-------------+------+----------+----------+--------------+----------------+---------+-------------------+----------------------+---------+---------+----------+\n",
       "| locus<GRCh37> | array<str>  | str  |  float64 | set<str> | array<int32> | array<float64> |   int32 |           float64 |              float64 |   int32 |    bool |  float64 |\n",
       "+---------------+-------------+------+----------+----------+--------------+----------------+---------+-------------------+----------------------+---------+---------+----------+\n",
       "| 1:904165      | [\"G\",\"A\"]   | NA   | 5.23e+04 | NA       | [518]        | [1.03e-01]     |    5020 |         -3.39e+00 |            -1.70e-01 |   17827 |   false | 2.23e+00 |\n",
       "| 1:909917      | [\"G\",\"A\"]   | NA   | 1.58e+03 | NA       | [18]         | [3.73e-03]     |    4830 |         -1.48e+00 |             1.26e-01 |   14671 |   false | 5.52e+00 |\n",
       "| 1:1509414     | [\"AG\",\"A\"]  | NA   | 5.25e+01 | NA       | [23]         | [4.65e-03]     |    4952 |         -8.26e+00 |            -6.83e+00 |   19926 |   false | 6.75e+02 |\n",
       "| 1:1563691     | [\"T\",\"G\"]   | NA   | 1.09e+03 | NA       | [64]         | [1.30e-02]     |    4766 |         -3.87e+01 |            -5.39e+00 |   15357 |   false | 1.90e+03 |\n",
       "| 1:1707740     | [\"T\",\"G\"]   | NA   | 9.35e+04 | NA       | [997]        | [1.98e-01]     |    5034 |         -4.04e+01 |            -2.87e-01 |   19902 |   false | 3.31e+00 |\n",
       "| 1:2044130     | [\"GTT\",\"G\"] | NA   | 8.68e+04 | NA       | [882]        | [1.76e-01]     |    5018 |          1.65e+01 |            -1.60e+01 |   15043 |   false | 6.27e+02 |\n",
       "| 1:2169908     | [\"G\",\"T\"]   | NA   | 5.28e+02 | NA       | [11]         | [2.24e-03]     |    4912 |         -4.06e+00 |             6.61e-01 |   16870 |   false | 3.92e+00 |\n",
       "| 1:2252970     | [\"C\",\"T\"]   | NA   | 7.36e+02 | NA       | [6]          | [1.28e-03]     |    4682 |         -1.22e+00 |             1.79e+00 |   14900 |   false | 2.82e+00 |\n",
       "| 1:2284195     | [\"T\",\"C\"]   | NA   | 1.42e+05 | NA       | [1559]       | [3.12e-01]     |    4990 |         -4.60e+01 |             3.50e-01 |   18176 |   false | 2.95e+00 |\n",
       "| 1:2686238     | [\"A\",\"T\"]   | NA   | 1.10e+03 | NA       | [40]         | [8.01e-03]     |    4994 |         -3.32e+00 |             6.40e-01 |    7787 |   false | 4.02e-01 |\n",
       "| 1:2779043     | [\"T\",\"C\"]   | NA   | 2.89e+05 | NA       | [3532]       | [7.26e-01]     |    4866 |          1.74e+01 |             2.13e+00 |   12878 |   false | 2.55e+01 |\n",
       "| 1:2944527     | [\"G\",\"A\"]   | NA   | 1.24e+05 | NA       | [1206]       | [2.45e-01]     |    4928 |          6.30e-02 |            -6.55e-01 |   17698 |   false | 4.49e-01 |\n",
       "| 1:3713237     | [\"T\",\"G\"]   | NA   | 2.40e+03 | NA       | [320]        | [6.30e-02]     |    5040 |         -5.51e+01 |             5.03e+00 |   11616 |   false | 3.20e+03 |\n",
       "| 1:3761547     | [\"C\",\"A\"]   | NA   | 1.61e+03 | NA       | [30]         | [5.95e-03]     |    5044 |         -4.47e+00 |            -8.82e+00 |   16845 |   false | 2.06e+00 |\n",
       "| 1:3803755     | [\"T\",\"C\"]   | NA   | 3.84e+05 | NA       | [3368]       | [6.73e-01]     |    5008 |         -5.38e+01 |            -6.84e+00 |   17687 |   false | 9.58e+00 |\n",
       "| 1:4121584     | [\"A\",\"G\"]   | NA   | 1.15e+05 | NA       | [1489]       | [3.00e-01]     |    4962 |         -2.70e+01 |            -7.19e-01 |   16179 |   false | 2.27e+01 |\n",
       "| 1:4170048     | [\"C\",\"T\"]   | NA   | 1.20e+05 | NA       | [1323]       | [2.66e-01]     |    4980 |         -1.25e+01 |            -1.03e+01 |   16375 |   false | 4.37e+00 |\n",
       "| 1:4180842     | [\"C\",\"T\"]   | NA   | 1.38e+05 | NA       | [1429]       | [2.86e-01]     |    4996 |          5.43e+01 |            -2.07e-01 |   15845 |   false | 3.21e-01 |\n",
       "| 1:6053630     | [\"T\",\"G\"]   | NA   | 1.85e+05 | NA       | [1914]       | [4.00e-01]     |    4780 |          3.02e+00 |             3.74e+00 |   13690 |   false | 7.77e+00 |\n",
       "| 1:6279383     | [\"G\",\"C\"]   | NA   | 1.27e+03 | NA       | [16]         | [3.20e-03]     |    5004 |         -4.32e+00 |            -1.24e+00 |   15942 |   false | 3.28e+00 |\n",
       "| 1:7437415     | [\"G\",\"T\"]   | NA   | 1.82e+03 | NA       | [22]         | [4.37e-03]     |    5032 |         -3.55e+00 |             9.82e-01 |   17190 |   false | 1.70e+00 |\n",
       "| 1:7569602     | [\"C\",\"T\"]   | NA   | 3.30e+05 | NA       | [2774]       | [5.51e-01]     |    5036 |          1.44e+01 |            -4.17e-01 |   17990 |   false | 7.68e+00 |\n",
       "| 1:7575666     | [\"T\",\"C\"]   | NA   | 7.58e+04 | NA       | [921]        | [1.86e-01]     |    4958 |         -6.43e+00 |            -9.38e+00 |   15282 |   false | 1.51e+00 |\n",
       "| 1:7811961     | [\"A\",\"G\"]   | NA   | 1.08e+05 | NA       | [1188]       | [2.35e-01]     |    5048 |         -5.44e+01 |            -4.24e+00 |   18921 |   false | 1.77e+01 |\n",
       "+---------------+-------------+------+----------+----------+--------------+----------------+---------+-------------------+----------------------+---------+---------+----------+\n",
       "\n",
       "+---------------------+----------------------+--------------+----------------+----------+----------+----------------+----------+---------------------+--------------------------+\n",
       "| info.HaplotypeScore | info.InbreedingCoeff | info.MLEAC   | info.MLEAF     |  info.MQ | info.MQ0 | info.MQRankSum |  info.QD | info.ReadPosRankSum | variant_qc.dp_stats.mean |\n",
       "+---------------------+----------------------+--------------+----------------+----------+----------+----------------+----------+---------------------+--------------------------+\n",
       "|             float64 |              float64 | array<int32> | array<float64> |  float64 |    int32 |        float64 |  float64 |             float64 |                  float64 |\n",
       "+---------------------+----------------------+--------------+----------------+----------+----------+----------------+----------+---------------------+--------------------------+\n",
       "|                  NA |             9.88e-02 | [514]        | [1.02e-01]     | 5.91e+01 |        0 |       1.45e+00 | 1.50e+01 |            6.29e+00 |                 7.53e+00 |\n",
       "|                  NA |            -5.00e-04 | [15]         | [3.11e-03]     | 5.91e+01 |        0 |       1.76e+00 | 1.37e+01 |           -1.43e+00 |                 6.46e+00 |\n",
       "|                  NA |            -2.64e-02 | [4]          | [8.08e-04]     | 5.94e+01 |        0 |      -1.07e+01 | 3.00e-01 |            8.69e+00 |                 6.35e+00 |\n",
       "|                  NA |             2.70e-02 | [22]         | [4.62e-03]     | 5.90e+01 |        0 |       1.31e+00 | 5.05e+00 |            1.15e+00 |                 6.84e+00 |\n",
       "|                  NA |             3.87e-02 | [983]        | [1.95e-01]     | 5.83e+01 |        0 |       9.48e+00 | 1.36e+01 |            2.26e+00 |                 8.22e+00 |\n",
       "|                  NA |            -2.05e-01 | [883]        | [1.76e-01]     | 5.72e+01 |        0 |       5.72e+00 | 7.82e+00 |            5.91e+00 |                 6.43e+00 |\n",
       "|                  NA |            -5.60e-03 | [7]          | [1.43e-03]     | 5.89e+01 |        0 |      -3.12e-01 | 9.11e+00 |           -1.72e+00 |                 7.39e+00 |\n",
       "|                  NA |            -8.20e-03 | [6]          | [1.28e-03]     | 5.87e+01 |        0 |       9.57e-01 | 1.02e+01 |            6.67e-01 |                 6.79e+00 |\n",
       "|                  NA |             9.25e-02 | [1552]       | [3.11e-01]     | 5.86e+01 |        0 |       1.61e+01 | 1.55e+01 |           -6.82e-01 |                 7.75e+00 |\n",
       "|                  NA |             2.63e-01 | [28]         | [5.61e-03]     | 3.67e+01 |        0 |       2.34e+00 | 7.84e+00 |            9.40e-02 |                 3.81e+00 |\n",
       "|                  NA |             1.44e-01 | [3545]       | [7.29e-01]     | 5.88e+01 |        0 |      -7.00e-02 | 2.52e+01 |           -1.80e+00 |                 5.35e+00 |\n",
       "|                  NA |             1.23e-01 | [1192]       | [2.42e-01]     | 5.82e+01 |        0 |       1.20e+01 | 1.75e+01 |            2.18e+01 |                 7.82e+00 |\n",
       "|                  NA |            -1.26e-02 | [205]        | [4.10e-02]     | 5.83e+01 |        0 |      -6.18e+00 | 1.41e+00 |            1.08e+01 |                 5.40e+00 |\n",
       "|                  NA |            -4.70e-03 | [28]         | [5.55e-03]     | 5.70e+01 |        0 |       6.30e+00 | 7.99e+00 |           -1.75e+00 |                 6.80e+00 |\n",
       "|                  NA |             8.12e-02 | [3376]       | [6.74e-01]     | 5.80e+01 |        0 |       2.63e+01 | 2.49e+01 |           -4.33e-01 |                 7.30e+00 |\n",
       "|                  NA |             1.04e-01 | [1465]       | [2.95e-01]     | 5.86e+01 |        0 |       2.85e+00 | 1.43e+01 |           -4.91e+00 |                 7.14e+00 |\n",
       "|                  NA |             1.30e-01 | [1313]       | [2.64e-01]     | 5.90e+01 |        0 |       7.41e+00 | 1.67e+01 |            1.06e+00 |                 6.86e+00 |\n",
       "|                  NA |             8.15e-02 | [1430]       | [2.86e-01]     | 5.92e+01 |        0 |      -1.48e+00 | 1.80e+01 |           -1.48e+00 |                 6.71e+00 |\n",
       "|                  NA |             1.32e-01 | [1923]       | [4.02e-01]     | 5.90e+01 |        0 |       3.25e-01 | 2.28e+01 |            6.06e+00 |                 6.22e+00 |\n",
       "|                  NA |            -2.80e-02 | [15]         | [3.00e-03]     | 5.82e+01 |        0 |       2.58e-01 | 1.08e+01 |            1.47e+00 |                 6.92e+00 |\n",
       "|                  NA |            -7.90e-03 | [20]         | [3.98e-03]     | 5.91e+01 |        0 |       2.92e+00 | 1.10e+01 |           -1.10e-02 |                 7.09e+00 |\n",
       "|                  NA |             7.57e-02 | [2777]       | [5.51e-01]     | 5.89e+01 |        0 |       6.00e+00 | 2.33e+01 |           -6.50e-01 |                 7.44e+00 |\n",
       "|                  NA |             1.65e-01 | [897]        | [1.81e-01]     | 5.88e+01 |        0 |       2.02e+01 | 1.62e+01 |           -2.22e+00 |                 6.53e+00 |\n",
       "|                  NA |             9.02e-02 | [1175]       | [2.33e-01]     | 5.90e+01 |        0 |       7.54e+00 | 1.45e+01 |            1.54e+00 |                 8.25e+00 |\n",
       "+---------------------+----------------------+--------------+----------------+----------+----------+----------------+----------+---------------------+--------------------------+\n",
       "\n",
       "+---------------------------+-------------------------+-------------------------+--------------------------+---------------------------+-------------------------+\n",
       "| variant_qc.dp_stats.stdev | variant_qc.dp_stats.min | variant_qc.dp_stats.max | variant_qc.gq_stats.mean | variant_qc.gq_stats.stdev | variant_qc.gq_stats.min |\n",
       "+---------------------------+-------------------------+-------------------------+--------------------------+---------------------------+-------------------------+\n",
       "|                   float64 |                 float64 |                 float64 |                  float64 |                   float64 |                 float64 |\n",
       "+---------------------------+-------------------------+-------------------------+--------------------------+---------------------------+-------------------------+\n",
       "|                  4.00e+00 |                1.00e+00 |                2.20e+01 |                 2.91e+01 |                  2.34e+01 |                3.00e+00 |\n",
       "|                  3.93e+00 |                1.00e+00 |                2.30e+01 |                 1.96e+01 |                  1.22e+01 |                3.00e+00 |\n",
       "|                  3.67e+00 |                1.00e+00 |                2.30e+01 |                 1.80e+01 |                  1.15e+01 |                0.00e+00 |\n",
       "|                  4.30e+00 |                1.00e+00 |                2.00e+01 |                 1.87e+01 |                  1.31e+01 |                0.00e+00 |\n",
       "|                  4.39e+00 |                1.00e+00 |                2.60e+01 |                 3.57e+01 |                  2.72e+01 |                3.00e+00 |\n",
       "|                  3.60e+00 |                1.00e+00 |                2.30e+01 |                 3.94e+01 |                  3.11e+01 |                0.00e+00 |\n",
       "|                  4.49e+00 |                1.00e+00 |                2.80e+01 |                 2.21e+01 |                  1.36e+01 |                3.00e+00 |\n",
       "|                  4.55e+00 |                1.00e+00 |                2.80e+01 |                 2.03e+01 |                  1.47e+01 |                2.00e+00 |\n",
       "|                  4.19e+00 |                1.00e+00 |                2.20e+01 |                 3.68e+01 |                  2.93e+01 |                0.00e+00 |\n",
       "|                  2.57e+00 |                1.00e+00 |                1.80e+01 |                 2.07e+01 |                  1.44e+01 |                1.00e+00 |\n",
       "|                  2.94e+00 |                1.00e+00 |                1.50e+01 |                 2.54e+01 |                  2.31e+01 |                0.00e+00 |\n",
       "|                  4.76e+00 |                1.00e+00 |                3.10e+01 |                 3.69e+01 |                  3.03e+01 |                2.00e+00 |\n",
       "|                  3.57e+00 |                1.00e+00 |                2.30e+01 |                 2.09e+01 |                  1.57e+01 |                0.00e+00 |\n",
       "|                  3.78e+00 |                1.00e+00 |                2.40e+01 |                 2.80e+01 |                  1.68e+01 |                3.00e+00 |\n",
       "|                  3.64e+00 |                1.00e+00 |                2.20e+01 |                 3.67e+01 |                  2.79e+01 |                0.00e+00 |\n",
       "|                  4.57e+00 |                1.00e+00 |                3.00e+01 |                 3.55e+01 |                  2.85e+01 |                3.00e+00 |\n",
       "|                  4.18e+00 |                1.00e+00 |                3.00e+01 |                 3.35e+01 |                  2.83e+01 |                0.00e+00 |\n",
       "|                  3.96e+00 |                1.00e+00 |                2.60e+01 |                 3.37e+01 |                  2.94e+01 |                0.00e+00 |\n",
       "|                  4.01e+00 |                1.00e+00 |                3.10e+01 |                 3.30e+01 |                  2.93e+01 |                0.00e+00 |\n",
       "|                  3.97e+00 |                1.00e+00 |                2.60e+01 |                 2.14e+01 |                  1.27e+01 |                2.00e+00 |\n",
       "|                  3.95e+00 |                1.00e+00 |                3.00e+01 |                 2.11e+01 |                  1.18e+01 |                3.00e+00 |\n",
       "|                  4.46e+00 |                1.00e+00 |                3.30e+01 |                 4.15e+01 |                  3.21e+01 |                3.00e+00 |\n",
       "|                  3.77e+00 |                1.00e+00 |                2.40e+01 |                 2.73e+01 |                  2.39e+01 |                2.00e+00 |\n",
       "|                  4.79e+00 |                1.00e+00 |                4.00e+01 |                 3.52e+01 |                  2.74e+01 |                2.00e+00 |\n",
       "+---------------------------+-------------------------+-------------------------+--------------------------+---------------------------+-------------------------+\n",
       "\n",
       "+-------------------------+---------------+---------------------+---------------+-----------------------------+----------------------+---------------------+\n",
       "| variant_qc.gq_stats.max | variant_qc.AC | variant_qc.AF       | variant_qc.AN | variant_qc.homozygote_count | variant_qc.call_rate | variant_qc.n_called |\n",
       "+-------------------------+---------------+---------------------+---------------+-----------------------------+----------------------+---------------------+\n",
       "|                 float64 | array<int32>  | array<float64>      |         int32 | array<int32>                |              float64 |               int64 |\n",
       "+-------------------------+---------------+---------------------+---------------+-----------------------------+----------------------+---------------------+\n",
       "|                9.90e+01 | [556,86]      | [8.66e-01,1.34e-01] |           642 | [250,15]                    |             9.94e-01 |                 321 |\n",
       "|                6.80e+01 | [623,5]       | [9.92e-01,7.96e-03] |           628 | [310,1]                     |             9.72e-01 |                 314 |\n",
       "|                8.80e+01 | [627,3]       | [9.95e-01,4.76e-03] |           630 | [312,0]                     |             9.75e-01 |                 315 |\n",
       "|                9.90e+01 | [612,10]      | [9.84e-01,1.61e-02] |           622 | [303,2]                     |             9.63e-01 |                 311 |\n",
       "|                9.90e+01 | [527,117]     | [8.18e-01,1.82e-01] |           644 | [221,16]                    |             9.97e-01 |                 322 |\n",
       "|                9.90e+01 | [533,111]     | [8.28e-01,1.72e-01] |           644 | [211,0]                     |             9.97e-01 |                 322 |\n",
       "|                8.40e+01 | [626,2]       | [9.97e-01,3.18e-03] |           628 | [312,0]                     |             9.72e-01 |                 314 |\n",
       "|                9.90e+01 | [618,2]       | [9.97e-01,3.23e-03] |           620 | [308,0]                     |             9.60e-01 |                 310 |\n",
       "|                9.90e+01 | [441,195]     | [6.93e-01,3.07e-01] |           636 | [160,37]                    |             9.85e-01 |                 318 |\n",
       "|                9.90e+01 | [634,4]       | [9.94e-01,6.27e-03] |           638 | [316,1]                     |             9.88e-01 |                 319 |\n",
       "|                9.90e+01 | [177,451]     | [2.82e-01,7.18e-01] |           628 | [38,175]                    |             9.72e-01 |                 314 |\n",
       "|                9.90e+01 | [500,136]     | [7.86e-01,2.14e-01] |           636 | [196,14]                    |             9.85e-01 |                 318 |\n",
       "|                9.90e+01 | [603,43]      | [9.33e-01,6.66e-02] |           646 | [281,1]                     |             1.00e+00 |                 323 |\n",
       "|                9.90e+01 | [638,6]       | [9.91e-01,9.32e-03] |           644 | [316,0]                     |             9.97e-01 |                 322 |\n",
       "|                9.90e+01 | [206,440]     | [3.19e-01,6.81e-01] |           646 | [47,164]                    |             1.00e+00 |                 323 |\n",
       "|                9.90e+01 | [437,203]     | [6.83e-01,3.17e-01] |           640 | [173,56]                    |             9.91e-01 |                 320 |\n",
       "|                9.90e+01 | [470,170]     | [7.34e-01,2.66e-01] |           640 | [181,31]                    |             9.91e-01 |                 320 |\n",
       "|                9.90e+01 | [467,175]     | [7.27e-01,2.73e-01] |           642 | [179,33]                    |             9.94e-01 |                 321 |\n",
       "|                9.90e+01 | [367,259]     | [5.86e-01,4.14e-01] |           626 | [126,72]                    |             9.69e-01 |                 313 |\n",
       "|                9.90e+01 | [641,3]       | [9.95e-01,4.66e-03] |           644 | [319,0]                     |             9.97e-01 |                 322 |\n",
       "|                9.00e+01 | [634,0]       | [1.00e+00,0.00e+00] |           634 | [317,0]                     |             9.81e-01 |                 317 |\n",
       "|                9.90e+01 | [299,343]     | [4.66e-01,5.34e-01] |           642 | [76,98]                     |             9.94e-01 |                 321 |\n",
       "|                9.90e+01 | [531,109]     | [8.30e-01,1.70e-01] |           640 | [233,22]                    |             9.91e-01 |                 320 |\n",
       "|                9.90e+01 | [504,140]     | [7.83e-01,2.17e-01] |           644 | [209,27]                    |             9.97e-01 |                 322 |\n",
       "+-------------------------+---------------+---------------------+---------------+-----------------------------+----------------------+---------------------+\n",
       "\n",
       "+-------------------------+-----------------------+------------------+----------------------+-------------------------+------------------------+\n",
       "| variant_qc.n_not_called | variant_qc.n_filtered | variant_qc.n_het | variant_qc.n_non_ref | variant_qc.het_freq_hwe | variant_qc.p_value_hwe |\n",
       "+-------------------------+-----------------------+------------------+----------------------+-------------------------+------------------------+\n",
       "|                   int64 |                 int64 |            int64 |                int64 |                 float64 |                float64 |\n",
       "+-------------------------+-----------------------+------------------+----------------------+-------------------------+------------------------+\n",
       "|                       2 |                     0 |               56 |                   71 |                2.32e-01 |               3.99e-05 |\n",
       "|                       9 |                     0 |                3 |                    4 |                1.58e-02 |               7.97e-03 |\n",
       "|                       8 |                     0 |                3 |                    3 |                9.49e-03 |               5.02e-01 |\n",
       "|                      12 |                     0 |                6 |                    8 |                3.17e-02 |               8.13e-04 |\n",
       "|                       1 |                     0 |               85 |                  101 |                2.98e-01 |               4.85e-02 |\n",
       "|                       1 |                     0 |              111 |                  111 |                2.86e-01 |               1.19e-05 |\n",
       "|                       9 |                     0 |                2 |                    2 |                6.36e-03 |               5.01e-01 |\n",
       "|                      13 |                     0 |                2 |                    2 |                6.44e-03 |               5.01e-01 |\n",
       "|                       5 |                     0 |              121 |                  158 |                4.26e-01 |               5.61e-02 |\n",
       "|                       4 |                     0 |                2 |                    3 |                1.25e-02 |               4.71e-03 |\n",
       "|                       9 |                     0 |              101 |                  276 |                4.05e-01 |               3.43e-04 |\n",
       "|                       5 |                     0 |              108 |                  122 |                3.37e-01 |               9.34e-01 |\n",
       "|                       0 |                     0 |               41 |                   42 |                1.24e-01 |               8.20e-01 |\n",
       "|                       1 |                     0 |                6 |                    6 |                1.85e-02 |               5.12e-01 |\n",
       "|                       0 |                     0 |              112 |                  276 |                4.35e-01 |               2.53e-04 |\n",
       "|                       3 |                     0 |               91 |                  147 |                4.34e-01 |               9.73e-10 |\n",
       "|                       3 |                     0 |              108 |                  139 |                3.91e-01 |               1.80e-02 |\n",
       "|                       2 |                     0 |              109 |                  142 |                3.97e-01 |               9.15e-03 |\n",
       "|                      10 |                     0 |              115 |                  187 |                4.86e-01 |               2.00e-05 |\n",
       "|                       1 |                     0 |                3 |                    3 |                9.29e-03 |               5.02e-01 |\n",
       "|                       6 |                     0 |                0 |                    0 |                0.00e+00 |               5.00e-01 |\n",
       "|                       2 |                     0 |              147 |                  245 |                4.98e-01 |               1.62e-01 |\n",
       "|                       3 |                     0 |               65 |                   87 |                2.83e-01 |               2.14e-06 |\n",
       "|                       1 |                     0 |               86 |                  113 |                3.41e-01 |               1.79e-04 |\n",
       "+-------------------------+-----------------------+------------------+----------------------+-------------------------+------------------------+\n",
       "showing top 24 rows"
      ]
     },
     "metadata": {},
     "output_type": "display_data"
    }
   ],
   "source": [
    "mt.rows().show()"
   ]
  },
  {
   "cell_type": "markdown",
   "metadata": {},
   "source": [
    "# Write QC'ed final dataset to disk"
   ]
  },
  {
   "cell_type": "code",
   "execution_count": 43,
   "metadata": {},
   "outputs": [
    {
     "name": "stderr",
     "output_type": "stream",
     "text": [
      "2020-04-17 17:07:38 Hail: INFO: wrote matrix table with 12681 rows and 323 columns in 4 partitions to output/post_qc.mt\n"
     ]
    }
   ],
   "source": [
    "mt.write('output/post_qc.mt', overwrite=True)"
   ]
  }
 ],
 "metadata": {
  "anaconda-cloud": {},
  "kernelspec": {
   "display_name": "Python 3",
   "language": "python",
   "name": "python3"
  },
  "language_info": {
   "codemirror_mode": {
    "name": "ipython",
    "version": 3
   },
   "file_extension": ".py",
   "mimetype": "text/x-python",
   "name": "python",
   "nbconvert_exporter": "python",
   "pygments_lexer": "ipython3",
   "version": "3.7.3"
  },
  "toc": {
   "base_numbering": 1,
   "nav_menu": {
    "height": "242px",
    "width": "283px"
   },
   "number_sections": true,
   "sideBar": true,
   "skip_h1_title": false,
   "title_cell": "Table of Contents",
   "title_sidebar": "Contents",
   "toc_cell": false,
   "toc_position": {},
   "toc_section_display": true,
   "toc_window_display": false
  }
 },
 "nbformat": 4,
 "nbformat_minor": 1
}
